{
 "cells": [
  {
   "cell_type": "code",
   "execution_count": 8,
   "id": "9e429098-52ba-454e-b5eb-e132e60c8d9c",
   "metadata": {
    "execution": {
     "iopub.execute_input": "2024-12-24T16:29:42.934665Z",
     "iopub.status.busy": "2024-12-24T16:29:42.934120Z",
     "iopub.status.idle": "2024-12-24T16:29:42.937491Z",
     "shell.execute_reply": "2024-12-24T16:29:42.937069Z",
     "shell.execute_reply.started": "2024-12-24T16:29:42.934648Z"
    }
   },
   "outputs": [],
   "source": [
    "from lsst.daf.butler import Butler\n",
    "from astropy.table import Table\n",
    "import pylab\n",
    "import numpy\n",
    "from astropy.stats import mad_std\n",
    "from tqdm import tqdm\n",
    "from astropy.io import fits\n",
    "import pandas as pd\n",
    "from scipy import stats\n",
    "from multiprocessing import Pool\n",
    "import pickle\n",
    "import os"
   ]
  },
  {
   "cell_type": "code",
   "execution_count": 9,
   "id": "21de34f6-b941-4388-bebd-8c884a33fb46",
   "metadata": {
    "execution": {
     "iopub.execute_input": "2024-12-24T16:29:43.346433Z",
     "iopub.status.busy": "2024-12-24T16:29:43.346313Z",
     "iopub.status.idle": "2024-12-24T16:29:43.522950Z",
     "shell.execute_reply": "2024-12-24T16:29:43.522541Z",
     "shell.execute_reply.started": "2024-12-24T16:29:43.346422Z"
    }
   },
   "outputs": [],
   "source": [
    "repo_path = \"embargo_new\"\n",
    "butler = Butler(repo_path,instrument='LSSTCam')\n",
    "registry = butler.registry"
   ]
  },
  {
   "cell_type": "markdown",
   "id": "83f33051-3aed-4270-bfbb-618e352c2730",
   "metadata": {},
   "source": [
    "We query what collections we have in the repository"
   ]
  },
  {
   "cell_type": "code",
   "execution_count": 10,
   "id": "2a0aee4c-1ad0-434a-8754-3e84fa4b9f96",
   "metadata": {
    "execution": {
     "iopub.execute_input": "2024-12-24T16:29:43.751504Z",
     "iopub.status.busy": "2024-12-24T16:29:43.751384Z",
     "iopub.status.idle": "2024-12-24T16:29:44.396623Z",
     "shell.execute_reply": "2024-12-24T16:29:44.396276Z",
     "shell.execute_reply.started": "2024-12-24T16:29:43.751493Z"
    }
   },
   "outputs": [
    {
     "data": {
      "text/plain": [
       "['u/lsstccs/eo_flat_gain_stability_pd_baseline_fix_E1496_w_2024_35/20241031T044355Z',\n",
       " 'u/lsstccs/eo_flat_gain_stability_E1496_w_2024_35/20241025T082704Z',\n",
       " 'u/lsstccs/eo_flat_gain_stability_pd_clippedmean_baseline_fix_E1496_w_2024_35/20241103T150501Z',\n",
       " 'u/lsstccs/eo_flat_gain_stability_pd_baseline_fix_E1496_w_2024_35',\n",
       " 'u/lsstccs/eo_flat_gain_stability_E1496_w_2024_35',\n",
       " 'u/lsstccs/eo_flat_gain_stability_pd_clippedmean_baseline_fix_E1496_w_2024_35']"
      ]
     },
     "execution_count": 10,
     "metadata": {},
     "output_type": "execute_result"
    }
   ],
   "source": [
    "#13590\n",
    "#13535\n",
    "#13525\n",
    "# https://confluence.slac.stanford.edu/pages/viewpage.action?pageId=405094202\n",
    "collections = list(registry.queryCollections(\"*stability*E1496*\"))\n",
    "collections"
   ]
  },
  {
   "cell_type": "markdown",
   "id": "50d7743b-1869-4de7-95ea-2eb14986b291",
   "metadata": {},
   "source": [
    "We query what dataset are in this collections"
   ]
  },
  {
   "cell_type": "code",
   "execution_count": 11,
   "id": "12620af4-b62f-4b62-8e81-11da4ef37760",
   "metadata": {
    "execution": {
     "iopub.execute_input": "2024-12-24T16:29:44.576910Z",
     "iopub.status.busy": "2024-12-24T16:29:44.576786Z",
     "iopub.status.idle": "2024-12-24T16:29:44.593881Z",
     "shell.execute_reply": "2024-12-24T16:29:44.593607Z",
     "shell.execute_reply.started": "2024-12-24T16:29:44.576899Z"
    }
   },
   "outputs": [
    {
     "data": {
      "text/plain": [
       "99"
      ]
     },
     "execution_count": 11,
     "metadata": {},
     "output_type": "execute_result"
    }
   ],
   "source": [
    "sensor=\"R23_S00\"\n",
    "detector=list(registry.queryDimensionRecords(\"detector\",instrument='LSSTCam',where=f\"detector.full_name='{sensor}'\"))[0].id\n",
    "detector"
   ]
  },
  {
   "cell_type": "code",
   "execution_count": 12,
   "id": "b5b33814-644f-4f17-b47f-45d8eef9567e",
   "metadata": {
    "execution": {
     "iopub.execute_input": "2024-12-24T16:29:44.641821Z",
     "iopub.status.busy": "2024-12-24T16:29:44.641693Z",
     "iopub.status.idle": "2024-12-24T16:29:44.647357Z",
     "shell.execute_reply": "2024-12-24T16:29:44.647035Z",
     "shell.execute_reply.started": "2024-12-24T16:29:44.641809Z"
    }
   },
   "outputs": [],
   "source": [
    "import traceback\n",
    "def getcoef( detector ):\n",
    "    print(collections,detector)\n",
    "    df=butler.get('flat_gain_stability_stats',collections=collections,detector=detector)\n",
    "\n",
    "    expids=set(list(df['exposure']))\n",
    "\n",
    "    mjd=[]\n",
    "    temps1=[]\n",
    "    temps2=[]\n",
    "    expid=[]\n",
    "    ccdtemp=[]\n",
    "    atempu=[]\n",
    "    led1temp=[]\n",
    "    led2temp=[]    \n",
    "    for ref in tqdm(sorted( expids )[::]):\n",
    "        try:\n",
    "            header = butler.get('raw.metadata',\n",
    "                                dataId={\"exposure\": ref},\n",
    "                                collections=collections,detector=detector)\n",
    "            expid.append(ref)\n",
    "            temps1.append(header['TEMP6'])\n",
    "            temps2.append(header['TEMP10'])\n",
    "            mjd.append(header['MJD'])\n",
    "            ccdtemp.append(header['CCDTEMP'])\n",
    "            atempu.append(header['ATEMPU'])\n",
    "            led1temp.append(header['TEMPLED1'])\n",
    "            led2temp.append(header['TEMPLED2'])\n",
    "            \n",
    "        except:\n",
    "            traceback.print_exc()\n",
    "            pass\n",
    "\n",
    "    dfmerged=pd.merge(df, pd.DataFrame({'exposure': expid, 'TEMP6': temps1, 'TEMP10': temps2,\n",
    "                                        'MJD': mjd, 'CCDTEMP': ccdtemp, 'ATEMPU': atempu,\n",
    "                                        'LED1TEMP': led1temp, 'LED2TEMP': led2temp,\n",
    "                                       }), on='exposure', how='inner')\n",
    "\n",
    "    ret = {}\n",
    "    for amp in list(set(dfmerged.amp_name)):\n",
    "        subset=dfmerged[dfmerged['amp_name']==amp]\n",
    "        y0=(subset['median']/subset['pd_integral']).min()\n",
    "        x=(subset['TEMP6']+subset['TEMP10'])/2\n",
    "        y=subset['median']/subset['pd_integral']/y0\n",
    "        slope, intercept, r_value, p_value, std_err = stats.linregress(x,y)\n",
    "        ret.update( {amp: { \n",
    "            \"mjd\": subset['MJD'],\n",
    "            \"ccdtemp\": subset['CCDTEMP'],\n",
    "            \"ATEMPU\": subset['CCDTEMP'],            \n",
    "            \"x\": x,\n",
    "            \"y\": y,\n",
    "            \"y0\": y0,\n",
    "            \"slope\": slope,\n",
    "            \"intercept\": intercept,\n",
    "            \"r_value\": r_value,\n",
    "            \"p_value\": p_value,\n",
    "            \"std_err\": std_err } })\n",
    "    return ret"
   ]
  },
  {
   "cell_type": "code",
   "execution_count": null,
   "id": "e5fc941f-9ed7-4553-92f7-5aab56dc154d",
   "metadata": {
    "execution": {
     "iopub.execute_input": "2024-12-24T16:29:45.201201Z",
     "iopub.status.busy": "2024-12-24T16:29:45.201068Z"
    }
   },
   "outputs": [
    {
     "name": "stdout",
     "output_type": "stream",
     "text": [
      "0 R01_S00\n",
      "/home/y/youtsumi/notebooks/Run7/gaintemp_E1496/R01_S00.pickle\n",
      "['u/lsstccs/eo_flat_gain_stability_pd_baseline_fix_E1496_w_2024_35/20241031T044355Z', 'u/lsstccs/eo_flat_gain_stability_E1496_w_2024_35/20241025T082704Z', 'u/lsstccs/eo_flat_gain_stability_pd_clippedmean_baseline_fix_E1496_w_2024_35/20241103T150501Z', 'u/lsstccs/eo_flat_gain_stability_pd_baseline_fix_E1496_w_2024_35', 'u/lsstccs/eo_flat_gain_stability_E1496_w_2024_35', 'u/lsstccs/eo_flat_gain_stability_pd_clippedmean_baseline_fix_E1496_w_2024_35'] 0\n"
     ]
    },
    {
     "name": "stderr",
     "output_type": "stream",
     "text": [
      "100%|██████████| 555/555 [00:33<00:00, 16.71it/s]\n"
     ]
    },
    {
     "name": "stdout",
     "output_type": "stream",
     "text": [
      "1 R01_S01\n",
      "/home/y/youtsumi/notebooks/Run7/gaintemp_E1496/R01_S01.pickle\n",
      "['u/lsstccs/eo_flat_gain_stability_pd_baseline_fix_E1496_w_2024_35/20241031T044355Z', 'u/lsstccs/eo_flat_gain_stability_E1496_w_2024_35/20241025T082704Z', 'u/lsstccs/eo_flat_gain_stability_pd_clippedmean_baseline_fix_E1496_w_2024_35/20241103T150501Z', 'u/lsstccs/eo_flat_gain_stability_pd_baseline_fix_E1496_w_2024_35', 'u/lsstccs/eo_flat_gain_stability_E1496_w_2024_35', 'u/lsstccs/eo_flat_gain_stability_pd_clippedmean_baseline_fix_E1496_w_2024_35'] 1\n"
     ]
    },
    {
     "name": "stderr",
     "output_type": "stream",
     "text": [
      "100%|██████████| 555/555 [00:32<00:00, 16.82it/s]\n"
     ]
    },
    {
     "name": "stdout",
     "output_type": "stream",
     "text": [
      "2 R01_S02\n",
      "/home/y/youtsumi/notebooks/Run7/gaintemp_E1496/R01_S02.pickle\n",
      "['u/lsstccs/eo_flat_gain_stability_pd_baseline_fix_E1496_w_2024_35/20241031T044355Z', 'u/lsstccs/eo_flat_gain_stability_E1496_w_2024_35/20241025T082704Z', 'u/lsstccs/eo_flat_gain_stability_pd_clippedmean_baseline_fix_E1496_w_2024_35/20241103T150501Z', 'u/lsstccs/eo_flat_gain_stability_pd_baseline_fix_E1496_w_2024_35', 'u/lsstccs/eo_flat_gain_stability_E1496_w_2024_35', 'u/lsstccs/eo_flat_gain_stability_pd_clippedmean_baseline_fix_E1496_w_2024_35'] 2\n"
     ]
    },
    {
     "name": "stderr",
     "output_type": "stream",
     "text": [
      "100%|██████████| 555/555 [00:33<00:00, 16.67it/s]\n"
     ]
    },
    {
     "name": "stdout",
     "output_type": "stream",
     "text": [
      "3 R01_S10\n",
      "/home/y/youtsumi/notebooks/Run7/gaintemp_E1496/R01_S10.pickle\n",
      "['u/lsstccs/eo_flat_gain_stability_pd_baseline_fix_E1496_w_2024_35/20241031T044355Z', 'u/lsstccs/eo_flat_gain_stability_E1496_w_2024_35/20241025T082704Z', 'u/lsstccs/eo_flat_gain_stability_pd_clippedmean_baseline_fix_E1496_w_2024_35/20241103T150501Z', 'u/lsstccs/eo_flat_gain_stability_pd_baseline_fix_E1496_w_2024_35', 'u/lsstccs/eo_flat_gain_stability_E1496_w_2024_35', 'u/lsstccs/eo_flat_gain_stability_pd_clippedmean_baseline_fix_E1496_w_2024_35'] 3\n"
     ]
    },
    {
     "name": "stderr",
     "output_type": "stream",
     "text": [
      "100%|██████████| 555/555 [00:33<00:00, 16.51it/s]\n"
     ]
    },
    {
     "name": "stdout",
     "output_type": "stream",
     "text": [
      "4 R01_S11\n",
      "/home/y/youtsumi/notebooks/Run7/gaintemp_E1496/R01_S11.pickle\n",
      "['u/lsstccs/eo_flat_gain_stability_pd_baseline_fix_E1496_w_2024_35/20241031T044355Z', 'u/lsstccs/eo_flat_gain_stability_E1496_w_2024_35/20241025T082704Z', 'u/lsstccs/eo_flat_gain_stability_pd_clippedmean_baseline_fix_E1496_w_2024_35/20241103T150501Z', 'u/lsstccs/eo_flat_gain_stability_pd_baseline_fix_E1496_w_2024_35', 'u/lsstccs/eo_flat_gain_stability_E1496_w_2024_35', 'u/lsstccs/eo_flat_gain_stability_pd_clippedmean_baseline_fix_E1496_w_2024_35'] 4\n"
     ]
    },
    {
     "name": "stderr",
     "output_type": "stream",
     "text": [
      "100%|██████████| 555/555 [00:33<00:00, 16.51it/s]\n"
     ]
    },
    {
     "name": "stdout",
     "output_type": "stream",
     "text": [
      "5 R01_S12\n",
      "/home/y/youtsumi/notebooks/Run7/gaintemp_E1496/R01_S12.pickle\n",
      "['u/lsstccs/eo_flat_gain_stability_pd_baseline_fix_E1496_w_2024_35/20241031T044355Z', 'u/lsstccs/eo_flat_gain_stability_E1496_w_2024_35/20241025T082704Z', 'u/lsstccs/eo_flat_gain_stability_pd_clippedmean_baseline_fix_E1496_w_2024_35/20241103T150501Z', 'u/lsstccs/eo_flat_gain_stability_pd_baseline_fix_E1496_w_2024_35', 'u/lsstccs/eo_flat_gain_stability_E1496_w_2024_35', 'u/lsstccs/eo_flat_gain_stability_pd_clippedmean_baseline_fix_E1496_w_2024_35'] 5\n"
     ]
    },
    {
     "name": "stderr",
     "output_type": "stream",
     "text": [
      "100%|██████████| 555/555 [00:33<00:00, 16.63it/s]\n"
     ]
    },
    {
     "name": "stdout",
     "output_type": "stream",
     "text": [
      "6 R01_S20\n",
      "/home/y/youtsumi/notebooks/Run7/gaintemp_E1496/R01_S20.pickle\n",
      "['u/lsstccs/eo_flat_gain_stability_pd_baseline_fix_E1496_w_2024_35/20241031T044355Z', 'u/lsstccs/eo_flat_gain_stability_E1496_w_2024_35/20241025T082704Z', 'u/lsstccs/eo_flat_gain_stability_pd_clippedmean_baseline_fix_E1496_w_2024_35/20241103T150501Z', 'u/lsstccs/eo_flat_gain_stability_pd_baseline_fix_E1496_w_2024_35', 'u/lsstccs/eo_flat_gain_stability_E1496_w_2024_35', 'u/lsstccs/eo_flat_gain_stability_pd_clippedmean_baseline_fix_E1496_w_2024_35'] 6\n"
     ]
    },
    {
     "name": "stderr",
     "output_type": "stream",
     "text": [
      "100%|██████████| 555/555 [00:32<00:00, 16.90it/s]\n"
     ]
    },
    {
     "name": "stdout",
     "output_type": "stream",
     "text": [
      "7 R01_S21\n",
      "/home/y/youtsumi/notebooks/Run7/gaintemp_E1496/R01_S21.pickle\n",
      "['u/lsstccs/eo_flat_gain_stability_pd_baseline_fix_E1496_w_2024_35/20241031T044355Z', 'u/lsstccs/eo_flat_gain_stability_E1496_w_2024_35/20241025T082704Z', 'u/lsstccs/eo_flat_gain_stability_pd_clippedmean_baseline_fix_E1496_w_2024_35/20241103T150501Z', 'u/lsstccs/eo_flat_gain_stability_pd_baseline_fix_E1496_w_2024_35', 'u/lsstccs/eo_flat_gain_stability_E1496_w_2024_35', 'u/lsstccs/eo_flat_gain_stability_pd_clippedmean_baseline_fix_E1496_w_2024_35'] 7\n"
     ]
    },
    {
     "name": "stderr",
     "output_type": "stream",
     "text": [
      "100%|██████████| 555/555 [00:33<00:00, 16.73it/s]\n"
     ]
    },
    {
     "name": "stdout",
     "output_type": "stream",
     "text": [
      "8 R01_S22\n",
      "/home/y/youtsumi/notebooks/Run7/gaintemp_E1496/R01_S22.pickle\n",
      "['u/lsstccs/eo_flat_gain_stability_pd_baseline_fix_E1496_w_2024_35/20241031T044355Z', 'u/lsstccs/eo_flat_gain_stability_E1496_w_2024_35/20241025T082704Z', 'u/lsstccs/eo_flat_gain_stability_pd_clippedmean_baseline_fix_E1496_w_2024_35/20241103T150501Z', 'u/lsstccs/eo_flat_gain_stability_pd_baseline_fix_E1496_w_2024_35', 'u/lsstccs/eo_flat_gain_stability_E1496_w_2024_35', 'u/lsstccs/eo_flat_gain_stability_pd_clippedmean_baseline_fix_E1496_w_2024_35'] 8\n"
     ]
    },
    {
     "name": "stderr",
     "output_type": "stream",
     "text": [
      "100%|██████████| 555/555 [00:32<00:00, 16.82it/s]\n"
     ]
    },
    {
     "name": "stdout",
     "output_type": "stream",
     "text": [
      "9 R02_S00\n",
      "/home/y/youtsumi/notebooks/Run7/gaintemp_E1496/R02_S00.pickle\n",
      "['u/lsstccs/eo_flat_gain_stability_pd_baseline_fix_E1496_w_2024_35/20241031T044355Z', 'u/lsstccs/eo_flat_gain_stability_E1496_w_2024_35/20241025T082704Z', 'u/lsstccs/eo_flat_gain_stability_pd_clippedmean_baseline_fix_E1496_w_2024_35/20241103T150501Z', 'u/lsstccs/eo_flat_gain_stability_pd_baseline_fix_E1496_w_2024_35', 'u/lsstccs/eo_flat_gain_stability_E1496_w_2024_35', 'u/lsstccs/eo_flat_gain_stability_pd_clippedmean_baseline_fix_E1496_w_2024_35'] 9\n"
     ]
    },
    {
     "name": "stderr",
     "output_type": "stream",
     "text": [
      "100%|██████████| 555/555 [00:32<00:00, 16.94it/s]\n"
     ]
    },
    {
     "name": "stdout",
     "output_type": "stream",
     "text": [
      "10 R02_S01\n",
      "/home/y/youtsumi/notebooks/Run7/gaintemp_E1496/R02_S01.pickle\n",
      "['u/lsstccs/eo_flat_gain_stability_pd_baseline_fix_E1496_w_2024_35/20241031T044355Z', 'u/lsstccs/eo_flat_gain_stability_E1496_w_2024_35/20241025T082704Z', 'u/lsstccs/eo_flat_gain_stability_pd_clippedmean_baseline_fix_E1496_w_2024_35/20241103T150501Z', 'u/lsstccs/eo_flat_gain_stability_pd_baseline_fix_E1496_w_2024_35', 'u/lsstccs/eo_flat_gain_stability_E1496_w_2024_35', 'u/lsstccs/eo_flat_gain_stability_pd_clippedmean_baseline_fix_E1496_w_2024_35'] 10\n"
     ]
    },
    {
     "name": "stderr",
     "output_type": "stream",
     "text": [
      "100%|██████████| 555/555 [00:32<00:00, 17.13it/s]\n"
     ]
    },
    {
     "name": "stdout",
     "output_type": "stream",
     "text": [
      "11 R02_S02\n",
      "/home/y/youtsumi/notebooks/Run7/gaintemp_E1496/R02_S02.pickle\n",
      "['u/lsstccs/eo_flat_gain_stability_pd_baseline_fix_E1496_w_2024_35/20241031T044355Z', 'u/lsstccs/eo_flat_gain_stability_E1496_w_2024_35/20241025T082704Z', 'u/lsstccs/eo_flat_gain_stability_pd_clippedmean_baseline_fix_E1496_w_2024_35/20241103T150501Z', 'u/lsstccs/eo_flat_gain_stability_pd_baseline_fix_E1496_w_2024_35', 'u/lsstccs/eo_flat_gain_stability_E1496_w_2024_35', 'u/lsstccs/eo_flat_gain_stability_pd_clippedmean_baseline_fix_E1496_w_2024_35'] 11\n"
     ]
    },
    {
     "name": "stderr",
     "output_type": "stream",
     "text": [
      "100%|██████████| 555/555 [00:32<00:00, 16.99it/s]\n"
     ]
    },
    {
     "name": "stdout",
     "output_type": "stream",
     "text": [
      "12 R02_S10\n",
      "/home/y/youtsumi/notebooks/Run7/gaintemp_E1496/R02_S10.pickle\n",
      "['u/lsstccs/eo_flat_gain_stability_pd_baseline_fix_E1496_w_2024_35/20241031T044355Z', 'u/lsstccs/eo_flat_gain_stability_E1496_w_2024_35/20241025T082704Z', 'u/lsstccs/eo_flat_gain_stability_pd_clippedmean_baseline_fix_E1496_w_2024_35/20241103T150501Z', 'u/lsstccs/eo_flat_gain_stability_pd_baseline_fix_E1496_w_2024_35', 'u/lsstccs/eo_flat_gain_stability_E1496_w_2024_35', 'u/lsstccs/eo_flat_gain_stability_pd_clippedmean_baseline_fix_E1496_w_2024_35'] 12\n"
     ]
    },
    {
     "name": "stderr",
     "output_type": "stream",
     "text": [
      "100%|██████████| 555/555 [00:32<00:00, 16.85it/s]\n"
     ]
    },
    {
     "name": "stdout",
     "output_type": "stream",
     "text": [
      "13 R02_S11\n",
      "/home/y/youtsumi/notebooks/Run7/gaintemp_E1496/R02_S11.pickle\n",
      "['u/lsstccs/eo_flat_gain_stability_pd_baseline_fix_E1496_w_2024_35/20241031T044355Z', 'u/lsstccs/eo_flat_gain_stability_E1496_w_2024_35/20241025T082704Z', 'u/lsstccs/eo_flat_gain_stability_pd_clippedmean_baseline_fix_E1496_w_2024_35/20241103T150501Z', 'u/lsstccs/eo_flat_gain_stability_pd_baseline_fix_E1496_w_2024_35', 'u/lsstccs/eo_flat_gain_stability_E1496_w_2024_35', 'u/lsstccs/eo_flat_gain_stability_pd_clippedmean_baseline_fix_E1496_w_2024_35'] 13\n"
     ]
    },
    {
     "name": "stderr",
     "output_type": "stream",
     "text": [
      "100%|██████████| 555/555 [00:32<00:00, 16.89it/s]\n"
     ]
    },
    {
     "name": "stdout",
     "output_type": "stream",
     "text": [
      "14 R02_S12\n",
      "/home/y/youtsumi/notebooks/Run7/gaintemp_E1496/R02_S12.pickle\n",
      "['u/lsstccs/eo_flat_gain_stability_pd_baseline_fix_E1496_w_2024_35/20241031T044355Z', 'u/lsstccs/eo_flat_gain_stability_E1496_w_2024_35/20241025T082704Z', 'u/lsstccs/eo_flat_gain_stability_pd_clippedmean_baseline_fix_E1496_w_2024_35/20241103T150501Z', 'u/lsstccs/eo_flat_gain_stability_pd_baseline_fix_E1496_w_2024_35', 'u/lsstccs/eo_flat_gain_stability_E1496_w_2024_35', 'u/lsstccs/eo_flat_gain_stability_pd_clippedmean_baseline_fix_E1496_w_2024_35'] 14\n"
     ]
    },
    {
     "name": "stderr",
     "output_type": "stream",
     "text": [
      "100%|██████████| 555/555 [00:33<00:00, 16.72it/s]\n"
     ]
    },
    {
     "name": "stdout",
     "output_type": "stream",
     "text": [
      "15 R02_S20\n",
      "/home/y/youtsumi/notebooks/Run7/gaintemp_E1496/R02_S20.pickle\n",
      "['u/lsstccs/eo_flat_gain_stability_pd_baseline_fix_E1496_w_2024_35/20241031T044355Z', 'u/lsstccs/eo_flat_gain_stability_E1496_w_2024_35/20241025T082704Z', 'u/lsstccs/eo_flat_gain_stability_pd_clippedmean_baseline_fix_E1496_w_2024_35/20241103T150501Z', 'u/lsstccs/eo_flat_gain_stability_pd_baseline_fix_E1496_w_2024_35', 'u/lsstccs/eo_flat_gain_stability_E1496_w_2024_35', 'u/lsstccs/eo_flat_gain_stability_pd_clippedmean_baseline_fix_E1496_w_2024_35'] 15\n"
     ]
    },
    {
     "name": "stderr",
     "output_type": "stream",
     "text": [
      "100%|██████████| 555/555 [00:32<00:00, 17.01it/s]\n"
     ]
    },
    {
     "name": "stdout",
     "output_type": "stream",
     "text": [
      "16 R02_S21\n",
      "/home/y/youtsumi/notebooks/Run7/gaintemp_E1496/R02_S21.pickle\n",
      "['u/lsstccs/eo_flat_gain_stability_pd_baseline_fix_E1496_w_2024_35/20241031T044355Z', 'u/lsstccs/eo_flat_gain_stability_E1496_w_2024_35/20241025T082704Z', 'u/lsstccs/eo_flat_gain_stability_pd_clippedmean_baseline_fix_E1496_w_2024_35/20241103T150501Z', 'u/lsstccs/eo_flat_gain_stability_pd_baseline_fix_E1496_w_2024_35', 'u/lsstccs/eo_flat_gain_stability_E1496_w_2024_35', 'u/lsstccs/eo_flat_gain_stability_pd_clippedmean_baseline_fix_E1496_w_2024_35'] 16\n"
     ]
    },
    {
     "name": "stderr",
     "output_type": "stream",
     "text": [
      "100%|██████████| 555/555 [00:32<00:00, 16.98it/s]\n"
     ]
    },
    {
     "name": "stdout",
     "output_type": "stream",
     "text": [
      "17 R02_S22\n",
      "/home/y/youtsumi/notebooks/Run7/gaintemp_E1496/R02_S22.pickle\n",
      "['u/lsstccs/eo_flat_gain_stability_pd_baseline_fix_E1496_w_2024_35/20241031T044355Z', 'u/lsstccs/eo_flat_gain_stability_E1496_w_2024_35/20241025T082704Z', 'u/lsstccs/eo_flat_gain_stability_pd_clippedmean_baseline_fix_E1496_w_2024_35/20241103T150501Z', 'u/lsstccs/eo_flat_gain_stability_pd_baseline_fix_E1496_w_2024_35', 'u/lsstccs/eo_flat_gain_stability_E1496_w_2024_35', 'u/lsstccs/eo_flat_gain_stability_pd_clippedmean_baseline_fix_E1496_w_2024_35'] 17\n"
     ]
    },
    {
     "name": "stderr",
     "output_type": "stream",
     "text": [
      "100%|██████████| 555/555 [00:33<00:00, 16.76it/s]\n"
     ]
    },
    {
     "name": "stdout",
     "output_type": "stream",
     "text": [
      "18 R03_S00\n",
      "/home/y/youtsumi/notebooks/Run7/gaintemp_E1496/R03_S00.pickle\n",
      "['u/lsstccs/eo_flat_gain_stability_pd_baseline_fix_E1496_w_2024_35/20241031T044355Z', 'u/lsstccs/eo_flat_gain_stability_E1496_w_2024_35/20241025T082704Z', 'u/lsstccs/eo_flat_gain_stability_pd_clippedmean_baseline_fix_E1496_w_2024_35/20241103T150501Z', 'u/lsstccs/eo_flat_gain_stability_pd_baseline_fix_E1496_w_2024_35', 'u/lsstccs/eo_flat_gain_stability_E1496_w_2024_35', 'u/lsstccs/eo_flat_gain_stability_pd_clippedmean_baseline_fix_E1496_w_2024_35'] 18\n"
     ]
    },
    {
     "name": "stderr",
     "output_type": "stream",
     "text": [
      "100%|██████████| 555/555 [00:32<00:00, 17.01it/s]\n"
     ]
    },
    {
     "name": "stdout",
     "output_type": "stream",
     "text": [
      "19 R03_S01\n",
      "/home/y/youtsumi/notebooks/Run7/gaintemp_E1496/R03_S01.pickle\n",
      "['u/lsstccs/eo_flat_gain_stability_pd_baseline_fix_E1496_w_2024_35/20241031T044355Z', 'u/lsstccs/eo_flat_gain_stability_E1496_w_2024_35/20241025T082704Z', 'u/lsstccs/eo_flat_gain_stability_pd_clippedmean_baseline_fix_E1496_w_2024_35/20241103T150501Z', 'u/lsstccs/eo_flat_gain_stability_pd_baseline_fix_E1496_w_2024_35', 'u/lsstccs/eo_flat_gain_stability_E1496_w_2024_35', 'u/lsstccs/eo_flat_gain_stability_pd_clippedmean_baseline_fix_E1496_w_2024_35'] 19\n"
     ]
    },
    {
     "name": "stderr",
     "output_type": "stream",
     "text": [
      "100%|██████████| 555/555 [00:33<00:00, 16.68it/s]\n"
     ]
    },
    {
     "name": "stdout",
     "output_type": "stream",
     "text": [
      "20 R03_S02\n",
      "/home/y/youtsumi/notebooks/Run7/gaintemp_E1496/R03_S02.pickle\n",
      "['u/lsstccs/eo_flat_gain_stability_pd_baseline_fix_E1496_w_2024_35/20241031T044355Z', 'u/lsstccs/eo_flat_gain_stability_E1496_w_2024_35/20241025T082704Z', 'u/lsstccs/eo_flat_gain_stability_pd_clippedmean_baseline_fix_E1496_w_2024_35/20241103T150501Z', 'u/lsstccs/eo_flat_gain_stability_pd_baseline_fix_E1496_w_2024_35', 'u/lsstccs/eo_flat_gain_stability_E1496_w_2024_35', 'u/lsstccs/eo_flat_gain_stability_pd_clippedmean_baseline_fix_E1496_w_2024_35'] 20\n"
     ]
    },
    {
     "name": "stderr",
     "output_type": "stream",
     "text": [
      "100%|██████████| 555/555 [00:32<00:00, 17.01it/s]\n"
     ]
    },
    {
     "name": "stdout",
     "output_type": "stream",
     "text": [
      "21 R03_S10\n",
      "/home/y/youtsumi/notebooks/Run7/gaintemp_E1496/R03_S10.pickle\n",
      "['u/lsstccs/eo_flat_gain_stability_pd_baseline_fix_E1496_w_2024_35/20241031T044355Z', 'u/lsstccs/eo_flat_gain_stability_E1496_w_2024_35/20241025T082704Z', 'u/lsstccs/eo_flat_gain_stability_pd_clippedmean_baseline_fix_E1496_w_2024_35/20241103T150501Z', 'u/lsstccs/eo_flat_gain_stability_pd_baseline_fix_E1496_w_2024_35', 'u/lsstccs/eo_flat_gain_stability_E1496_w_2024_35', 'u/lsstccs/eo_flat_gain_stability_pd_clippedmean_baseline_fix_E1496_w_2024_35'] 21\n"
     ]
    },
    {
     "name": "stderr",
     "output_type": "stream",
     "text": [
      "100%|██████████| 555/555 [00:32<00:00, 17.04it/s]\n"
     ]
    },
    {
     "name": "stdout",
     "output_type": "stream",
     "text": [
      "22 R03_S11\n",
      "/home/y/youtsumi/notebooks/Run7/gaintemp_E1496/R03_S11.pickle\n",
      "['u/lsstccs/eo_flat_gain_stability_pd_baseline_fix_E1496_w_2024_35/20241031T044355Z', 'u/lsstccs/eo_flat_gain_stability_E1496_w_2024_35/20241025T082704Z', 'u/lsstccs/eo_flat_gain_stability_pd_clippedmean_baseline_fix_E1496_w_2024_35/20241103T150501Z', 'u/lsstccs/eo_flat_gain_stability_pd_baseline_fix_E1496_w_2024_35', 'u/lsstccs/eo_flat_gain_stability_E1496_w_2024_35', 'u/lsstccs/eo_flat_gain_stability_pd_clippedmean_baseline_fix_E1496_w_2024_35'] 22\n"
     ]
    },
    {
     "name": "stderr",
     "output_type": "stream",
     "text": [
      "100%|██████████| 555/555 [00:32<00:00, 16.91it/s]\n"
     ]
    },
    {
     "name": "stdout",
     "output_type": "stream",
     "text": [
      "23 R03_S12\n",
      "/home/y/youtsumi/notebooks/Run7/gaintemp_E1496/R03_S12.pickle\n",
      "['u/lsstccs/eo_flat_gain_stability_pd_baseline_fix_E1496_w_2024_35/20241031T044355Z', 'u/lsstccs/eo_flat_gain_stability_E1496_w_2024_35/20241025T082704Z', 'u/lsstccs/eo_flat_gain_stability_pd_clippedmean_baseline_fix_E1496_w_2024_35/20241103T150501Z', 'u/lsstccs/eo_flat_gain_stability_pd_baseline_fix_E1496_w_2024_35', 'u/lsstccs/eo_flat_gain_stability_E1496_w_2024_35', 'u/lsstccs/eo_flat_gain_stability_pd_clippedmean_baseline_fix_E1496_w_2024_35'] 23\n"
     ]
    },
    {
     "name": "stderr",
     "output_type": "stream",
     "text": [
      "100%|██████████| 555/555 [00:32<00:00, 17.13it/s]\n"
     ]
    },
    {
     "name": "stdout",
     "output_type": "stream",
     "text": [
      "24 R03_S20\n",
      "/home/y/youtsumi/notebooks/Run7/gaintemp_E1496/R03_S20.pickle\n",
      "['u/lsstccs/eo_flat_gain_stability_pd_baseline_fix_E1496_w_2024_35/20241031T044355Z', 'u/lsstccs/eo_flat_gain_stability_E1496_w_2024_35/20241025T082704Z', 'u/lsstccs/eo_flat_gain_stability_pd_clippedmean_baseline_fix_E1496_w_2024_35/20241103T150501Z', 'u/lsstccs/eo_flat_gain_stability_pd_baseline_fix_E1496_w_2024_35', 'u/lsstccs/eo_flat_gain_stability_E1496_w_2024_35', 'u/lsstccs/eo_flat_gain_stability_pd_clippedmean_baseline_fix_E1496_w_2024_35'] 24\n"
     ]
    },
    {
     "name": "stderr",
     "output_type": "stream",
     "text": [
      "100%|██████████| 555/555 [00:33<00:00, 16.66it/s]\n"
     ]
    },
    {
     "name": "stdout",
     "output_type": "stream",
     "text": [
      "25 R03_S21\n",
      "/home/y/youtsumi/notebooks/Run7/gaintemp_E1496/R03_S21.pickle\n",
      "['u/lsstccs/eo_flat_gain_stability_pd_baseline_fix_E1496_w_2024_35/20241031T044355Z', 'u/lsstccs/eo_flat_gain_stability_E1496_w_2024_35/20241025T082704Z', 'u/lsstccs/eo_flat_gain_stability_pd_clippedmean_baseline_fix_E1496_w_2024_35/20241103T150501Z', 'u/lsstccs/eo_flat_gain_stability_pd_baseline_fix_E1496_w_2024_35', 'u/lsstccs/eo_flat_gain_stability_E1496_w_2024_35', 'u/lsstccs/eo_flat_gain_stability_pd_clippedmean_baseline_fix_E1496_w_2024_35'] 25\n"
     ]
    },
    {
     "name": "stderr",
     "output_type": "stream",
     "text": [
      "100%|██████████| 555/555 [00:32<00:00, 16.95it/s]\n"
     ]
    },
    {
     "name": "stdout",
     "output_type": "stream",
     "text": [
      "26 R03_S22\n",
      "/home/y/youtsumi/notebooks/Run7/gaintemp_E1496/R03_S22.pickle\n",
      "['u/lsstccs/eo_flat_gain_stability_pd_baseline_fix_E1496_w_2024_35/20241031T044355Z', 'u/lsstccs/eo_flat_gain_stability_E1496_w_2024_35/20241025T082704Z', 'u/lsstccs/eo_flat_gain_stability_pd_clippedmean_baseline_fix_E1496_w_2024_35/20241103T150501Z', 'u/lsstccs/eo_flat_gain_stability_pd_baseline_fix_E1496_w_2024_35', 'u/lsstccs/eo_flat_gain_stability_E1496_w_2024_35', 'u/lsstccs/eo_flat_gain_stability_pd_clippedmean_baseline_fix_E1496_w_2024_35'] 26\n"
     ]
    },
    {
     "name": "stderr",
     "output_type": "stream",
     "text": [
      "100%|██████████| 555/555 [00:32<00:00, 16.93it/s]\n"
     ]
    },
    {
     "name": "stdout",
     "output_type": "stream",
     "text": [
      "27 R10_S00\n",
      "/home/y/youtsumi/notebooks/Run7/gaintemp_E1496/R10_S00.pickle\n",
      "['u/lsstccs/eo_flat_gain_stability_pd_baseline_fix_E1496_w_2024_35/20241031T044355Z', 'u/lsstccs/eo_flat_gain_stability_E1496_w_2024_35/20241025T082704Z', 'u/lsstccs/eo_flat_gain_stability_pd_clippedmean_baseline_fix_E1496_w_2024_35/20241103T150501Z', 'u/lsstccs/eo_flat_gain_stability_pd_baseline_fix_E1496_w_2024_35', 'u/lsstccs/eo_flat_gain_stability_E1496_w_2024_35', 'u/lsstccs/eo_flat_gain_stability_pd_clippedmean_baseline_fix_E1496_w_2024_35'] 27\n"
     ]
    },
    {
     "name": "stderr",
     "output_type": "stream",
     "text": [
      "100%|██████████| 555/555 [00:33<00:00, 16.63it/s]\n"
     ]
    },
    {
     "name": "stdout",
     "output_type": "stream",
     "text": [
      "28 R10_S01\n",
      "/home/y/youtsumi/notebooks/Run7/gaintemp_E1496/R10_S01.pickle\n",
      "['u/lsstccs/eo_flat_gain_stability_pd_baseline_fix_E1496_w_2024_35/20241031T044355Z', 'u/lsstccs/eo_flat_gain_stability_E1496_w_2024_35/20241025T082704Z', 'u/lsstccs/eo_flat_gain_stability_pd_clippedmean_baseline_fix_E1496_w_2024_35/20241103T150501Z', 'u/lsstccs/eo_flat_gain_stability_pd_baseline_fix_E1496_w_2024_35', 'u/lsstccs/eo_flat_gain_stability_E1496_w_2024_35', 'u/lsstccs/eo_flat_gain_stability_pd_clippedmean_baseline_fix_E1496_w_2024_35'] 28\n"
     ]
    },
    {
     "name": "stderr",
     "output_type": "stream",
     "text": [
      "100%|██████████| 555/555 [00:32<00:00, 16.89it/s]\n"
     ]
    },
    {
     "name": "stdout",
     "output_type": "stream",
     "text": [
      "29 R10_S02\n",
      "/home/y/youtsumi/notebooks/Run7/gaintemp_E1496/R10_S02.pickle\n",
      "['u/lsstccs/eo_flat_gain_stability_pd_baseline_fix_E1496_w_2024_35/20241031T044355Z', 'u/lsstccs/eo_flat_gain_stability_E1496_w_2024_35/20241025T082704Z', 'u/lsstccs/eo_flat_gain_stability_pd_clippedmean_baseline_fix_E1496_w_2024_35/20241103T150501Z', 'u/lsstccs/eo_flat_gain_stability_pd_baseline_fix_E1496_w_2024_35', 'u/lsstccs/eo_flat_gain_stability_E1496_w_2024_35', 'u/lsstccs/eo_flat_gain_stability_pd_clippedmean_baseline_fix_E1496_w_2024_35'] 29\n"
     ]
    },
    {
     "name": "stderr",
     "output_type": "stream",
     "text": [
      "100%|██████████| 555/555 [00:33<00:00, 16.66it/s]\n"
     ]
    },
    {
     "name": "stdout",
     "output_type": "stream",
     "text": [
      "30 R10_S10\n",
      "/home/y/youtsumi/notebooks/Run7/gaintemp_E1496/R10_S10.pickle\n",
      "['u/lsstccs/eo_flat_gain_stability_pd_baseline_fix_E1496_w_2024_35/20241031T044355Z', 'u/lsstccs/eo_flat_gain_stability_E1496_w_2024_35/20241025T082704Z', 'u/lsstccs/eo_flat_gain_stability_pd_clippedmean_baseline_fix_E1496_w_2024_35/20241103T150501Z', 'u/lsstccs/eo_flat_gain_stability_pd_baseline_fix_E1496_w_2024_35', 'u/lsstccs/eo_flat_gain_stability_E1496_w_2024_35', 'u/lsstccs/eo_flat_gain_stability_pd_clippedmean_baseline_fix_E1496_w_2024_35'] 30\n"
     ]
    },
    {
     "name": "stderr",
     "output_type": "stream",
     "text": [
      "100%|██████████| 555/555 [00:32<00:00, 16.89it/s]\n"
     ]
    },
    {
     "name": "stdout",
     "output_type": "stream",
     "text": [
      "31 R10_S11\n",
      "/home/y/youtsumi/notebooks/Run7/gaintemp_E1496/R10_S11.pickle\n",
      "['u/lsstccs/eo_flat_gain_stability_pd_baseline_fix_E1496_w_2024_35/20241031T044355Z', 'u/lsstccs/eo_flat_gain_stability_E1496_w_2024_35/20241025T082704Z', 'u/lsstccs/eo_flat_gain_stability_pd_clippedmean_baseline_fix_E1496_w_2024_35/20241103T150501Z', 'u/lsstccs/eo_flat_gain_stability_pd_baseline_fix_E1496_w_2024_35', 'u/lsstccs/eo_flat_gain_stability_E1496_w_2024_35', 'u/lsstccs/eo_flat_gain_stability_pd_clippedmean_baseline_fix_E1496_w_2024_35'] 31\n"
     ]
    },
    {
     "name": "stderr",
     "output_type": "stream",
     "text": [
      "100%|██████████| 555/555 [00:33<00:00, 16.76it/s]\n"
     ]
    },
    {
     "name": "stdout",
     "output_type": "stream",
     "text": [
      "157 R34_S11\n",
      "/home/y/youtsumi/notebooks/Run7/gaintemp_E1496/R34_S11.pickle\n",
      "['u/lsstccs/eo_flat_gain_stability_pd_baseline_fix_E1496_w_2024_35/20241031T044355Z', 'u/lsstccs/eo_flat_gain_stability_E1496_w_2024_35/20241025T082704Z', 'u/lsstccs/eo_flat_gain_stability_pd_clippedmean_baseline_fix_E1496_w_2024_35/20241103T150501Z', 'u/lsstccs/eo_flat_gain_stability_pd_baseline_fix_E1496_w_2024_35', 'u/lsstccs/eo_flat_gain_stability_E1496_w_2024_35', 'u/lsstccs/eo_flat_gain_stability_pd_clippedmean_baseline_fix_E1496_w_2024_35'] 157\n"
     ]
    },
    {
     "name": "stderr",
     "output_type": "stream",
     "text": [
      " 42%|████▏     | 234/555 [00:13<00:18, 17.05it/s]"
     ]
    }
   ],
   "source": [
    "for did in list(registry.queryDimensionRecords(\"detector\",instrument='LSSTCam'))[:189]:\n",
    "    print(did.id, did.full_name)\n",
    "    path = f'/home/y/youtsumi/notebooks/Run7/gaintemp_E1496/{did.full_name}.pickle'\n",
    "    print(path)\n",
    "    if os.path.exists(path):\n",
    "        continue\n",
    "\n",
    "    ret={ did.full_name: getcoef(did.id) }\n",
    "    with open(path,'wb') as f:\n",
    "        pickle.dump(ret,f)\n",
    "    \n",
    "#getcoef('')"
   ]
  },
  {
   "cell_type": "code",
   "execution_count": null,
   "id": "6b1cb63d-cb69-40ce-adb5-82390741e23f",
   "metadata": {
    "execution": {
     "execution_failed": "2024-10-30T18:49:29.961Z"
    }
   },
   "outputs": [],
   "source": [
    "header"
   ]
  },
  {
   "cell_type": "code",
   "execution_count": null,
   "id": "4d6669ad-dc03-43ed-be2c-dd0876a028c9",
   "metadata": {},
   "outputs": [],
   "source": []
  }
 ],
 "metadata": {
  "kernelspec": {
   "display_name": "LSST",
   "language": "python",
   "name": "lsst"
  },
  "language_info": {
   "codemirror_mode": {
    "name": "ipython",
    "version": 3
   },
   "file_extension": ".py",
   "mimetype": "text/x-python",
   "name": "python",
   "nbconvert_exporter": "python",
   "pygments_lexer": "ipython3",
   "version": "3.11.7"
  }
 },
 "nbformat": 4,
 "nbformat_minor": 5
}
