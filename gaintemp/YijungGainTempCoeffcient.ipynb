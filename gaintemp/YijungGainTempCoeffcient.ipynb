{
 "cells": [
  {
   "cell_type": "code",
   "execution_count": 18,
   "id": "9e429098-52ba-454e-b5eb-e132e60c8d9c",
   "metadata": {
    "execution": {
     "iopub.execute_input": "2024-04-19T20:33:34.047471Z",
     "iopub.status.busy": "2024-04-19T20:33:34.047108Z",
     "iopub.status.idle": "2024-04-19T20:33:34.050096Z",
     "shell.execute_reply": "2024-04-19T20:33:34.049738Z",
     "shell.execute_reply.started": "2024-04-19T20:33:34.047455Z"
    }
   },
   "outputs": [],
   "source": [
    "from lsst.daf.butler import Butler\n",
    "from astropy.table import Table\n",
    "import pylab\n",
    "import numpy\n",
    "from astropy.stats import mad_std\n",
    "from tqdm import tqdm\n",
    "from astropy.io import fits\n",
    "import pandas as pd\n",
    "from scipy import stats\n",
    "from multiprocessing import Pool\n",
    "import pickle\n",
    "import os"
   ]
  },
  {
   "cell_type": "code",
   "execution_count": 19,
   "id": "21de34f6-b941-4388-bebd-8c884a33fb46",
   "metadata": {
    "execution": {
     "iopub.execute_input": "2024-04-19T20:33:34.261335Z",
     "iopub.status.busy": "2024-04-19T20:33:34.260994Z",
     "iopub.status.idle": "2024-04-19T20:33:34.395823Z",
     "shell.execute_reply": "2024-04-19T20:33:34.395386Z",
     "shell.execute_reply.started": "2024-04-19T20:33:34.261319Z"
    }
   },
   "outputs": [],
   "source": [
    "repo_path = \"/repo/ir2\"\n",
    "butler = Butler(repo_path,instrument='LSSTCam')\n",
    "registry = butler.registry"
   ]
  },
  {
   "cell_type": "markdown",
   "id": "83f33051-3aed-4270-bfbb-618e352c2730",
   "metadata": {},
   "source": [
    "We query what collections we have in the repository"
   ]
  },
  {
   "cell_type": "code",
   "execution_count": 20,
   "id": "2a0aee4c-1ad0-434a-8754-3e84fa4b9f96",
   "metadata": {
    "execution": {
     "iopub.execute_input": "2024-04-19T20:33:34.599402Z",
     "iopub.status.busy": "2024-04-19T20:33:34.599247Z",
     "iopub.status.idle": "2024-04-19T20:33:34.663172Z",
     "shell.execute_reply": "2024-04-19T20:33:34.662748Z",
     "shell.execute_reply.started": "2024-04-19T20:33:34.599388Z"
    }
   },
   "outputs": [
    {
     "data": {
      "text/plain": [
       "['u/lsstccs/eo_flat_gain_stability_13535_w_2023_41/20231112T062559Z',\n",
       " 'u/lsstccs/eo_flat_gain_stability_13535_w_2023_41']"
      ]
     },
     "execution_count": 20,
     "metadata": {},
     "output_type": "execute_result"
    }
   ],
   "source": [
    "#13590\n",
    "#13535\n",
    "#13525\n",
    "# https://confluence.slac.stanford.edu/pages/viewpage.action?pageId=405094202\n",
    "collections = list(registry.queryCollections(\"*stability*13535*\"))\n",
    "collections"
   ]
  },
  {
   "cell_type": "markdown",
   "id": "50d7743b-1869-4de7-95ea-2eb14986b291",
   "metadata": {},
   "source": [
    "We query what dataset are in this collections"
   ]
  },
  {
   "cell_type": "code",
   "execution_count": 21,
   "id": "38ab008e-fe42-40bb-adc5-ce1fb666647e",
   "metadata": {
    "execution": {
     "iopub.execute_input": "2024-04-19T20:33:34.999100Z",
     "iopub.status.busy": "2024-04-19T20:33:34.998940Z",
     "iopub.status.idle": "2024-04-19T20:33:35.007477Z",
     "shell.execute_reply": "2024-04-19T20:33:35.007139Z",
     "shell.execute_reply.started": "2024-04-19T20:33:34.999084Z"
    }
   },
   "outputs": [
    {
     "data": {
      "text/plain": [
       "[DatasetType('flatGainStabilityTask_log', {instrument, detector}, ButlerLogRecords),\n",
       " DatasetType('flat_gain_stability_stats', {instrument, detector}, DataFrame),\n",
       " DatasetType('flatGainStabilityTask_metadata', {instrument, detector}, TaskMetadata),\n",
       " DatasetType('flatGainStabilityPlots_metadata', {instrument}, TaskMetadata),\n",
       " DatasetType('flatGainStabilityTask_config', {}, Config),\n",
       " DatasetType('flat_gain_stability_plots', {instrument}, Plot),\n",
       " DatasetType('flatGainStabilityPlots_config', {}, Config),\n",
       " DatasetType('packages', {}, Packages),\n",
       " DatasetType('flatGainStabilityPlots_log', {instrument}, ButlerLogRecords)]"
      ]
     },
     "execution_count": 21,
     "metadata": {},
     "output_type": "execute_result"
    }
   ],
   "source": [
    "list(registry.getCollectionSummary(collections[0]).dataset_types)"
   ]
  },
  {
   "cell_type": "markdown",
   "id": "07199c0c-0a05-45b4-b0e5-d6ebdaf9b1dd",
   "metadata": {},
   "source": [
    "We convert the sensor address to the DM numbering"
   ]
  },
  {
   "cell_type": "code",
   "execution_count": 22,
   "id": "a648c4ea-4045-404c-9e33-bc541007fb09",
   "metadata": {
    "execution": {
     "iopub.execute_input": "2024-04-19T20:33:35.607607Z",
     "iopub.status.busy": "2024-04-19T20:33:35.607445Z",
     "iopub.status.idle": "2024-04-19T20:33:35.624046Z",
     "shell.execute_reply": "2024-04-19T20:33:35.623705Z",
     "shell.execute_reply.started": "2024-04-19T20:33:35.607592Z"
    }
   },
   "outputs": [
    {
     "data": {
      "text/plain": [
       "99"
      ]
     },
     "execution_count": 22,
     "metadata": {},
     "output_type": "execute_result"
    }
   ],
   "source": [
    "sensor=\"R23_S00\"\n",
    "detector=list(registry.queryDimensionRecords(\"detector\",instrument='LSSTCam',where=f\"detector.full_name='{sensor}'\"))[0].id\n",
    "detector"
   ]
  },
  {
   "cell_type": "markdown",
   "id": "23dc3323-76a1-4c4f-bab4-d3be0255f062",
   "metadata": {},
   "source": [
    "Obtain flat stability statistics given the sensor"
   ]
  },
  {
   "cell_type": "code",
   "execution_count": 23,
   "id": "d83ccaf9-5a8b-4474-baae-185bf750a16e",
   "metadata": {
    "execution": {
     "iopub.execute_input": "2024-04-19T20:33:36.815004Z",
     "iopub.status.busy": "2024-04-19T20:33:36.814860Z",
     "iopub.status.idle": "2024-04-19T20:33:36.897619Z",
     "shell.execute_reply": "2024-04-19T20:33:36.897238Z",
     "shell.execute_reply.started": "2024-04-19T20:33:36.814991Z"
    }
   },
   "outputs": [
    {
     "data": {
      "text/html": [
       "<div>\n",
       "<style scoped>\n",
       "    .dataframe tbody tr th:only-of-type {\n",
       "        vertical-align: middle;\n",
       "    }\n",
       "\n",
       "    .dataframe tbody tr th {\n",
       "        vertical-align: top;\n",
       "    }\n",
       "\n",
       "    .dataframe thead th {\n",
       "        text-align: right;\n",
       "    }\n",
       "</style>\n",
       "<table border=\"1\" class=\"dataframe\">\n",
       "  <thead>\n",
       "    <tr style=\"text-align: right;\">\n",
       "      <th></th>\n",
       "      <th>raft</th>\n",
       "      <th>slot</th>\n",
       "      <th>exposure</th>\n",
       "      <th>pd_integral</th>\n",
       "      <th>mjd</th>\n",
       "      <th>amp_name</th>\n",
       "      <th>median</th>\n",
       "      <th>stdev_clip</th>\n",
       "    </tr>\n",
       "  </thead>\n",
       "  <tbody>\n",
       "    <tr>\n",
       "      <th>0</th>\n",
       "      <td>R23</td>\n",
       "      <td>S00</td>\n",
       "      <td>2023111001321</td>\n",
       "      <td>0.000002</td>\n",
       "      <td>60259.222765</td>\n",
       "      <td>C10</td>\n",
       "      <td>14685.433594</td>\n",
       "      <td>121.013648</td>\n",
       "    </tr>\n",
       "    <tr>\n",
       "      <th>1</th>\n",
       "      <td>R23</td>\n",
       "      <td>S00</td>\n",
       "      <td>2023111001321</td>\n",
       "      <td>0.000002</td>\n",
       "      <td>60259.222765</td>\n",
       "      <td>C11</td>\n",
       "      <td>14696.310547</td>\n",
       "      <td>136.417904</td>\n",
       "    </tr>\n",
       "    <tr>\n",
       "      <th>2</th>\n",
       "      <td>R23</td>\n",
       "      <td>S00</td>\n",
       "      <td>2023111001321</td>\n",
       "      <td>0.000002</td>\n",
       "      <td>60259.222765</td>\n",
       "      <td>C12</td>\n",
       "      <td>14790.843750</td>\n",
       "      <td>121.775901</td>\n",
       "    </tr>\n",
       "    <tr>\n",
       "      <th>3</th>\n",
       "      <td>R23</td>\n",
       "      <td>S00</td>\n",
       "      <td>2023111001321</td>\n",
       "      <td>0.000002</td>\n",
       "      <td>60259.222765</td>\n",
       "      <td>C13</td>\n",
       "      <td>14686.334961</td>\n",
       "      <td>120.946175</td>\n",
       "    </tr>\n",
       "    <tr>\n",
       "      <th>4</th>\n",
       "      <td>R23</td>\n",
       "      <td>S00</td>\n",
       "      <td>2023111001321</td>\n",
       "      <td>0.000002</td>\n",
       "      <td>60259.222765</td>\n",
       "      <td>C14</td>\n",
       "      <td>14729.735352</td>\n",
       "      <td>122.612289</td>\n",
       "    </tr>\n",
       "    <tr>\n",
       "      <th>...</th>\n",
       "      <td>...</td>\n",
       "      <td>...</td>\n",
       "      <td>...</td>\n",
       "      <td>...</td>\n",
       "      <td>...</td>\n",
       "      <td>...</td>\n",
       "      <td>...</td>\n",
       "      <td>...</td>\n",
       "    </tr>\n",
       "    <tr>\n",
       "      <th>17755</th>\n",
       "      <td>R23</td>\n",
       "      <td>S00</td>\n",
       "      <td>2023111100813</td>\n",
       "      <td>0.000002</td>\n",
       "      <td>60260.262762</td>\n",
       "      <td>C04</td>\n",
       "      <td>14188.246094</td>\n",
       "      <td>115.222155</td>\n",
       "    </tr>\n",
       "    <tr>\n",
       "      <th>17756</th>\n",
       "      <td>R23</td>\n",
       "      <td>S00</td>\n",
       "      <td>2023111100813</td>\n",
       "      <td>0.000002</td>\n",
       "      <td>60260.262762</td>\n",
       "      <td>C03</td>\n",
       "      <td>14163.139648</td>\n",
       "      <td>115.512521</td>\n",
       "    </tr>\n",
       "    <tr>\n",
       "      <th>17757</th>\n",
       "      <td>R23</td>\n",
       "      <td>S00</td>\n",
       "      <td>2023111100813</td>\n",
       "      <td>0.000002</td>\n",
       "      <td>60260.262762</td>\n",
       "      <td>C02</td>\n",
       "      <td>14160.588867</td>\n",
       "      <td>114.472667</td>\n",
       "    </tr>\n",
       "    <tr>\n",
       "      <th>17758</th>\n",
       "      <td>R23</td>\n",
       "      <td>S00</td>\n",
       "      <td>2023111100813</td>\n",
       "      <td>0.000002</td>\n",
       "      <td>60260.262762</td>\n",
       "      <td>C01</td>\n",
       "      <td>14161.702148</td>\n",
       "      <td>114.539916</td>\n",
       "    </tr>\n",
       "    <tr>\n",
       "      <th>17759</th>\n",
       "      <td>R23</td>\n",
       "      <td>S00</td>\n",
       "      <td>2023111100813</td>\n",
       "      <td>0.000002</td>\n",
       "      <td>60260.262762</td>\n",
       "      <td>C00</td>\n",
       "      <td>14202.270996</td>\n",
       "      <td>116.013364</td>\n",
       "    </tr>\n",
       "  </tbody>\n",
       "</table>\n",
       "<p>17760 rows × 8 columns</p>\n",
       "</div>"
      ],
      "text/plain": [
       "      raft slot       exposure  pd_integral           mjd amp_name  \\\n",
       "0      R23  S00  2023111001321     0.000002  60259.222765      C10   \n",
       "1      R23  S00  2023111001321     0.000002  60259.222765      C11   \n",
       "2      R23  S00  2023111001321     0.000002  60259.222765      C12   \n",
       "3      R23  S00  2023111001321     0.000002  60259.222765      C13   \n",
       "4      R23  S00  2023111001321     0.000002  60259.222765      C14   \n",
       "...    ...  ...            ...          ...           ...      ...   \n",
       "17755  R23  S00  2023111100813     0.000002  60260.262762      C04   \n",
       "17756  R23  S00  2023111100813     0.000002  60260.262762      C03   \n",
       "17757  R23  S00  2023111100813     0.000002  60260.262762      C02   \n",
       "17758  R23  S00  2023111100813     0.000002  60260.262762      C01   \n",
       "17759  R23  S00  2023111100813     0.000002  60260.262762      C00   \n",
       "\n",
       "             median  stdev_clip  \n",
       "0      14685.433594  121.013648  \n",
       "1      14696.310547  136.417904  \n",
       "2      14790.843750  121.775901  \n",
       "3      14686.334961  120.946175  \n",
       "4      14729.735352  122.612289  \n",
       "...             ...         ...  \n",
       "17755  14188.246094  115.222155  \n",
       "17756  14163.139648  115.512521  \n",
       "17757  14160.588867  114.472667  \n",
       "17758  14161.702148  114.539916  \n",
       "17759  14202.270996  116.013364  \n",
       "\n",
       "[17760 rows x 8 columns]"
      ]
     },
     "execution_count": 23,
     "metadata": {},
     "output_type": "execute_result"
    }
   ],
   "source": [
    "df=butler.get('flat_gain_stability_stats',collections=collections,detector=detector)\n",
    "df"
   ]
  },
  {
   "cell_type": "markdown",
   "id": "0ef06833-f780-4da4-ad6d-7f7fc6afe201",
   "metadata": {},
   "source": [
    "Specify temp key"
   ]
  },
  {
   "cell_type": "code",
   "execution_count": 24,
   "id": "64c26155-7472-475c-9771-6b0f4ef10bff",
   "metadata": {
    "execution": {
     "iopub.execute_input": "2024-04-19T20:33:38.817250Z",
     "iopub.status.busy": "2024-04-19T20:33:38.817084Z",
     "iopub.status.idle": "2024-04-19T20:33:38.819646Z",
     "shell.execute_reply": "2024-04-19T20:33:38.819228Z",
     "shell.execute_reply.started": "2024-04-19T20:33:38.817234Z"
    }
   },
   "outputs": [],
   "source": [
    "TEMPKEY='TEMP6'"
   ]
  },
  {
   "cell_type": "markdown",
   "id": "11cf889f-47ba-4581-9511-ec0076d37f16",
   "metadata": {},
   "source": [
    "Retrieve temperature in fits header more efficient than how butler does. It only asks the first 100kB to read from the disk."
   ]
  },
  {
   "cell_type": "code",
   "execution_count": 28,
   "id": "10689fbe-d36d-4e62-9755-af4c7b361a17",
   "metadata": {
    "execution": {
     "iopub.execute_input": "2024-04-19T20:34:15.115700Z",
     "iopub.status.busy": "2024-04-19T20:34:15.115320Z",
     "iopub.status.idle": "2024-04-19T20:34:15.888180Z",
     "shell.execute_reply": "2024-04-19T20:34:15.887805Z",
     "shell.execute_reply.started": "2024-04-19T20:34:15.115686Z"
    }
   },
   "outputs": [
    {
     "name": "stdout",
     "output_type": "stream",
     "text": [
      "s3://rubin-sts/LSSTCam/20231111/MC_C_20231111_000416/MC_C_20231111_000416_R23_S00.fits\n"
     ]
    },
    {
     "data": {
      "text/plain": [
       "{'exposure': 2023111100416, 'TEMP6': -11.5, 'TEMP10': -11.625}"
      ]
     },
     "execution_count": 28,
     "metadata": {},
     "output_type": "execute_result"
    }
   ],
   "source": [
    "expids=set(list(df['exposure']))\n",
    "\n",
    "fsspec_kwargs = {\n",
    "#    \"default_block_size\": 100000,\n",
    "    \"default_cache_type\": \"bytes\",\n",
    "    \"endpoint_url\": \"https://s3dfrgw.slac.stanford.edu\"\n",
    "}\n",
    "\n",
    "def oneprocess(ref):\n",
    "    print(butler.getURI('raw',dataId={\"exposure\": ref},\n",
    "        collections=collections,detector=detector).geturl())\n",
    "    with fits.open(\n",
    "        butler.getURI('raw',dataId={\"exposure\": ref},\n",
    "        collections=collections,detector=detector).geturl(),\n",
    "        use_fsspec=True,\n",
    "        fsspec_kwargs = fsspec_kwargs\n",
    "         ) as fh:\n",
    "        proto={\n",
    "            \"exposure\": ref,\n",
    "            \"TEMP6\": (fh[-2].header[\"TEMP6\"]),\n",
    "            \"TEMP10\": (fh[-2].header[\"TEMP10\"])\n",
    "        }\n",
    "    return proto\n",
    "\n",
    "\n",
    "oneprocess(list(expids)[0])"
   ]
  },
  {
   "cell_type": "markdown",
   "id": "597b73aa-5a91-43a5-a21a-effbb09886d1",
   "metadata": {},
   "source": [
    "Merge the table using 'exposure'"
   ]
  },
  {
   "cell_type": "code",
   "execution_count": 9,
   "id": "99642905-a137-4f3d-863a-9b7d2a61b78a",
   "metadata": {
    "execution": {
     "iopub.execute_input": "2024-04-17T00:46:22.134765Z",
     "iopub.status.busy": "2024-04-17T00:46:22.134635Z",
     "iopub.status.idle": "2024-04-17T00:46:22.139331Z",
     "shell.execute_reply": "2024-04-17T00:46:22.139043Z",
     "shell.execute_reply.started": "2024-04-17T00:46:22.134753Z"
    }
   },
   "outputs": [],
   "source": [
    "dfmerged=pd.merge(df, pd.DataFrame({'exposure': expid, TEMPKEY: temps }), on='exposure', how='inner')"
   ]
  },
  {
   "cell_type": "code",
   "execution_count": 10,
   "id": "4720d8a6-516c-4a1a-a054-860274c1e56b",
   "metadata": {
    "execution": {
     "iopub.execute_input": "2024-04-17T00:46:22.140046Z",
     "iopub.status.busy": "2024-04-17T00:46:22.139763Z",
     "iopub.status.idle": "2024-04-17T00:46:22.142819Z",
     "shell.execute_reply": "2024-04-17T00:46:22.142527Z",
     "shell.execute_reply.started": "2024-04-17T00:46:22.140034Z"
    }
   },
   "outputs": [],
   "source": [
    "subset=dfmerged[dfmerged['amp_name']=='C00']\n",
    "y0=(subset['median']/subset['pd_integral']).min()"
   ]
  },
  {
   "cell_type": "code",
   "execution_count": 6,
   "id": "f339d7fb-dcc7-4d8e-a759-e7e6d413165d",
   "metadata": {
    "execution": {
     "iopub.execute_input": "2024-04-17T02:47:14.895829Z",
     "iopub.status.busy": "2024-04-17T02:47:14.895684Z",
     "iopub.status.idle": "2024-04-17T02:47:14.961011Z",
     "shell.execute_reply": "2024-04-17T02:47:14.960429Z",
     "shell.execute_reply.started": "2024-04-17T02:47:14.895815Z"
    }
   },
   "outputs": [
    {
     "ename": "NameError",
     "evalue": "name 'subset' is not defined",
     "output_type": "error",
     "traceback": [
      "\u001b[0;31m---------------------------------------------------------------------------\u001b[0m",
      "\u001b[0;31mNameError\u001b[0m                                 Traceback (most recent call last)",
      "Cell \u001b[0;32mIn[6], line 2\u001b[0m\n\u001b[1;32m      1\u001b[0m \u001b[38;5;28;01mfrom\u001b[39;00m \u001b[38;5;21;01mscipy\u001b[39;00m \u001b[38;5;28;01mimport\u001b[39;00m stats\n\u001b[0;32m----> 2\u001b[0m slope, intercept, r_value, p_value, std_err \u001b[38;5;241m=\u001b[39m stats\u001b[38;5;241m.\u001b[39mlinregress(\u001b[43msubset\u001b[49m[TEMPKEY],subset[\u001b[38;5;124m'\u001b[39m\u001b[38;5;124mmedian\u001b[39m\u001b[38;5;124m'\u001b[39m]\u001b[38;5;241m/\u001b[39msubset[\u001b[38;5;124m'\u001b[39m\u001b[38;5;124mpd_integral\u001b[39m\u001b[38;5;124m'\u001b[39m]\u001b[38;5;241m/\u001b[39my0)\n",
      "\u001b[0;31mNameError\u001b[0m: name 'subset' is not defined"
     ]
    }
   ],
   "source": [
    "from scipy import stats\n",
    "slope, intercept, r_value, p_value, std_err = stats.linregress(subset[TEMPKEY],subset['median']/subset['pd_integral']/y0)"
   ]
  },
  {
   "cell_type": "code",
   "execution_count": 12,
   "id": "0deaae92-9cec-4c6b-81cd-a6d340c9d0f9",
   "metadata": {
    "execution": {
     "iopub.execute_input": "2024-04-17T00:46:23.258488Z",
     "iopub.status.busy": "2024-04-17T00:46:23.258336Z",
     "iopub.status.idle": "2024-04-17T00:46:23.366403Z",
     "shell.execute_reply": "2024-04-17T00:46:23.366096Z",
     "shell.execute_reply.started": "2024-04-17T00:46:23.258477Z"
    }
   },
   "outputs": [
    {
     "data": {
      "text/plain": [
       "Text(0, 0.5, 'median/pd_integral')"
      ]
     },
     "execution_count": 12,
     "metadata": {},
     "output_type": "execute_result"
    },
    {
     "data": {
      "image/png": "[encoded data removed]",
      "text/plain": [
       "<Figure size 640x480 with 1 Axes>"
      ]
     },
     "metadata": {},
     "output_type": "display_data"
    }
   ],
   "source": [
    "pylab.scatter(subset[TEMPKEY],subset['median']/subset['pd_integral']/y0)\n",
    "x = numpy.arange( subset[TEMPKEY].min(), subset[TEMPKEY].max(),0.01)\n",
    "pylab.plot(x, x*slope+intercept,\"-\")\n",
    "pylab.xlabel(TEMPKEY)\n",
    "pylab.ylabel('median/pd_integral')"
   ]
  },
  {
   "cell_type": "code",
   "execution_count": 5,
   "id": "b5b33814-644f-4f17-b47f-45d8eef9567e",
   "metadata": {
    "execution": {
     "iopub.execute_input": "2024-04-19T00:52:13.235402Z",
     "iopub.status.busy": "2024-04-19T00:52:13.235215Z",
     "iopub.status.idle": "2024-04-19T00:52:13.239929Z",
     "shell.execute_reply": "2024-04-19T00:52:13.239610Z",
     "shell.execute_reply.started": "2024-04-19T00:52:13.235390Z"
    }
   },
   "outputs": [],
   "source": [
    "def getcoef( detector ):\n",
    "    df=butler.get('flat_gain_stability_stats',collections=collections,detector=detector)\n",
    "\n",
    "    expids=set(list(df['exposure']))\n",
    "    \n",
    "    fsspec_kwargs = {\n",
    "#        \"default_block_size\": 100000,\n",
    "        \"default_cache_type\": \"bytes\",\n",
    "        \"endpoint_url\": \"https://s3dfrgw.slac.stanford.edu\"\n",
    "    }\n",
    "    \n",
    "    temps1=[]\n",
    "    temps2=[]\n",
    "    expid=[]\n",
    "    for ref in tqdm(sorted( expids )[::]):\n",
    "        try:\n",
    "    \n",
    "            with fits.open(\n",
    "                butler.getURI('raw',dataId={\"exposure\": ref},\n",
    "                collections=collections,detector=detector).geturl(),\n",
    "                use_fsspec=True,\n",
    "                fsspec_kwargs = fsspec_kwargs\n",
    "                 ) as fh:            \n",
    "                expid.append(ref)\n",
    "                temps1.append(fh[-2].header['TEMP6'])\n",
    "                temps2.append(fh[-2].header['TEMP10'])\n",
    "    \n",
    "        except:\n",
    "            pass\n",
    "\n",
    "    dfmerged=pd.merge(df, pd.DataFrame({'exposure': expid, 'TEMP6': temps1, 'TEMP10': temps2 }), on='exposure', how='inner')\n",
    "\n",
    "    ret = {}\n",
    "    for amp in list(set(dfmerged.amp_name)):\n",
    "        subset=dfmerged[dfmerged['amp_name']==amp]\n",
    "        y0=(subset['median']/subset['pd_integral']).min()\n",
    "        x=(subset['TEMP6']+subset['TEMP10'])/2\n",
    "        y=subset['median']/subset['pd_integral']/y0\n",
    "        slope, intercept, r_value, p_value, std_err = stats.linregress(x,y)\n",
    "        ret.update( {amp: { \n",
    "            \"x\": x,\n",
    "            \"y\": y,\n",
    "            \"y0\": y0,\n",
    "            \"slope\": slope,\n",
    "            \"intercept\": intercept,\n",
    "            \"r_value\": r_value,\n",
    "            \"p_value\": p_value,\n",
    "            \"std_err\": std_err } })\n",
    "    return ret"
   ]
  },
  {
   "cell_type": "code",
   "execution_count": null,
   "id": "e5fc941f-9ed7-4553-92f7-5aab56dc154d",
   "metadata": {
    "execution": {
     "iopub.execute_input": "2024-04-19T01:10:33.102053Z",
     "iopub.status.busy": "2024-04-19T01:10:33.101860Z"
    }
   },
   "outputs": [
    {
     "name": "stdout",
     "output_type": "stream",
     "text": [
      "0 R01_S00\n",
      "1 R01_S01\n",
      "2 R01_S02\n",
      "3 R01_S10\n",
      "4 R01_S11\n",
      "5 R01_S12\n",
      "6 R01_S20\n",
      "7 R01_S21\n",
      "8 R01_S22\n",
      "9 R02_S00\n",
      "10 R02_S01\n",
      "11 R02_S02\n",
      "12 R02_S10\n",
      "13 R02_S11\n",
      "14 R02_S12\n",
      "15 R02_S20\n",
      "16 R02_S21\n",
      "17 R02_S22\n",
      "18 R03_S00\n",
      "19 R03_S01\n",
      "20 R03_S02\n",
      "21 R03_S10\n",
      "22 R03_S11\n",
      "23 R03_S12\n",
      "24 R03_S20\n",
      "25 R03_S21\n",
      "26 R03_S22\n",
      "27 R10_S00\n",
      "28 R10_S01\n",
      "29 R10_S02\n",
      "30 R10_S10\n",
      "31 R10_S11\n",
      "32 R10_S12\n",
      "33 R10_S20\n",
      "34 R10_S21\n",
      "35 R10_S22\n",
      "36 R11_S00\n",
      "37 R11_S01\n",
      "38 R11_S02\n",
      "39 R11_S10\n",
      "40 R11_S11\n",
      "41 R11_S12\n",
      "42 R11_S20\n",
      "43 R11_S21\n",
      "44 R11_S22\n",
      "45 R12_S00\n",
      "46 R12_S01\n",
      "47 R12_S02\n",
      "48 R12_S10\n",
      "49 R12_S11\n",
      "50 R12_S12\n",
      "51 R12_S20\n",
      "52 R12_S21\n",
      "53 R12_S22\n",
      "54 R13_S00\n",
      "55 R13_S01\n",
      "56 R13_S02\n",
      "57 R13_S10\n",
      "58 R13_S11\n",
      "59 R13_S12\n",
      "60 R13_S20\n",
      "61 R13_S21\n",
      "62 R13_S22\n",
      "63 R14_S00\n",
      "64 R14_S01\n",
      "65 R14_S02\n",
      "66 R14_S10\n",
      "67 R14_S11\n",
      "68 R14_S12\n",
      "69 R14_S20\n",
      "70 R14_S21\n",
      "71 R14_S22\n",
      "72 R20_S00\n",
      "73 R20_S01\n",
      "74 R20_S02\n",
      "75 R20_S10\n",
      "76 R20_S11\n",
      "77 R20_S12\n",
      "78 R20_S20\n",
      "79 R20_S21\n",
      "80 R20_S22\n",
      "81 R21_S00\n",
      "82 R21_S01\n",
      "83 R21_S02\n",
      "84 R21_S10\n",
      "85 R21_S11\n",
      "86 R21_S12\n",
      "87 R21_S20\n",
      "88 R21_S21\n",
      "89 R21_S22\n",
      "90 R22_S00\n",
      "91 R22_S01\n",
      "92 R22_S02\n",
      "93 R22_S10\n",
      "94 R22_S11\n",
      "95 R22_S12\n",
      "96 R22_S20\n",
      "97 R22_S21\n",
      "98 R22_S22\n",
      "99 R23_S00\n",
      "100 R23_S01\n",
      "101 R23_S02\n",
      "102 R23_S10\n",
      "103 R23_S11\n",
      "104 R23_S12\n",
      "105 R23_S20\n",
      "106 R23_S21\n",
      "107 R23_S22\n",
      "108 R24_S00\n",
      "109 R24_S01\n",
      "110 R24_S02\n",
      "111 R24_S10\n",
      "112 R24_S11\n",
      "113 R24_S12\n",
      "114 R24_S20\n",
      "115 R24_S21\n",
      "116 R24_S22\n",
      "117 R30_S00\n",
      "118 R30_S01\n",
      "119 R30_S02\n",
      "120 R30_S10\n",
      "121 R30_S11\n",
      "122 R30_S12\n",
      "123 R30_S20\n",
      "124 R30_S21\n",
      "125 R30_S22\n",
      "126 R31_S00\n",
      "127 R31_S01\n",
      "128 R31_S02\n",
      "129 R31_S10\n",
      "130 R31_S11\n",
      "131 R31_S12\n",
      "132 R31_S20\n",
      "133 R31_S21\n",
      "134 R31_S22\n",
      "135 R32_S00\n",
      "136 R32_S01\n",
      "137 R32_S02\n",
      "138 R32_S10\n",
      "139 R32_S11\n",
      "140 R32_S12\n",
      "141 R32_S20\n",
      "142 R32_S21\n",
      "143 R32_S22\n",
      "144 R33_S00\n",
      "145 R33_S01\n",
      "146 R33_S02\n",
      "147 R33_S10\n",
      "148 R33_S11\n",
      "149 R33_S12\n",
      "150 R33_S20\n",
      "151 R33_S21\n",
      "152 R33_S22\n",
      "153 R34_S00\n",
      "154 R34_S01\n",
      "155 R34_S02\n",
      "156 R34_S10\n",
      "157 R34_S11\n",
      "158 R34_S12\n",
      "159 R34_S20\n",
      "160 R34_S21\n",
      "161 R34_S22\n",
      "162 R41_S00\n",
      "163 R41_S01\n",
      "164 R41_S02\n",
      "165 R41_S10\n",
      "166 R41_S11\n",
      "167 R41_S12\n",
      "168 R41_S20\n",
      "169 R41_S21\n",
      "170 R41_S22\n"
     ]
    },
    {
     "name": "stderr",
     "output_type": "stream",
     "text": [
      "100%|██████████| 1110/1110 [11:21<00:00,  1.63it/s] \n"
     ]
    },
    {
     "name": "stdout",
     "output_type": "stream",
     "text": [
      "171 R42_S00\n"
     ]
    },
    {
     "name": "stderr",
     "output_type": "stream",
     "text": [
      "100%|██████████| 1110/1110 [10:04<00:00,  1.84it/s]\n"
     ]
    },
    {
     "name": "stdout",
     "output_type": "stream",
     "text": [
      "172 R42_S01\n"
     ]
    },
    {
     "name": "stderr",
     "output_type": "stream",
     "text": [
      "100%|██████████| 1110/1110 [10:28<00:00,  1.76it/s]\n"
     ]
    },
    {
     "name": "stdout",
     "output_type": "stream",
     "text": [
      "173 R42_S02\n"
     ]
    },
    {
     "name": "stderr",
     "output_type": "stream",
     "text": [
      "100%|██████████| 1110/1110 [10:07<00:00,  1.83it/s]\n"
     ]
    },
    {
     "name": "stdout",
     "output_type": "stream",
     "text": [
      "174 R42_S10\n"
     ]
    },
    {
     "name": "stderr",
     "output_type": "stream",
     "text": [
      "100%|██████████| 1110/1110 [10:25<00:00,  1.78it/s]\n"
     ]
    },
    {
     "name": "stdout",
     "output_type": "stream",
     "text": [
      "175 R42_S11\n"
     ]
    },
    {
     "name": "stderr",
     "output_type": "stream",
     "text": [
      " 66%|██████▌   | 735/1110 [07:08<03:52,  1.61it/s]"
     ]
    }
   ],
   "source": [
    "for did in list(registry.queryDimensionRecords(\"detector\",instrument='LSSTCam')):\n",
    "    print(did.id, did.full_name)\n",
    "    path = f'{did.full_name}.pickle'\n",
    "    if os.path.exists(path):\n",
    "        continue\n",
    "\n",
    "    ret={ did.full_name: getcoef(did.id) }\n",
    "    with open(path,'wb') as f:\n",
    "        pickle.dump(ret,f)\n",
    "    \n",
    "\n",
    "#getcoef('')"
   ]
  },
  {
   "cell_type": "code",
   "execution_count": null,
   "id": "63ed76ac-384f-4bcd-827a-3f62f2f538b2",
   "metadata": {
    "execution": {
     "iopub.status.busy": "2024-04-19T01:03:53.936641Z",
     "iopub.status.idle": "2024-04-19T01:03:53.936810Z",
     "shell.execute_reply": "2024-04-19T01:03:53.936731Z",
     "shell.execute_reply.started": "2024-04-19T01:03:53.936723Z"
    }
   },
   "outputs": [],
   "source": [
    "pylab.hist([ ret['R01_S01'][x]['y0'] for x in ret['R01_S01'] ])"
   ]
  },
  {
   "cell_type": "code",
   "execution_count": null,
   "id": "e76793c5-9130-4f8b-8ae8-a1e822d325d2",
   "metadata": {
    "execution": {
     "execution_failed": "2024-04-17T14:57:21.719Z"
    }
   },
   "outputs": [],
   "source": [
    "pylab.hist([ ret['R01_S01'][x]['slope'] for x in ret['R01_S01'] ])"
   ]
  },
  {
   "cell_type": "code",
   "execution_count": null,
   "id": "4044f7e5-e271-4300-8b6e-b6f0c824ac04",
   "metadata": {
    "execution": {
     "execution_failed": "2024-04-17T14:57:21.719Z"
    }
   },
   "outputs": [],
   "source": [
    "import pickle\n",
    "with open('gaintemp.pickle','wb') as f:\n",
    "    pickle.dump(ret,f)"
   ]
  },
  {
   "cell_type": "code",
   "execution_count": null,
   "id": "6b1cb63d-cb69-40ce-adb5-82390741e23f",
   "metadata": {},
   "outputs": [],
   "source": []
  }
 ],
 "metadata": {
  "kernelspec": {
   "display_name": "LSST",
   "language": "python",
   "name": "lsst"
  },
  "language_info": {
   "codemirror_mode": {
    "name": "ipython",
    "version": 3
   },
   "file_extension": ".py",
   "mimetype": "text/x-python",
   "name": "python",
   "nbconvert_exporter": "python",
   "pygments_lexer": "ipython3",
   "version": "3.11.9"
  }
 },
 "nbformat": 4,
 "nbformat_minor": 5
}
