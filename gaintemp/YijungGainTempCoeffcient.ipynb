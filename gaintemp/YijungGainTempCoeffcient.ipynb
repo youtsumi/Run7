{
 "cells": [
  {
   "cell_type": "code",
   "execution_count": 1,
   "id": "9e429098-52ba-454e-b5eb-e132e60c8d9c",
   "metadata": {
    "execution": {
     "iopub.execute_input": "2024-10-30T14:44:24.706277Z",
     "iopub.status.busy": "2024-10-30T14:44:24.706090Z",
     "iopub.status.idle": "2024-10-30T14:44:26.248144Z",
     "shell.execute_reply": "2024-10-30T14:44:26.247677Z",
     "shell.execute_reply.started": "2024-10-30T14:44:24.706262Z"
    }
   },
   "outputs": [],
   "source": [
    "from lsst.daf.butler import Butler\n",
    "from astropy.table import Table\n",
    "import pylab\n",
    "import numpy\n",
    "from astropy.stats import mad_std\n",
    "from tqdm import tqdm\n",
    "from astropy.io import fits\n",
    "import pandas as pd\n",
    "from scipy import stats\n",
    "from multiprocessing import Pool\n",
    "import pickle\n",
    "import os"
   ]
  },
  {
   "cell_type": "code",
   "execution_count": 2,
   "id": "21de34f6-b941-4388-bebd-8c884a33fb46",
   "metadata": {
    "execution": {
     "iopub.execute_input": "2024-10-30T14:44:26.284418Z",
     "iopub.status.busy": "2024-10-30T14:44:26.284297Z",
     "iopub.status.idle": "2024-10-30T14:44:26.847600Z",
     "shell.execute_reply": "2024-10-30T14:44:26.847049Z",
     "shell.execute_reply.started": "2024-10-30T14:44:26.284404Z"
    }
   },
   "outputs": [
    {
     "data": {
      "text/html": [
       "<pre style=\"margin: 0.1em;\n",
       "padding-left: 0.25em;\n",
       "border-left-style: solid;\n",
       "font-family: var(--jp-code-font-family);\n",
       "font-size: var(--jp-code-font-size);\n",
       "line-height: var(--jp-code-line-height);\n",
       "\"><span style=\"color: var(--jp-warn-color2)\">botocore.credentials</span> <span style=\"color: var(--jp-info-color0)\">INFO</span>: Found credentials in shared credentials file: /home/y/youtsumi/.lsst/aws-credentials.ini</pre>"
      ],
      "text/plain": [
       "<IPython.core.display.HTML object>"
      ]
     },
     "metadata": {},
     "output_type": "display_data"
    }
   ],
   "source": [
    "repo_path = \"embargo_new\"\n",
    "butler = Butler(repo_path,instrument='LSSTCam')\n",
    "registry = butler.registry"
   ]
  },
  {
   "cell_type": "markdown",
   "id": "83f33051-3aed-4270-bfbb-618e352c2730",
   "metadata": {},
   "source": [
    "We query what collections we have in the repository"
   ]
  },
  {
   "cell_type": "code",
   "execution_count": 3,
   "id": "2a0aee4c-1ad0-434a-8754-3e84fa4b9f96",
   "metadata": {
    "execution": {
     "iopub.execute_input": "2024-10-30T14:44:26.848303Z",
     "iopub.status.busy": "2024-10-30T14:44:26.848153Z",
     "iopub.status.idle": "2024-10-30T14:44:27.116165Z",
     "shell.execute_reply": "2024-10-30T14:44:27.115697Z",
     "shell.execute_reply.started": "2024-10-30T14:44:26.848289Z"
    }
   },
   "outputs": [
    {
     "data": {
      "text/plain": [
       "['u/lsstccs/eo_flat_gain_stability_E1496_w_2024_35/20241025T082704Z',\n",
       " 'u/lsstccs/eo_flat_gain_stability_E1496_w_2024_35']"
      ]
     },
     "execution_count": 3,
     "metadata": {},
     "output_type": "execute_result"
    }
   ],
   "source": [
    "#13590\n",
    "#13535\n",
    "#13525\n",
    "# https://confluence.slac.stanford.edu/pages/viewpage.action?pageId=405094202\n",
    "collections = list(registry.queryCollections(\"*stability*E1496*\"))\n",
    "collections"
   ]
  },
  {
   "cell_type": "markdown",
   "id": "50d7743b-1869-4de7-95ea-2eb14986b291",
   "metadata": {},
   "source": [
    "We query what dataset are in this collections"
   ]
  },
  {
   "cell_type": "code",
   "execution_count": 4,
   "id": "12620af4-b62f-4b62-8e81-11da4ef37760",
   "metadata": {
    "execution": {
     "iopub.execute_input": "2024-10-30T14:44:27.116833Z",
     "iopub.status.busy": "2024-10-30T14:44:27.116695Z",
     "iopub.status.idle": "2024-10-30T14:44:27.136941Z",
     "shell.execute_reply": "2024-10-30T14:44:27.136536Z",
     "shell.execute_reply.started": "2024-10-30T14:44:27.116819Z"
    }
   },
   "outputs": [
    {
     "data": {
      "text/plain": [
       "99"
      ]
     },
     "execution_count": 4,
     "metadata": {},
     "output_type": "execute_result"
    }
   ],
   "source": [
    "sensor=\"R23_S00\"\n",
    "detector=list(registry.queryDimensionRecords(\"detector\",instrument='LSSTCam',where=f\"detector.full_name='{sensor}'\"))[0].id\n",
    "detector"
   ]
  },
  {
   "cell_type": "code",
   "execution_count": 8,
   "id": "b5b33814-644f-4f17-b47f-45d8eef9567e",
   "metadata": {
    "execution": {
     "iopub.execute_input": "2024-10-30T15:37:32.916802Z",
     "iopub.status.busy": "2024-10-30T15:37:32.916190Z",
     "iopub.status.idle": "2024-10-30T15:37:32.922009Z",
     "shell.execute_reply": "2024-10-30T15:37:32.921574Z",
     "shell.execute_reply.started": "2024-10-30T15:37:32.916780Z"
    }
   },
   "outputs": [],
   "source": [
    "import traceback\n",
    "def getcoef( detector ):\n",
    "    print(collections,detector)\n",
    "    df=butler.get('flat_gain_stability_stats',collections=collections,detector=detector)\n",
    "\n",
    "    expids=set(list(df['exposure']))\n",
    "\n",
    "    mjd=[]\n",
    "    temps1=[]\n",
    "    temps2=[]\n",
    "    expid=[]\n",
    "    for ref in tqdm(sorted( expids )[::]):\n",
    "        try:\n",
    "            header = butler.get('raw.metadata',\n",
    "                                dataId={\"exposure\": ref},\n",
    "                                collections=collections,detector=detector)\n",
    "            expid.append(ref)\n",
    "            temps1.append(header['TEMP6'])\n",
    "            temps2.append(header['TEMP10'])\n",
    "            mjd.append(header['MJD'])\n",
    "        except:\n",
    "            traceback.print_exc()\n",
    "            pass\n",
    "\n",
    "    dfmerged=pd.merge(df, pd.DataFrame({'exposure': expid, 'TEMP6': temps1, 'TEMP10': temps2, 'MJD': mjd }), on='exposure', how='inner')\n",
    "\n",
    "    ret = {}\n",
    "    for amp in list(set(dfmerged.amp_name)):\n",
    "        subset=dfmerged[dfmerged['amp_name']==amp]\n",
    "        y0=(subset['median']/subset['pd_integral']).min()\n",
    "        x=(subset['TEMP6']+subset['TEMP10'])/2\n",
    "        y=subset['median']/subset['pd_integral']/y0\n",
    "        slope, intercept, r_value, p_value, std_err = stats.linregress(x,y)\n",
    "        ret.update( {amp: { \n",
    "            \"mjd\": subset['MJD'],\n",
    "            \"x\": x,\n",
    "            \"y\": y,\n",
    "            \"y0\": y0,\n",
    "            \"slope\": slope,\n",
    "            \"intercept\": intercept,\n",
    "            \"r_value\": r_value,\n",
    "            \"p_value\": p_value,\n",
    "            \"std_err\": std_err } })\n",
    "    return ret"
   ]
  },
  {
   "cell_type": "code",
   "execution_count": 9,
   "id": "e5fc941f-9ed7-4553-92f7-5aab56dc154d",
   "metadata": {
    "execution": {
     "iopub.execute_input": "2024-10-30T15:37:35.010847Z",
     "iopub.status.busy": "2024-10-30T15:37:35.010181Z",
     "iopub.status.idle": "2024-10-30T17:28:40.764085Z",
     "shell.execute_reply": "2024-10-30T17:28:40.763530Z",
     "shell.execute_reply.started": "2024-10-30T15:37:35.010823Z"
    }
   },
   "outputs": [
    {
     "name": "stdout",
     "output_type": "stream",
     "text": [
      "0 R01_S00\n",
      "/home/y/youtsumi/notebooks/Run7/gaintemp/R01_S00.pickle\n",
      "['u/lsstccs/eo_flat_gain_stability_E1496_w_2024_35/20241025T082704Z', 'u/lsstccs/eo_flat_gain_stability_E1496_w_2024_35'] 0\n"
     ]
    },
    {
     "name": "stderr",
     "output_type": "stream",
     "text": [
      "100%|██████████| 555/555 [00:35<00:00, 15.74it/s]\n"
     ]
    },
    {
     "name": "stdout",
     "output_type": "stream",
     "text": [
      "1 R01_S01\n",
      "/home/y/youtsumi/notebooks/Run7/gaintemp/R01_S01.pickle\n",
      "['u/lsstccs/eo_flat_gain_stability_E1496_w_2024_35/20241025T082704Z', 'u/lsstccs/eo_flat_gain_stability_E1496_w_2024_35'] 1\n"
     ]
    },
    {
     "name": "stderr",
     "output_type": "stream",
     "text": [
      "100%|██████████| 555/555 [00:36<00:00, 15.27it/s]\n"
     ]
    },
    {
     "name": "stdout",
     "output_type": "stream",
     "text": [
      "2 R01_S02\n",
      "/home/y/youtsumi/notebooks/Run7/gaintemp/R01_S02.pickle\n",
      "['u/lsstccs/eo_flat_gain_stability_E1496_w_2024_35/20241025T082704Z', 'u/lsstccs/eo_flat_gain_stability_E1496_w_2024_35'] 2\n"
     ]
    },
    {
     "name": "stderr",
     "output_type": "stream",
     "text": [
      "100%|██████████| 555/555 [00:36<00:00, 15.27it/s]\n"
     ]
    },
    {
     "name": "stdout",
     "output_type": "stream",
     "text": [
      "3 R01_S10\n",
      "/home/y/youtsumi/notebooks/Run7/gaintemp/R01_S10.pickle\n",
      "['u/lsstccs/eo_flat_gain_stability_E1496_w_2024_35/20241025T082704Z', 'u/lsstccs/eo_flat_gain_stability_E1496_w_2024_35'] 3\n"
     ]
    },
    {
     "name": "stderr",
     "output_type": "stream",
     "text": [
      "100%|██████████| 555/555 [00:36<00:00, 15.04it/s]\n"
     ]
    },
    {
     "name": "stdout",
     "output_type": "stream",
     "text": [
      "4 R01_S11\n",
      "/home/y/youtsumi/notebooks/Run7/gaintemp/R01_S11.pickle\n",
      "['u/lsstccs/eo_flat_gain_stability_E1496_w_2024_35/20241025T082704Z', 'u/lsstccs/eo_flat_gain_stability_E1496_w_2024_35'] 4\n"
     ]
    },
    {
     "name": "stderr",
     "output_type": "stream",
     "text": [
      "100%|██████████| 555/555 [00:36<00:00, 15.06it/s]\n"
     ]
    },
    {
     "name": "stdout",
     "output_type": "stream",
     "text": [
      "5 R01_S12\n",
      "/home/y/youtsumi/notebooks/Run7/gaintemp/R01_S12.pickle\n",
      "['u/lsstccs/eo_flat_gain_stability_E1496_w_2024_35/20241025T082704Z', 'u/lsstccs/eo_flat_gain_stability_E1496_w_2024_35'] 5\n"
     ]
    },
    {
     "name": "stderr",
     "output_type": "stream",
     "text": [
      "100%|██████████| 555/555 [00:36<00:00, 15.15it/s]\n"
     ]
    },
    {
     "name": "stdout",
     "output_type": "stream",
     "text": [
      "6 R01_S20\n",
      "/home/y/youtsumi/notebooks/Run7/gaintemp/R01_S20.pickle\n",
      "['u/lsstccs/eo_flat_gain_stability_E1496_w_2024_35/20241025T082704Z', 'u/lsstccs/eo_flat_gain_stability_E1496_w_2024_35'] 6\n"
     ]
    },
    {
     "name": "stderr",
     "output_type": "stream",
     "text": [
      "100%|██████████| 555/555 [00:36<00:00, 15.37it/s]\n"
     ]
    },
    {
     "name": "stdout",
     "output_type": "stream",
     "text": [
      "7 R01_S21\n",
      "/home/y/youtsumi/notebooks/Run7/gaintemp/R01_S21.pickle\n",
      "['u/lsstccs/eo_flat_gain_stability_E1496_w_2024_35/20241025T082704Z', 'u/lsstccs/eo_flat_gain_stability_E1496_w_2024_35'] 7\n"
     ]
    },
    {
     "name": "stderr",
     "output_type": "stream",
     "text": [
      "100%|██████████| 555/555 [00:36<00:00, 15.12it/s]\n"
     ]
    },
    {
     "name": "stdout",
     "output_type": "stream",
     "text": [
      "8 R01_S22\n",
      "/home/y/youtsumi/notebooks/Run7/gaintemp/R01_S22.pickle\n",
      "['u/lsstccs/eo_flat_gain_stability_E1496_w_2024_35/20241025T082704Z', 'u/lsstccs/eo_flat_gain_stability_E1496_w_2024_35'] 8\n"
     ]
    },
    {
     "name": "stderr",
     "output_type": "stream",
     "text": [
      "100%|██████████| 555/555 [00:36<00:00, 15.03it/s]\n"
     ]
    },
    {
     "name": "stdout",
     "output_type": "stream",
     "text": [
      "9 R02_S00\n",
      "/home/y/youtsumi/notebooks/Run7/gaintemp/R02_S00.pickle\n",
      "['u/lsstccs/eo_flat_gain_stability_E1496_w_2024_35/20241025T082704Z', 'u/lsstccs/eo_flat_gain_stability_E1496_w_2024_35'] 9\n"
     ]
    },
    {
     "name": "stderr",
     "output_type": "stream",
     "text": [
      "100%|██████████| 555/555 [00:36<00:00, 15.07it/s]\n"
     ]
    },
    {
     "name": "stdout",
     "output_type": "stream",
     "text": [
      "10 R02_S01\n",
      "/home/y/youtsumi/notebooks/Run7/gaintemp/R02_S01.pickle\n",
      "['u/lsstccs/eo_flat_gain_stability_E1496_w_2024_35/20241025T082704Z', 'u/lsstccs/eo_flat_gain_stability_E1496_w_2024_35'] 10\n"
     ]
    },
    {
     "name": "stderr",
     "output_type": "stream",
     "text": [
      "100%|██████████| 555/555 [00:36<00:00, 15.11it/s]\n"
     ]
    },
    {
     "name": "stdout",
     "output_type": "stream",
     "text": [
      "11 R02_S02\n",
      "/home/y/youtsumi/notebooks/Run7/gaintemp/R02_S02.pickle\n",
      "['u/lsstccs/eo_flat_gain_stability_E1496_w_2024_35/20241025T082704Z', 'u/lsstccs/eo_flat_gain_stability_E1496_w_2024_35'] 11\n"
     ]
    },
    {
     "name": "stderr",
     "output_type": "stream",
     "text": [
      "100%|██████████| 555/555 [00:35<00:00, 15.56it/s]\n"
     ]
    },
    {
     "name": "stdout",
     "output_type": "stream",
     "text": [
      "12 R02_S10\n",
      "/home/y/youtsumi/notebooks/Run7/gaintemp/R02_S10.pickle\n",
      "['u/lsstccs/eo_flat_gain_stability_E1496_w_2024_35/20241025T082704Z', 'u/lsstccs/eo_flat_gain_stability_E1496_w_2024_35'] 12\n"
     ]
    },
    {
     "name": "stderr",
     "output_type": "stream",
     "text": [
      "100%|██████████| 555/555 [00:35<00:00, 15.59it/s]\n"
     ]
    },
    {
     "name": "stdout",
     "output_type": "stream",
     "text": [
      "13 R02_S11\n",
      "/home/y/youtsumi/notebooks/Run7/gaintemp/R02_S11.pickle\n",
      "['u/lsstccs/eo_flat_gain_stability_E1496_w_2024_35/20241025T082704Z', 'u/lsstccs/eo_flat_gain_stability_E1496_w_2024_35'] 13\n"
     ]
    },
    {
     "name": "stderr",
     "output_type": "stream",
     "text": [
      "100%|██████████| 555/555 [00:36<00:00, 15.27it/s]\n"
     ]
    },
    {
     "name": "stdout",
     "output_type": "stream",
     "text": [
      "14 R02_S12\n",
      "/home/y/youtsumi/notebooks/Run7/gaintemp/R02_S12.pickle\n",
      "['u/lsstccs/eo_flat_gain_stability_E1496_w_2024_35/20241025T082704Z', 'u/lsstccs/eo_flat_gain_stability_E1496_w_2024_35'] 14\n"
     ]
    },
    {
     "name": "stderr",
     "output_type": "stream",
     "text": [
      "100%|██████████| 555/555 [00:35<00:00, 15.62it/s]\n"
     ]
    },
    {
     "name": "stdout",
     "output_type": "stream",
     "text": [
      "15 R02_S20\n",
      "/home/y/youtsumi/notebooks/Run7/gaintemp/R02_S20.pickle\n",
      "['u/lsstccs/eo_flat_gain_stability_E1496_w_2024_35/20241025T082704Z', 'u/lsstccs/eo_flat_gain_stability_E1496_w_2024_35'] 15\n"
     ]
    },
    {
     "name": "stderr",
     "output_type": "stream",
     "text": [
      "100%|██████████| 555/555 [00:35<00:00, 15.59it/s]\n"
     ]
    },
    {
     "name": "stdout",
     "output_type": "stream",
     "text": [
      "16 R02_S21\n",
      "/home/y/youtsumi/notebooks/Run7/gaintemp/R02_S21.pickle\n",
      "['u/lsstccs/eo_flat_gain_stability_E1496_w_2024_35/20241025T082704Z', 'u/lsstccs/eo_flat_gain_stability_E1496_w_2024_35'] 16\n"
     ]
    },
    {
     "name": "stderr",
     "output_type": "stream",
     "text": [
      "100%|██████████| 555/555 [00:36<00:00, 15.20it/s]\n"
     ]
    },
    {
     "name": "stdout",
     "output_type": "stream",
     "text": [
      "17 R02_S22\n",
      "/home/y/youtsumi/notebooks/Run7/gaintemp/R02_S22.pickle\n",
      "['u/lsstccs/eo_flat_gain_stability_E1496_w_2024_35/20241025T082704Z', 'u/lsstccs/eo_flat_gain_stability_E1496_w_2024_35'] 17\n"
     ]
    },
    {
     "name": "stderr",
     "output_type": "stream",
     "text": [
      "100%|██████████| 555/555 [00:35<00:00, 15.49it/s]\n"
     ]
    },
    {
     "name": "stdout",
     "output_type": "stream",
     "text": [
      "18 R03_S00\n",
      "/home/y/youtsumi/notebooks/Run7/gaintemp/R03_S00.pickle\n",
      "['u/lsstccs/eo_flat_gain_stability_E1496_w_2024_35/20241025T082704Z', 'u/lsstccs/eo_flat_gain_stability_E1496_w_2024_35'] 18\n"
     ]
    },
    {
     "name": "stderr",
     "output_type": "stream",
     "text": [
      "100%|██████████| 555/555 [00:35<00:00, 15.52it/s]\n"
     ]
    },
    {
     "name": "stdout",
     "output_type": "stream",
     "text": [
      "19 R03_S01\n",
      "/home/y/youtsumi/notebooks/Run7/gaintemp/R03_S01.pickle\n",
      "['u/lsstccs/eo_flat_gain_stability_E1496_w_2024_35/20241025T082704Z', 'u/lsstccs/eo_flat_gain_stability_E1496_w_2024_35'] 19\n"
     ]
    },
    {
     "name": "stderr",
     "output_type": "stream",
     "text": [
      "100%|██████████| 555/555 [00:35<00:00, 15.81it/s]\n"
     ]
    },
    {
     "name": "stdout",
     "output_type": "stream",
     "text": [
      "20 R03_S02\n",
      "/home/y/youtsumi/notebooks/Run7/gaintemp/R03_S02.pickle\n",
      "['u/lsstccs/eo_flat_gain_stability_E1496_w_2024_35/20241025T082704Z', 'u/lsstccs/eo_flat_gain_stability_E1496_w_2024_35'] 20\n"
     ]
    },
    {
     "name": "stderr",
     "output_type": "stream",
     "text": [
      "100%|██████████| 555/555 [00:35<00:00, 15.49it/s]\n"
     ]
    },
    {
     "name": "stdout",
     "output_type": "stream",
     "text": [
      "21 R03_S10\n",
      "/home/y/youtsumi/notebooks/Run7/gaintemp/R03_S10.pickle\n",
      "['u/lsstccs/eo_flat_gain_stability_E1496_w_2024_35/20241025T082704Z', 'u/lsstccs/eo_flat_gain_stability_E1496_w_2024_35'] 21\n"
     ]
    },
    {
     "name": "stderr",
     "output_type": "stream",
     "text": [
      "100%|██████████| 555/555 [00:35<00:00, 15.72it/s]\n"
     ]
    },
    {
     "name": "stdout",
     "output_type": "stream",
     "text": [
      "22 R03_S11\n",
      "/home/y/youtsumi/notebooks/Run7/gaintemp/R03_S11.pickle\n",
      "['u/lsstccs/eo_flat_gain_stability_E1496_w_2024_35/20241025T082704Z', 'u/lsstccs/eo_flat_gain_stability_E1496_w_2024_35'] 22\n"
     ]
    },
    {
     "name": "stderr",
     "output_type": "stream",
     "text": [
      "100%|██████████| 555/555 [00:34<00:00, 16.05it/s]\n"
     ]
    },
    {
     "name": "stdout",
     "output_type": "stream",
     "text": [
      "23 R03_S12\n",
      "/home/y/youtsumi/notebooks/Run7/gaintemp/R03_S12.pickle\n",
      "['u/lsstccs/eo_flat_gain_stability_E1496_w_2024_35/20241025T082704Z', 'u/lsstccs/eo_flat_gain_stability_E1496_w_2024_35'] 23\n"
     ]
    },
    {
     "name": "stderr",
     "output_type": "stream",
     "text": [
      "100%|██████████| 555/555 [00:34<00:00, 15.99it/s]\n"
     ]
    },
    {
     "name": "stdout",
     "output_type": "stream",
     "text": [
      "24 R03_S20\n",
      "/home/y/youtsumi/notebooks/Run7/gaintemp/R03_S20.pickle\n",
      "['u/lsstccs/eo_flat_gain_stability_E1496_w_2024_35/20241025T082704Z', 'u/lsstccs/eo_flat_gain_stability_E1496_w_2024_35'] 24\n"
     ]
    },
    {
     "name": "stderr",
     "output_type": "stream",
     "text": [
      "100%|██████████| 555/555 [00:35<00:00, 15.78it/s]\n"
     ]
    },
    {
     "name": "stdout",
     "output_type": "stream",
     "text": [
      "25 R03_S21\n",
      "/home/y/youtsumi/notebooks/Run7/gaintemp/R03_S21.pickle\n",
      "['u/lsstccs/eo_flat_gain_stability_E1496_w_2024_35/20241025T082704Z', 'u/lsstccs/eo_flat_gain_stability_E1496_w_2024_35'] 25\n"
     ]
    },
    {
     "name": "stderr",
     "output_type": "stream",
     "text": [
      "100%|██████████| 555/555 [00:35<00:00, 15.62it/s]\n"
     ]
    },
    {
     "name": "stdout",
     "output_type": "stream",
     "text": [
      "26 R03_S22\n",
      "/home/y/youtsumi/notebooks/Run7/gaintemp/R03_S22.pickle\n",
      "['u/lsstccs/eo_flat_gain_stability_E1496_w_2024_35/20241025T082704Z', 'u/lsstccs/eo_flat_gain_stability_E1496_w_2024_35'] 26\n"
     ]
    },
    {
     "name": "stderr",
     "output_type": "stream",
     "text": [
      "100%|██████████| 555/555 [00:34<00:00, 15.91it/s]\n"
     ]
    },
    {
     "name": "stdout",
     "output_type": "stream",
     "text": [
      "27 R10_S00\n",
      "/home/y/youtsumi/notebooks/Run7/gaintemp/R10_S00.pickle\n",
      "['u/lsstccs/eo_flat_gain_stability_E1496_w_2024_35/20241025T082704Z', 'u/lsstccs/eo_flat_gain_stability_E1496_w_2024_35'] 27\n"
     ]
    },
    {
     "name": "stderr",
     "output_type": "stream",
     "text": [
      "100%|██████████| 555/555 [00:35<00:00, 15.54it/s]\n"
     ]
    },
    {
     "name": "stdout",
     "output_type": "stream",
     "text": [
      "28 R10_S01\n",
      "/home/y/youtsumi/notebooks/Run7/gaintemp/R10_S01.pickle\n",
      "['u/lsstccs/eo_flat_gain_stability_E1496_w_2024_35/20241025T082704Z', 'u/lsstccs/eo_flat_gain_stability_E1496_w_2024_35'] 28\n"
     ]
    },
    {
     "name": "stderr",
     "output_type": "stream",
     "text": [
      "100%|██████████| 555/555 [00:35<00:00, 15.74it/s]\n"
     ]
    },
    {
     "name": "stdout",
     "output_type": "stream",
     "text": [
      "29 R10_S02\n",
      "/home/y/youtsumi/notebooks/Run7/gaintemp/R10_S02.pickle\n",
      "['u/lsstccs/eo_flat_gain_stability_E1496_w_2024_35/20241025T082704Z', 'u/lsstccs/eo_flat_gain_stability_E1496_w_2024_35'] 29\n"
     ]
    },
    {
     "name": "stderr",
     "output_type": "stream",
     "text": [
      "100%|██████████| 555/555 [00:34<00:00, 15.97it/s]\n"
     ]
    },
    {
     "name": "stdout",
     "output_type": "stream",
     "text": [
      "30 R10_S10\n",
      "/home/y/youtsumi/notebooks/Run7/gaintemp/R10_S10.pickle\n",
      "['u/lsstccs/eo_flat_gain_stability_E1496_w_2024_35/20241025T082704Z', 'u/lsstccs/eo_flat_gain_stability_E1496_w_2024_35'] 30\n"
     ]
    },
    {
     "name": "stderr",
     "output_type": "stream",
     "text": [
      "100%|██████████| 555/555 [00:34<00:00, 16.08it/s]\n"
     ]
    },
    {
     "name": "stdout",
     "output_type": "stream",
     "text": [
      "31 R10_S11\n",
      "/home/y/youtsumi/notebooks/Run7/gaintemp/R10_S11.pickle\n",
      "['u/lsstccs/eo_flat_gain_stability_E1496_w_2024_35/20241025T082704Z', 'u/lsstccs/eo_flat_gain_stability_E1496_w_2024_35'] 31\n"
     ]
    },
    {
     "name": "stderr",
     "output_type": "stream",
     "text": [
      "100%|██████████| 555/555 [00:35<00:00, 15.74it/s]\n"
     ]
    },
    {
     "name": "stdout",
     "output_type": "stream",
     "text": [
      "32 R10_S12\n",
      "/home/y/youtsumi/notebooks/Run7/gaintemp/R10_S12.pickle\n",
      "['u/lsstccs/eo_flat_gain_stability_E1496_w_2024_35/20241025T082704Z', 'u/lsstccs/eo_flat_gain_stability_E1496_w_2024_35'] 32\n"
     ]
    },
    {
     "name": "stderr",
     "output_type": "stream",
     "text": [
      "100%|██████████| 555/555 [00:36<00:00, 15.39it/s]\n"
     ]
    },
    {
     "name": "stdout",
     "output_type": "stream",
     "text": [
      "33 R10_S20\n",
      "/home/y/youtsumi/notebooks/Run7/gaintemp/R10_S20.pickle\n",
      "['u/lsstccs/eo_flat_gain_stability_E1496_w_2024_35/20241025T082704Z', 'u/lsstccs/eo_flat_gain_stability_E1496_w_2024_35'] 33\n"
     ]
    },
    {
     "name": "stderr",
     "output_type": "stream",
     "text": [
      "100%|██████████| 555/555 [00:35<00:00, 15.83it/s]\n"
     ]
    },
    {
     "name": "stdout",
     "output_type": "stream",
     "text": [
      "34 R10_S21\n",
      "/home/y/youtsumi/notebooks/Run7/gaintemp/R10_S21.pickle\n",
      "['u/lsstccs/eo_flat_gain_stability_E1496_w_2024_35/20241025T082704Z', 'u/lsstccs/eo_flat_gain_stability_E1496_w_2024_35'] 34\n"
     ]
    },
    {
     "name": "stderr",
     "output_type": "stream",
     "text": [
      "100%|██████████| 555/555 [00:34<00:00, 15.95it/s]\n"
     ]
    },
    {
     "name": "stdout",
     "output_type": "stream",
     "text": [
      "35 R10_S22\n",
      "/home/y/youtsumi/notebooks/Run7/gaintemp/R10_S22.pickle\n",
      "['u/lsstccs/eo_flat_gain_stability_E1496_w_2024_35/20241025T082704Z', 'u/lsstccs/eo_flat_gain_stability_E1496_w_2024_35'] 35\n"
     ]
    },
    {
     "name": "stderr",
     "output_type": "stream",
     "text": [
      "100%|██████████| 555/555 [00:35<00:00, 15.69it/s]\n"
     ]
    },
    {
     "name": "stdout",
     "output_type": "stream",
     "text": [
      "36 R11_S00\n",
      "/home/y/youtsumi/notebooks/Run7/gaintemp/R11_S00.pickle\n",
      "['u/lsstccs/eo_flat_gain_stability_E1496_w_2024_35/20241025T082704Z', 'u/lsstccs/eo_flat_gain_stability_E1496_w_2024_35'] 36\n"
     ]
    },
    {
     "name": "stderr",
     "output_type": "stream",
     "text": [
      "100%|██████████| 555/555 [00:36<00:00, 15.41it/s]\n"
     ]
    },
    {
     "name": "stdout",
     "output_type": "stream",
     "text": [
      "37 R11_S01\n",
      "/home/y/youtsumi/notebooks/Run7/gaintemp/R11_S01.pickle\n",
      "['u/lsstccs/eo_flat_gain_stability_E1496_w_2024_35/20241025T082704Z', 'u/lsstccs/eo_flat_gain_stability_E1496_w_2024_35'] 37\n"
     ]
    },
    {
     "name": "stderr",
     "output_type": "stream",
     "text": [
      "100%|██████████| 555/555 [00:37<00:00, 14.62it/s]\n"
     ]
    },
    {
     "name": "stdout",
     "output_type": "stream",
     "text": [
      "38 R11_S02\n",
      "/home/y/youtsumi/notebooks/Run7/gaintemp/R11_S02.pickle\n",
      "['u/lsstccs/eo_flat_gain_stability_E1496_w_2024_35/20241025T082704Z', 'u/lsstccs/eo_flat_gain_stability_E1496_w_2024_35'] 38\n"
     ]
    },
    {
     "name": "stderr",
     "output_type": "stream",
     "text": [
      "100%|██████████| 555/555 [00:34<00:00, 15.86it/s]\n"
     ]
    },
    {
     "name": "stdout",
     "output_type": "stream",
     "text": [
      "39 R11_S10\n",
      "/home/y/youtsumi/notebooks/Run7/gaintemp/R11_S10.pickle\n",
      "['u/lsstccs/eo_flat_gain_stability_E1496_w_2024_35/20241025T082704Z', 'u/lsstccs/eo_flat_gain_stability_E1496_w_2024_35'] 39\n"
     ]
    },
    {
     "name": "stderr",
     "output_type": "stream",
     "text": [
      "100%|██████████| 555/555 [00:35<00:00, 15.82it/s]\n"
     ]
    },
    {
     "name": "stdout",
     "output_type": "stream",
     "text": [
      "40 R11_S11\n",
      "/home/y/youtsumi/notebooks/Run7/gaintemp/R11_S11.pickle\n",
      "['u/lsstccs/eo_flat_gain_stability_E1496_w_2024_35/20241025T082704Z', 'u/lsstccs/eo_flat_gain_stability_E1496_w_2024_35'] 40\n"
     ]
    },
    {
     "name": "stderr",
     "output_type": "stream",
     "text": [
      "100%|██████████| 555/555 [00:35<00:00, 15.65it/s]\n"
     ]
    },
    {
     "name": "stdout",
     "output_type": "stream",
     "text": [
      "41 R11_S12\n",
      "/home/y/youtsumi/notebooks/Run7/gaintemp/R11_S12.pickle\n",
      "['u/lsstccs/eo_flat_gain_stability_E1496_w_2024_35/20241025T082704Z', 'u/lsstccs/eo_flat_gain_stability_E1496_w_2024_35'] 41\n"
     ]
    },
    {
     "name": "stderr",
     "output_type": "stream",
     "text": [
      "100%|██████████| 555/555 [00:35<00:00, 15.84it/s]\n"
     ]
    },
    {
     "name": "stdout",
     "output_type": "stream",
     "text": [
      "42 R11_S20\n",
      "/home/y/youtsumi/notebooks/Run7/gaintemp/R11_S20.pickle\n",
      "['u/lsstccs/eo_flat_gain_stability_E1496_w_2024_35/20241025T082704Z', 'u/lsstccs/eo_flat_gain_stability_E1496_w_2024_35'] 42\n"
     ]
    },
    {
     "name": "stderr",
     "output_type": "stream",
     "text": [
      "100%|██████████| 555/555 [00:35<00:00, 15.51it/s]\n"
     ]
    },
    {
     "name": "stdout",
     "output_type": "stream",
     "text": [
      "43 R11_S21\n",
      "/home/y/youtsumi/notebooks/Run7/gaintemp/R11_S21.pickle\n",
      "['u/lsstccs/eo_flat_gain_stability_E1496_w_2024_35/20241025T082704Z', 'u/lsstccs/eo_flat_gain_stability_E1496_w_2024_35'] 43\n"
     ]
    },
    {
     "name": "stderr",
     "output_type": "stream",
     "text": [
      "100%|██████████| 555/555 [00:35<00:00, 15.71it/s]\n"
     ]
    },
    {
     "name": "stdout",
     "output_type": "stream",
     "text": [
      "44 R11_S22\n",
      "/home/y/youtsumi/notebooks/Run7/gaintemp/R11_S22.pickle\n",
      "['u/lsstccs/eo_flat_gain_stability_E1496_w_2024_35/20241025T082704Z', 'u/lsstccs/eo_flat_gain_stability_E1496_w_2024_35'] 44\n"
     ]
    },
    {
     "name": "stderr",
     "output_type": "stream",
     "text": [
      "100%|██████████| 555/555 [00:35<00:00, 15.47it/s]\n"
     ]
    },
    {
     "name": "stdout",
     "output_type": "stream",
     "text": [
      "45 R12_S00\n",
      "/home/y/youtsumi/notebooks/Run7/gaintemp/R12_S00.pickle\n",
      "['u/lsstccs/eo_flat_gain_stability_E1496_w_2024_35/20241025T082704Z', 'u/lsstccs/eo_flat_gain_stability_E1496_w_2024_35'] 45\n"
     ]
    },
    {
     "name": "stderr",
     "output_type": "stream",
     "text": [
      "100%|██████████| 555/555 [00:35<00:00, 15.83it/s]\n"
     ]
    },
    {
     "name": "stdout",
     "output_type": "stream",
     "text": [
      "46 R12_S01\n",
      "/home/y/youtsumi/notebooks/Run7/gaintemp/R12_S01.pickle\n",
      "['u/lsstccs/eo_flat_gain_stability_E1496_w_2024_35/20241025T082704Z', 'u/lsstccs/eo_flat_gain_stability_E1496_w_2024_35'] 46\n"
     ]
    },
    {
     "name": "stderr",
     "output_type": "stream",
     "text": [
      "100%|██████████| 555/555 [00:35<00:00, 15.68it/s]\n"
     ]
    },
    {
     "name": "stdout",
     "output_type": "stream",
     "text": [
      "47 R12_S02\n",
      "/home/y/youtsumi/notebooks/Run7/gaintemp/R12_S02.pickle\n",
      "['u/lsstccs/eo_flat_gain_stability_E1496_w_2024_35/20241025T082704Z', 'u/lsstccs/eo_flat_gain_stability_E1496_w_2024_35'] 47\n"
     ]
    },
    {
     "name": "stderr",
     "output_type": "stream",
     "text": [
      "100%|██████████| 555/555 [00:34<00:00, 16.17it/s]\n"
     ]
    },
    {
     "name": "stdout",
     "output_type": "stream",
     "text": [
      "48 R12_S10\n",
      "/home/y/youtsumi/notebooks/Run7/gaintemp/R12_S10.pickle\n",
      "['u/lsstccs/eo_flat_gain_stability_E1496_w_2024_35/20241025T082704Z', 'u/lsstccs/eo_flat_gain_stability_E1496_w_2024_35'] 48\n"
     ]
    },
    {
     "name": "stderr",
     "output_type": "stream",
     "text": [
      "100%|██████████| 555/555 [00:34<00:00, 16.21it/s]\n"
     ]
    },
    {
     "name": "stdout",
     "output_type": "stream",
     "text": [
      "49 R12_S11\n",
      "/home/y/youtsumi/notebooks/Run7/gaintemp/R12_S11.pickle\n",
      "['u/lsstccs/eo_flat_gain_stability_E1496_w_2024_35/20241025T082704Z', 'u/lsstccs/eo_flat_gain_stability_E1496_w_2024_35'] 49\n"
     ]
    },
    {
     "name": "stderr",
     "output_type": "stream",
     "text": [
      "100%|██████████| 555/555 [00:35<00:00, 15.63it/s]\n"
     ]
    },
    {
     "name": "stdout",
     "output_type": "stream",
     "text": [
      "50 R12_S12\n",
      "/home/y/youtsumi/notebooks/Run7/gaintemp/R12_S12.pickle\n",
      "['u/lsstccs/eo_flat_gain_stability_E1496_w_2024_35/20241025T082704Z', 'u/lsstccs/eo_flat_gain_stability_E1496_w_2024_35'] 50\n"
     ]
    },
    {
     "name": "stderr",
     "output_type": "stream",
     "text": [
      "100%|██████████| 555/555 [00:35<00:00, 15.50it/s]\n"
     ]
    },
    {
     "name": "stdout",
     "output_type": "stream",
     "text": [
      "51 R12_S20\n",
      "/home/y/youtsumi/notebooks/Run7/gaintemp/R12_S20.pickle\n",
      "['u/lsstccs/eo_flat_gain_stability_E1496_w_2024_35/20241025T082704Z', 'u/lsstccs/eo_flat_gain_stability_E1496_w_2024_35'] 51\n"
     ]
    },
    {
     "name": "stderr",
     "output_type": "stream",
     "text": [
      "100%|██████████| 555/555 [00:35<00:00, 15.58it/s]\n"
     ]
    },
    {
     "name": "stdout",
     "output_type": "stream",
     "text": [
      "52 R12_S21\n",
      "/home/y/youtsumi/notebooks/Run7/gaintemp/R12_S21.pickle\n",
      "['u/lsstccs/eo_flat_gain_stability_E1496_w_2024_35/20241025T082704Z', 'u/lsstccs/eo_flat_gain_stability_E1496_w_2024_35'] 52\n"
     ]
    },
    {
     "name": "stderr",
     "output_type": "stream",
     "text": [
      "100%|██████████| 555/555 [00:35<00:00, 15.85it/s]\n"
     ]
    },
    {
     "name": "stdout",
     "output_type": "stream",
     "text": [
      "53 R12_S22\n",
      "/home/y/youtsumi/notebooks/Run7/gaintemp/R12_S22.pickle\n",
      "['u/lsstccs/eo_flat_gain_stability_E1496_w_2024_35/20241025T082704Z', 'u/lsstccs/eo_flat_gain_stability_E1496_w_2024_35'] 53\n"
     ]
    },
    {
     "name": "stderr",
     "output_type": "stream",
     "text": [
      "100%|██████████| 555/555 [00:35<00:00, 15.47it/s]\n"
     ]
    },
    {
     "name": "stdout",
     "output_type": "stream",
     "text": [
      "54 R13_S00\n",
      "/home/y/youtsumi/notebooks/Run7/gaintemp/R13_S00.pickle\n",
      "['u/lsstccs/eo_flat_gain_stability_E1496_w_2024_35/20241025T082704Z', 'u/lsstccs/eo_flat_gain_stability_E1496_w_2024_35'] 54\n"
     ]
    },
    {
     "name": "stderr",
     "output_type": "stream",
     "text": [
      "100%|██████████| 555/555 [00:35<00:00, 15.79it/s]\n"
     ]
    },
    {
     "name": "stdout",
     "output_type": "stream",
     "text": [
      "55 R13_S01\n",
      "/home/y/youtsumi/notebooks/Run7/gaintemp/R13_S01.pickle\n",
      "['u/lsstccs/eo_flat_gain_stability_E1496_w_2024_35/20241025T082704Z', 'u/lsstccs/eo_flat_gain_stability_E1496_w_2024_35'] 55\n"
     ]
    },
    {
     "name": "stderr",
     "output_type": "stream",
     "text": [
      "100%|██████████| 555/555 [00:35<00:00, 15.55it/s]\n"
     ]
    },
    {
     "name": "stdout",
     "output_type": "stream",
     "text": [
      "56 R13_S02\n",
      "/home/y/youtsumi/notebooks/Run7/gaintemp/R13_S02.pickle\n",
      "['u/lsstccs/eo_flat_gain_stability_E1496_w_2024_35/20241025T082704Z', 'u/lsstccs/eo_flat_gain_stability_E1496_w_2024_35'] 56\n"
     ]
    },
    {
     "name": "stderr",
     "output_type": "stream",
     "text": [
      "100%|██████████| 555/555 [00:34<00:00, 15.92it/s]\n"
     ]
    },
    {
     "name": "stdout",
     "output_type": "stream",
     "text": [
      "57 R13_S10\n",
      "/home/y/youtsumi/notebooks/Run7/gaintemp/R13_S10.pickle\n",
      "['u/lsstccs/eo_flat_gain_stability_E1496_w_2024_35/20241025T082704Z', 'u/lsstccs/eo_flat_gain_stability_E1496_w_2024_35'] 57\n"
     ]
    },
    {
     "name": "stderr",
     "output_type": "stream",
     "text": [
      "100%|██████████| 555/555 [00:35<00:00, 15.58it/s]\n"
     ]
    },
    {
     "name": "stdout",
     "output_type": "stream",
     "text": [
      "58 R13_S11\n",
      "/home/y/youtsumi/notebooks/Run7/gaintemp/R13_S11.pickle\n",
      "['u/lsstccs/eo_flat_gain_stability_E1496_w_2024_35/20241025T082704Z', 'u/lsstccs/eo_flat_gain_stability_E1496_w_2024_35'] 58\n"
     ]
    },
    {
     "name": "stderr",
     "output_type": "stream",
     "text": [
      "100%|██████████| 555/555 [00:36<00:00, 15.15it/s]\n"
     ]
    },
    {
     "name": "stdout",
     "output_type": "stream",
     "text": [
      "59 R13_S12\n",
      "/home/y/youtsumi/notebooks/Run7/gaintemp/R13_S12.pickle\n",
      "['u/lsstccs/eo_flat_gain_stability_E1496_w_2024_35/20241025T082704Z', 'u/lsstccs/eo_flat_gain_stability_E1496_w_2024_35'] 59\n"
     ]
    },
    {
     "name": "stderr",
     "output_type": "stream",
     "text": [
      "100%|██████████| 555/555 [00:35<00:00, 15.61it/s]\n"
     ]
    },
    {
     "name": "stdout",
     "output_type": "stream",
     "text": [
      "60 R13_S20\n",
      "/home/y/youtsumi/notebooks/Run7/gaintemp/R13_S20.pickle\n",
      "['u/lsstccs/eo_flat_gain_stability_E1496_w_2024_35/20241025T082704Z', 'u/lsstccs/eo_flat_gain_stability_E1496_w_2024_35'] 60\n"
     ]
    },
    {
     "name": "stderr",
     "output_type": "stream",
     "text": [
      "100%|██████████| 555/555 [00:35<00:00, 15.52it/s]\n"
     ]
    },
    {
     "name": "stdout",
     "output_type": "stream",
     "text": [
      "61 R13_S21\n",
      "/home/y/youtsumi/notebooks/Run7/gaintemp/R13_S21.pickle\n",
      "['u/lsstccs/eo_flat_gain_stability_E1496_w_2024_35/20241025T082704Z', 'u/lsstccs/eo_flat_gain_stability_E1496_w_2024_35'] 61\n"
     ]
    },
    {
     "name": "stderr",
     "output_type": "stream",
     "text": [
      "100%|██████████| 555/555 [00:35<00:00, 15.64it/s]\n"
     ]
    },
    {
     "name": "stdout",
     "output_type": "stream",
     "text": [
      "62 R13_S22\n",
      "/home/y/youtsumi/notebooks/Run7/gaintemp/R13_S22.pickle\n",
      "['u/lsstccs/eo_flat_gain_stability_E1496_w_2024_35/20241025T082704Z', 'u/lsstccs/eo_flat_gain_stability_E1496_w_2024_35'] 62\n"
     ]
    },
    {
     "name": "stderr",
     "output_type": "stream",
     "text": [
      "100%|██████████| 555/555 [00:35<00:00, 15.66it/s]\n"
     ]
    },
    {
     "name": "stdout",
     "output_type": "stream",
     "text": [
      "63 R14_S00\n",
      "/home/y/youtsumi/notebooks/Run7/gaintemp/R14_S00.pickle\n",
      "['u/lsstccs/eo_flat_gain_stability_E1496_w_2024_35/20241025T082704Z', 'u/lsstccs/eo_flat_gain_stability_E1496_w_2024_35'] 63\n"
     ]
    },
    {
     "name": "stderr",
     "output_type": "stream",
     "text": [
      "100%|██████████| 555/555 [00:35<00:00, 15.66it/s]\n"
     ]
    },
    {
     "name": "stdout",
     "output_type": "stream",
     "text": [
      "64 R14_S01\n",
      "/home/y/youtsumi/notebooks/Run7/gaintemp/R14_S01.pickle\n",
      "['u/lsstccs/eo_flat_gain_stability_E1496_w_2024_35/20241025T082704Z', 'u/lsstccs/eo_flat_gain_stability_E1496_w_2024_35'] 64\n"
     ]
    },
    {
     "name": "stderr",
     "output_type": "stream",
     "text": [
      "100%|██████████| 555/555 [00:33<00:00, 16.43it/s]\n"
     ]
    },
    {
     "name": "stdout",
     "output_type": "stream",
     "text": [
      "65 R14_S02\n",
      "/home/y/youtsumi/notebooks/Run7/gaintemp/R14_S02.pickle\n",
      "['u/lsstccs/eo_flat_gain_stability_E1496_w_2024_35/20241025T082704Z', 'u/lsstccs/eo_flat_gain_stability_E1496_w_2024_35'] 65\n"
     ]
    },
    {
     "name": "stderr",
     "output_type": "stream",
     "text": [
      "100%|██████████| 555/555 [00:33<00:00, 16.53it/s]\n"
     ]
    },
    {
     "name": "stdout",
     "output_type": "stream",
     "text": [
      "66 R14_S10\n",
      "/home/y/youtsumi/notebooks/Run7/gaintemp/R14_S10.pickle\n",
      "['u/lsstccs/eo_flat_gain_stability_E1496_w_2024_35/20241025T082704Z', 'u/lsstccs/eo_flat_gain_stability_E1496_w_2024_35'] 66\n"
     ]
    },
    {
     "name": "stderr",
     "output_type": "stream",
     "text": [
      "100%|██████████| 555/555 [00:34<00:00, 15.93it/s]\n"
     ]
    },
    {
     "name": "stdout",
     "output_type": "stream",
     "text": [
      "67 R14_S11\n",
      "/home/y/youtsumi/notebooks/Run7/gaintemp/R14_S11.pickle\n",
      "['u/lsstccs/eo_flat_gain_stability_E1496_w_2024_35/20241025T082704Z', 'u/lsstccs/eo_flat_gain_stability_E1496_w_2024_35'] 67\n"
     ]
    },
    {
     "name": "stderr",
     "output_type": "stream",
     "text": [
      "100%|██████████| 555/555 [00:34<00:00, 15.99it/s]\n"
     ]
    },
    {
     "name": "stdout",
     "output_type": "stream",
     "text": [
      "68 R14_S12\n",
      "/home/y/youtsumi/notebooks/Run7/gaintemp/R14_S12.pickle\n",
      "['u/lsstccs/eo_flat_gain_stability_E1496_w_2024_35/20241025T082704Z', 'u/lsstccs/eo_flat_gain_stability_E1496_w_2024_35'] 68\n"
     ]
    },
    {
     "name": "stderr",
     "output_type": "stream",
     "text": [
      "100%|██████████| 555/555 [00:34<00:00, 16.12it/s]\n"
     ]
    },
    {
     "name": "stdout",
     "output_type": "stream",
     "text": [
      "69 R14_S20\n",
      "/home/y/youtsumi/notebooks/Run7/gaintemp/R14_S20.pickle\n",
      "['u/lsstccs/eo_flat_gain_stability_E1496_w_2024_35/20241025T082704Z', 'u/lsstccs/eo_flat_gain_stability_E1496_w_2024_35'] 69\n"
     ]
    },
    {
     "name": "stderr",
     "output_type": "stream",
     "text": [
      "100%|██████████| 555/555 [00:34<00:00, 16.00it/s]\n"
     ]
    },
    {
     "name": "stdout",
     "output_type": "stream",
     "text": [
      "70 R14_S21\n",
      "/home/y/youtsumi/notebooks/Run7/gaintemp/R14_S21.pickle\n",
      "['u/lsstccs/eo_flat_gain_stability_E1496_w_2024_35/20241025T082704Z', 'u/lsstccs/eo_flat_gain_stability_E1496_w_2024_35'] 70\n"
     ]
    },
    {
     "name": "stderr",
     "output_type": "stream",
     "text": [
      "100%|██████████| 555/555 [00:34<00:00, 16.08it/s]\n"
     ]
    },
    {
     "name": "stdout",
     "output_type": "stream",
     "text": [
      "71 R14_S22\n",
      "/home/y/youtsumi/notebooks/Run7/gaintemp/R14_S22.pickle\n",
      "['u/lsstccs/eo_flat_gain_stability_E1496_w_2024_35/20241025T082704Z', 'u/lsstccs/eo_flat_gain_stability_E1496_w_2024_35'] 71\n"
     ]
    },
    {
     "name": "stderr",
     "output_type": "stream",
     "text": [
      "100%|██████████| 555/555 [00:34<00:00, 16.01it/s]\n"
     ]
    },
    {
     "name": "stdout",
     "output_type": "stream",
     "text": [
      "72 R20_S00\n",
      "/home/y/youtsumi/notebooks/Run7/gaintemp/R20_S00.pickle\n",
      "['u/lsstccs/eo_flat_gain_stability_E1496_w_2024_35/20241025T082704Z', 'u/lsstccs/eo_flat_gain_stability_E1496_w_2024_35'] 72\n"
     ]
    },
    {
     "name": "stderr",
     "output_type": "stream",
     "text": [
      "100%|██████████| 555/555 [00:34<00:00, 15.94it/s]\n"
     ]
    },
    {
     "name": "stdout",
     "output_type": "stream",
     "text": [
      "73 R20_S01\n",
      "/home/y/youtsumi/notebooks/Run7/gaintemp/R20_S01.pickle\n",
      "['u/lsstccs/eo_flat_gain_stability_E1496_w_2024_35/20241025T082704Z', 'u/lsstccs/eo_flat_gain_stability_E1496_w_2024_35'] 73\n"
     ]
    },
    {
     "name": "stderr",
     "output_type": "stream",
     "text": [
      "100%|██████████| 555/555 [00:33<00:00, 16.50it/s]\n"
     ]
    },
    {
     "name": "stdout",
     "output_type": "stream",
     "text": [
      "74 R20_S02\n",
      "/home/y/youtsumi/notebooks/Run7/gaintemp/R20_S02.pickle\n",
      "['u/lsstccs/eo_flat_gain_stability_E1496_w_2024_35/20241025T082704Z', 'u/lsstccs/eo_flat_gain_stability_E1496_w_2024_35'] 74\n"
     ]
    },
    {
     "name": "stderr",
     "output_type": "stream",
     "text": [
      "100%|██████████| 555/555 [00:34<00:00, 16.16it/s]\n"
     ]
    },
    {
     "name": "stdout",
     "output_type": "stream",
     "text": [
      "75 R20_S10\n",
      "/home/y/youtsumi/notebooks/Run7/gaintemp/R20_S10.pickle\n",
      "['u/lsstccs/eo_flat_gain_stability_E1496_w_2024_35/20241025T082704Z', 'u/lsstccs/eo_flat_gain_stability_E1496_w_2024_35'] 75\n"
     ]
    },
    {
     "name": "stderr",
     "output_type": "stream",
     "text": [
      "100%|██████████| 555/555 [00:34<00:00, 16.18it/s]\n"
     ]
    },
    {
     "name": "stdout",
     "output_type": "stream",
     "text": [
      "76 R20_S11\n",
      "/home/y/youtsumi/notebooks/Run7/gaintemp/R20_S11.pickle\n",
      "['u/lsstccs/eo_flat_gain_stability_E1496_w_2024_35/20241025T082704Z', 'u/lsstccs/eo_flat_gain_stability_E1496_w_2024_35'] 76\n"
     ]
    },
    {
     "name": "stderr",
     "output_type": "stream",
     "text": [
      "100%|██████████| 555/555 [00:34<00:00, 16.25it/s]\n"
     ]
    },
    {
     "name": "stdout",
     "output_type": "stream",
     "text": [
      "77 R20_S12\n",
      "/home/y/youtsumi/notebooks/Run7/gaintemp/R20_S12.pickle\n",
      "['u/lsstccs/eo_flat_gain_stability_E1496_w_2024_35/20241025T082704Z', 'u/lsstccs/eo_flat_gain_stability_E1496_w_2024_35'] 77\n"
     ]
    },
    {
     "name": "stderr",
     "output_type": "stream",
     "text": [
      "100%|██████████| 555/555 [00:35<00:00, 15.82it/s]\n"
     ]
    },
    {
     "name": "stdout",
     "output_type": "stream",
     "text": [
      "78 R20_S20\n",
      "/home/y/youtsumi/notebooks/Run7/gaintemp/R20_S20.pickle\n",
      "['u/lsstccs/eo_flat_gain_stability_E1496_w_2024_35/20241025T082704Z', 'u/lsstccs/eo_flat_gain_stability_E1496_w_2024_35'] 78\n"
     ]
    },
    {
     "name": "stderr",
     "output_type": "stream",
     "text": [
      "100%|██████████| 555/555 [00:33<00:00, 16.63it/s]\n"
     ]
    },
    {
     "name": "stdout",
     "output_type": "stream",
     "text": [
      "79 R20_S21\n",
      "/home/y/youtsumi/notebooks/Run7/gaintemp/R20_S21.pickle\n",
      "['u/lsstccs/eo_flat_gain_stability_E1496_w_2024_35/20241025T082704Z', 'u/lsstccs/eo_flat_gain_stability_E1496_w_2024_35'] 79\n"
     ]
    },
    {
     "name": "stderr",
     "output_type": "stream",
     "text": [
      "100%|██████████| 555/555 [00:34<00:00, 16.20it/s]\n"
     ]
    },
    {
     "name": "stdout",
     "output_type": "stream",
     "text": [
      "80 R20_S22\n",
      "/home/y/youtsumi/notebooks/Run7/gaintemp/R20_S22.pickle\n",
      "['u/lsstccs/eo_flat_gain_stability_E1496_w_2024_35/20241025T082704Z', 'u/lsstccs/eo_flat_gain_stability_E1496_w_2024_35'] 80\n"
     ]
    },
    {
     "name": "stderr",
     "output_type": "stream",
     "text": [
      "100%|██████████| 555/555 [00:34<00:00, 15.97it/s]\n"
     ]
    },
    {
     "name": "stdout",
     "output_type": "stream",
     "text": [
      "81 R21_S00\n",
      "/home/y/youtsumi/notebooks/Run7/gaintemp/R21_S00.pickle\n",
      "['u/lsstccs/eo_flat_gain_stability_E1496_w_2024_35/20241025T082704Z', 'u/lsstccs/eo_flat_gain_stability_E1496_w_2024_35'] 81\n"
     ]
    },
    {
     "name": "stderr",
     "output_type": "stream",
     "text": [
      "100%|██████████| 555/555 [00:33<00:00, 16.47it/s]\n"
     ]
    },
    {
     "name": "stdout",
     "output_type": "stream",
     "text": [
      "82 R21_S01\n",
      "/home/y/youtsumi/notebooks/Run7/gaintemp/R21_S01.pickle\n",
      "['u/lsstccs/eo_flat_gain_stability_E1496_w_2024_35/20241025T082704Z', 'u/lsstccs/eo_flat_gain_stability_E1496_w_2024_35'] 82\n"
     ]
    },
    {
     "name": "stderr",
     "output_type": "stream",
     "text": [
      "100%|██████████| 555/555 [00:34<00:00, 15.89it/s]\n"
     ]
    },
    {
     "name": "stdout",
     "output_type": "stream",
     "text": [
      "83 R21_S02\n",
      "/home/y/youtsumi/notebooks/Run7/gaintemp/R21_S02.pickle\n",
      "['u/lsstccs/eo_flat_gain_stability_E1496_w_2024_35/20241025T082704Z', 'u/lsstccs/eo_flat_gain_stability_E1496_w_2024_35'] 83\n"
     ]
    },
    {
     "name": "stderr",
     "output_type": "stream",
     "text": [
      "100%|██████████| 555/555 [00:35<00:00, 15.83it/s]\n"
     ]
    },
    {
     "name": "stdout",
     "output_type": "stream",
     "text": [
      "84 R21_S10\n",
      "/home/y/youtsumi/notebooks/Run7/gaintemp/R21_S10.pickle\n",
      "['u/lsstccs/eo_flat_gain_stability_E1496_w_2024_35/20241025T082704Z', 'u/lsstccs/eo_flat_gain_stability_E1496_w_2024_35'] 84\n"
     ]
    },
    {
     "name": "stderr",
     "output_type": "stream",
     "text": [
      "100%|██████████| 555/555 [00:35<00:00, 15.80it/s]\n"
     ]
    },
    {
     "name": "stdout",
     "output_type": "stream",
     "text": [
      "85 R21_S11\n",
      "/home/y/youtsumi/notebooks/Run7/gaintemp/R21_S11.pickle\n",
      "['u/lsstccs/eo_flat_gain_stability_E1496_w_2024_35/20241025T082704Z', 'u/lsstccs/eo_flat_gain_stability_E1496_w_2024_35'] 85\n"
     ]
    },
    {
     "name": "stderr",
     "output_type": "stream",
     "text": [
      "100%|██████████| 555/555 [00:35<00:00, 15.42it/s]\n"
     ]
    },
    {
     "name": "stdout",
     "output_type": "stream",
     "text": [
      "86 R21_S12\n",
      "/home/y/youtsumi/notebooks/Run7/gaintemp/R21_S12.pickle\n",
      "['u/lsstccs/eo_flat_gain_stability_E1496_w_2024_35/20241025T082704Z', 'u/lsstccs/eo_flat_gain_stability_E1496_w_2024_35'] 86\n"
     ]
    },
    {
     "name": "stderr",
     "output_type": "stream",
     "text": [
      "100%|██████████| 555/555 [00:35<00:00, 15.52it/s]\n"
     ]
    },
    {
     "name": "stdout",
     "output_type": "stream",
     "text": [
      "87 R21_S20\n",
      "/home/y/youtsumi/notebooks/Run7/gaintemp/R21_S20.pickle\n",
      "['u/lsstccs/eo_flat_gain_stability_E1496_w_2024_35/20241025T082704Z', 'u/lsstccs/eo_flat_gain_stability_E1496_w_2024_35'] 87\n"
     ]
    },
    {
     "name": "stderr",
     "output_type": "stream",
     "text": [
      "100%|██████████| 555/555 [00:35<00:00, 15.75it/s]\n"
     ]
    },
    {
     "name": "stdout",
     "output_type": "stream",
     "text": [
      "88 R21_S21\n",
      "/home/y/youtsumi/notebooks/Run7/gaintemp/R21_S21.pickle\n",
      "['u/lsstccs/eo_flat_gain_stability_E1496_w_2024_35/20241025T082704Z', 'u/lsstccs/eo_flat_gain_stability_E1496_w_2024_35'] 88\n"
     ]
    },
    {
     "name": "stderr",
     "output_type": "stream",
     "text": [
      "100%|██████████| 555/555 [00:35<00:00, 15.80it/s]\n"
     ]
    },
    {
     "name": "stdout",
     "output_type": "stream",
     "text": [
      "89 R21_S22\n",
      "/home/y/youtsumi/notebooks/Run7/gaintemp/R21_S22.pickle\n",
      "['u/lsstccs/eo_flat_gain_stability_E1496_w_2024_35/20241025T082704Z', 'u/lsstccs/eo_flat_gain_stability_E1496_w_2024_35'] 89\n"
     ]
    },
    {
     "name": "stderr",
     "output_type": "stream",
     "text": [
      "100%|██████████| 555/555 [00:36<00:00, 15.13it/s]\n"
     ]
    },
    {
     "name": "stdout",
     "output_type": "stream",
     "text": [
      "90 R22_S00\n",
      "/home/y/youtsumi/notebooks/Run7/gaintemp/R22_S00.pickle\n",
      "['u/lsstccs/eo_flat_gain_stability_E1496_w_2024_35/20241025T082704Z', 'u/lsstccs/eo_flat_gain_stability_E1496_w_2024_35'] 90\n"
     ]
    },
    {
     "name": "stderr",
     "output_type": "stream",
     "text": [
      "100%|██████████| 555/555 [00:35<00:00, 15.52it/s]\n"
     ]
    },
    {
     "name": "stdout",
     "output_type": "stream",
     "text": [
      "91 R22_S01\n",
      "/home/y/youtsumi/notebooks/Run7/gaintemp/R22_S01.pickle\n",
      "['u/lsstccs/eo_flat_gain_stability_E1496_w_2024_35/20241025T082704Z', 'u/lsstccs/eo_flat_gain_stability_E1496_w_2024_35'] 91\n"
     ]
    },
    {
     "name": "stderr",
     "output_type": "stream",
     "text": [
      "100%|██████████| 555/555 [00:35<00:00, 15.45it/s]\n"
     ]
    },
    {
     "name": "stdout",
     "output_type": "stream",
     "text": [
      "92 R22_S02\n",
      "/home/y/youtsumi/notebooks/Run7/gaintemp/R22_S02.pickle\n",
      "['u/lsstccs/eo_flat_gain_stability_E1496_w_2024_35/20241025T082704Z', 'u/lsstccs/eo_flat_gain_stability_E1496_w_2024_35'] 92\n"
     ]
    },
    {
     "name": "stderr",
     "output_type": "stream",
     "text": [
      "100%|██████████| 555/555 [00:35<00:00, 15.69it/s]\n"
     ]
    },
    {
     "name": "stdout",
     "output_type": "stream",
     "text": [
      "93 R22_S10\n",
      "/home/y/youtsumi/notebooks/Run7/gaintemp/R22_S10.pickle\n",
      "['u/lsstccs/eo_flat_gain_stability_E1496_w_2024_35/20241025T082704Z', 'u/lsstccs/eo_flat_gain_stability_E1496_w_2024_35'] 93\n"
     ]
    },
    {
     "name": "stderr",
     "output_type": "stream",
     "text": [
      "100%|██████████| 555/555 [00:35<00:00, 15.52it/s]\n"
     ]
    },
    {
     "name": "stdout",
     "output_type": "stream",
     "text": [
      "94 R22_S11\n",
      "/home/y/youtsumi/notebooks/Run7/gaintemp/R22_S11.pickle\n",
      "['u/lsstccs/eo_flat_gain_stability_E1496_w_2024_35/20241025T082704Z', 'u/lsstccs/eo_flat_gain_stability_E1496_w_2024_35'] 94\n"
     ]
    },
    {
     "name": "stderr",
     "output_type": "stream",
     "text": [
      "100%|██████████| 555/555 [00:35<00:00, 15.82it/s]\n"
     ]
    },
    {
     "name": "stdout",
     "output_type": "stream",
     "text": [
      "95 R22_S12\n",
      "/home/y/youtsumi/notebooks/Run7/gaintemp/R22_S12.pickle\n",
      "['u/lsstccs/eo_flat_gain_stability_E1496_w_2024_35/20241025T082704Z', 'u/lsstccs/eo_flat_gain_stability_E1496_w_2024_35'] 95\n"
     ]
    },
    {
     "name": "stderr",
     "output_type": "stream",
     "text": [
      "100%|██████████| 555/555 [00:36<00:00, 15.18it/s]\n"
     ]
    },
    {
     "name": "stdout",
     "output_type": "stream",
     "text": [
      "96 R22_S20\n",
      "/home/y/youtsumi/notebooks/Run7/gaintemp/R22_S20.pickle\n",
      "['u/lsstccs/eo_flat_gain_stability_E1496_w_2024_35/20241025T082704Z', 'u/lsstccs/eo_flat_gain_stability_E1496_w_2024_35'] 96\n"
     ]
    },
    {
     "name": "stderr",
     "output_type": "stream",
     "text": [
      "100%|██████████| 555/555 [00:36<00:00, 15.28it/s]\n"
     ]
    },
    {
     "name": "stdout",
     "output_type": "stream",
     "text": [
      "97 R22_S21\n",
      "/home/y/youtsumi/notebooks/Run7/gaintemp/R22_S21.pickle\n",
      "['u/lsstccs/eo_flat_gain_stability_E1496_w_2024_35/20241025T082704Z', 'u/lsstccs/eo_flat_gain_stability_E1496_w_2024_35'] 97\n"
     ]
    },
    {
     "name": "stderr",
     "output_type": "stream",
     "text": [
      "100%|██████████| 555/555 [00:36<00:00, 15.34it/s]\n"
     ]
    },
    {
     "name": "stdout",
     "output_type": "stream",
     "text": [
      "98 R22_S22\n",
      "/home/y/youtsumi/notebooks/Run7/gaintemp/R22_S22.pickle\n",
      "['u/lsstccs/eo_flat_gain_stability_E1496_w_2024_35/20241025T082704Z', 'u/lsstccs/eo_flat_gain_stability_E1496_w_2024_35'] 98\n"
     ]
    },
    {
     "name": "stderr",
     "output_type": "stream",
     "text": [
      "100%|██████████| 555/555 [00:36<00:00, 15.38it/s]\n"
     ]
    },
    {
     "name": "stdout",
     "output_type": "stream",
     "text": [
      "99 R23_S00\n",
      "/home/y/youtsumi/notebooks/Run7/gaintemp/R23_S00.pickle\n",
      "['u/lsstccs/eo_flat_gain_stability_E1496_w_2024_35/20241025T082704Z', 'u/lsstccs/eo_flat_gain_stability_E1496_w_2024_35'] 99\n"
     ]
    },
    {
     "name": "stderr",
     "output_type": "stream",
     "text": [
      "100%|██████████| 555/555 [00:34<00:00, 15.92it/s]\n"
     ]
    },
    {
     "name": "stdout",
     "output_type": "stream",
     "text": [
      "100 R23_S01\n",
      "/home/y/youtsumi/notebooks/Run7/gaintemp/R23_S01.pickle\n",
      "['u/lsstccs/eo_flat_gain_stability_E1496_w_2024_35/20241025T082704Z', 'u/lsstccs/eo_flat_gain_stability_E1496_w_2024_35'] 100\n"
     ]
    },
    {
     "name": "stderr",
     "output_type": "stream",
     "text": [
      "100%|██████████| 555/555 [00:35<00:00, 15.42it/s]\n"
     ]
    },
    {
     "name": "stdout",
     "output_type": "stream",
     "text": [
      "101 R23_S02\n",
      "/home/y/youtsumi/notebooks/Run7/gaintemp/R23_S02.pickle\n",
      "['u/lsstccs/eo_flat_gain_stability_E1496_w_2024_35/20241025T082704Z', 'u/lsstccs/eo_flat_gain_stability_E1496_w_2024_35'] 101\n"
     ]
    },
    {
     "name": "stderr",
     "output_type": "stream",
     "text": [
      "100%|██████████| 555/555 [00:35<00:00, 15.84it/s]\n"
     ]
    },
    {
     "name": "stdout",
     "output_type": "stream",
     "text": [
      "102 R23_S10\n",
      "/home/y/youtsumi/notebooks/Run7/gaintemp/R23_S10.pickle\n",
      "['u/lsstccs/eo_flat_gain_stability_E1496_w_2024_35/20241025T082704Z', 'u/lsstccs/eo_flat_gain_stability_E1496_w_2024_35'] 102\n"
     ]
    },
    {
     "name": "stderr",
     "output_type": "stream",
     "text": [
      "100%|██████████| 555/555 [00:35<00:00, 15.63it/s]\n"
     ]
    },
    {
     "name": "stdout",
     "output_type": "stream",
     "text": [
      "103 R23_S11\n",
      "/home/y/youtsumi/notebooks/Run7/gaintemp/R23_S11.pickle\n",
      "['u/lsstccs/eo_flat_gain_stability_E1496_w_2024_35/20241025T082704Z', 'u/lsstccs/eo_flat_gain_stability_E1496_w_2024_35'] 103\n"
     ]
    },
    {
     "name": "stderr",
     "output_type": "stream",
     "text": [
      "100%|██████████| 555/555 [00:35<00:00, 15.60it/s]\n"
     ]
    },
    {
     "name": "stdout",
     "output_type": "stream",
     "text": [
      "104 R23_S12\n",
      "/home/y/youtsumi/notebooks/Run7/gaintemp/R23_S12.pickle\n",
      "['u/lsstccs/eo_flat_gain_stability_E1496_w_2024_35/20241025T082704Z', 'u/lsstccs/eo_flat_gain_stability_E1496_w_2024_35'] 104\n"
     ]
    },
    {
     "name": "stderr",
     "output_type": "stream",
     "text": [
      "100%|██████████| 555/555 [00:35<00:00, 15.62it/s]\n"
     ]
    },
    {
     "name": "stdout",
     "output_type": "stream",
     "text": [
      "105 R23_S20\n",
      "/home/y/youtsumi/notebooks/Run7/gaintemp/R23_S20.pickle\n",
      "['u/lsstccs/eo_flat_gain_stability_E1496_w_2024_35/20241025T082704Z', 'u/lsstccs/eo_flat_gain_stability_E1496_w_2024_35'] 105\n"
     ]
    },
    {
     "name": "stderr",
     "output_type": "stream",
     "text": [
      "100%|██████████| 555/555 [00:35<00:00, 15.59it/s]\n"
     ]
    },
    {
     "name": "stdout",
     "output_type": "stream",
     "text": [
      "106 R23_S21\n",
      "/home/y/youtsumi/notebooks/Run7/gaintemp/R23_S21.pickle\n",
      "['u/lsstccs/eo_flat_gain_stability_E1496_w_2024_35/20241025T082704Z', 'u/lsstccs/eo_flat_gain_stability_E1496_w_2024_35'] 106\n"
     ]
    },
    {
     "name": "stderr",
     "output_type": "stream",
     "text": [
      "100%|██████████| 555/555 [00:35<00:00, 15.76it/s]\n"
     ]
    },
    {
     "name": "stdout",
     "output_type": "stream",
     "text": [
      "107 R23_S22\n",
      "/home/y/youtsumi/notebooks/Run7/gaintemp/R23_S22.pickle\n",
      "['u/lsstccs/eo_flat_gain_stability_E1496_w_2024_35/20241025T082704Z', 'u/lsstccs/eo_flat_gain_stability_E1496_w_2024_35'] 107\n"
     ]
    },
    {
     "name": "stderr",
     "output_type": "stream",
     "text": [
      "100%|██████████| 555/555 [00:35<00:00, 15.59it/s]\n"
     ]
    },
    {
     "name": "stdout",
     "output_type": "stream",
     "text": [
      "108 R24_S00\n",
      "/home/y/youtsumi/notebooks/Run7/gaintemp/R24_S00.pickle\n",
      "['u/lsstccs/eo_flat_gain_stability_E1496_w_2024_35/20241025T082704Z', 'u/lsstccs/eo_flat_gain_stability_E1496_w_2024_35'] 108\n"
     ]
    },
    {
     "name": "stderr",
     "output_type": "stream",
     "text": [
      "100%|██████████| 555/555 [00:35<00:00, 15.61it/s]\n"
     ]
    },
    {
     "name": "stdout",
     "output_type": "stream",
     "text": [
      "109 R24_S01\n",
      "/home/y/youtsumi/notebooks/Run7/gaintemp/R24_S01.pickle\n",
      "['u/lsstccs/eo_flat_gain_stability_E1496_w_2024_35/20241025T082704Z', 'u/lsstccs/eo_flat_gain_stability_E1496_w_2024_35'] 109\n"
     ]
    },
    {
     "name": "stderr",
     "output_type": "stream",
     "text": [
      "100%|██████████| 555/555 [00:36<00:00, 15.40it/s]\n"
     ]
    },
    {
     "name": "stdout",
     "output_type": "stream",
     "text": [
      "110 R24_S02\n",
      "/home/y/youtsumi/notebooks/Run7/gaintemp/R24_S02.pickle\n",
      "['u/lsstccs/eo_flat_gain_stability_E1496_w_2024_35/20241025T082704Z', 'u/lsstccs/eo_flat_gain_stability_E1496_w_2024_35'] 110\n"
     ]
    },
    {
     "name": "stderr",
     "output_type": "stream",
     "text": [
      "100%|██████████| 555/555 [00:35<00:00, 15.66it/s]\n"
     ]
    },
    {
     "name": "stdout",
     "output_type": "stream",
     "text": [
      "111 R24_S10\n",
      "/home/y/youtsumi/notebooks/Run7/gaintemp/R24_S10.pickle\n",
      "['u/lsstccs/eo_flat_gain_stability_E1496_w_2024_35/20241025T082704Z', 'u/lsstccs/eo_flat_gain_stability_E1496_w_2024_35'] 111\n"
     ]
    },
    {
     "name": "stderr",
     "output_type": "stream",
     "text": [
      "100%|██████████| 555/555 [00:35<00:00, 15.71it/s]\n"
     ]
    },
    {
     "name": "stdout",
     "output_type": "stream",
     "text": [
      "112 R24_S11\n",
      "/home/y/youtsumi/notebooks/Run7/gaintemp/R24_S11.pickle\n",
      "['u/lsstccs/eo_flat_gain_stability_E1496_w_2024_35/20241025T082704Z', 'u/lsstccs/eo_flat_gain_stability_E1496_w_2024_35'] 112\n"
     ]
    },
    {
     "name": "stderr",
     "output_type": "stream",
     "text": [
      "100%|██████████| 555/555 [00:35<00:00, 15.78it/s]\n"
     ]
    },
    {
     "name": "stdout",
     "output_type": "stream",
     "text": [
      "113 R24_S12\n",
      "/home/y/youtsumi/notebooks/Run7/gaintemp/R24_S12.pickle\n",
      "['u/lsstccs/eo_flat_gain_stability_E1496_w_2024_35/20241025T082704Z', 'u/lsstccs/eo_flat_gain_stability_E1496_w_2024_35'] 113\n"
     ]
    },
    {
     "name": "stderr",
     "output_type": "stream",
     "text": [
      "100%|██████████| 555/555 [00:35<00:00, 15.83it/s]\n"
     ]
    },
    {
     "name": "stdout",
     "output_type": "stream",
     "text": [
      "114 R24_S20\n",
      "/home/y/youtsumi/notebooks/Run7/gaintemp/R24_S20.pickle\n",
      "['u/lsstccs/eo_flat_gain_stability_E1496_w_2024_35/20241025T082704Z', 'u/lsstccs/eo_flat_gain_stability_E1496_w_2024_35'] 114\n"
     ]
    },
    {
     "name": "stderr",
     "output_type": "stream",
     "text": [
      "100%|██████████| 555/555 [00:36<00:00, 15.35it/s]\n"
     ]
    },
    {
     "name": "stdout",
     "output_type": "stream",
     "text": [
      "115 R24_S21\n",
      "/home/y/youtsumi/notebooks/Run7/gaintemp/R24_S21.pickle\n",
      "['u/lsstccs/eo_flat_gain_stability_E1496_w_2024_35/20241025T082704Z', 'u/lsstccs/eo_flat_gain_stability_E1496_w_2024_35'] 115\n"
     ]
    },
    {
     "name": "stderr",
     "output_type": "stream",
     "text": [
      "100%|██████████| 555/555 [00:36<00:00, 15.24it/s]\n"
     ]
    },
    {
     "name": "stdout",
     "output_type": "stream",
     "text": [
      "116 R24_S22\n",
      "/home/y/youtsumi/notebooks/Run7/gaintemp/R24_S22.pickle\n",
      "['u/lsstccs/eo_flat_gain_stability_E1496_w_2024_35/20241025T082704Z', 'u/lsstccs/eo_flat_gain_stability_E1496_w_2024_35'] 116\n"
     ]
    },
    {
     "name": "stderr",
     "output_type": "stream",
     "text": [
      "100%|██████████| 555/555 [00:35<00:00, 15.63it/s]\n"
     ]
    },
    {
     "name": "stdout",
     "output_type": "stream",
     "text": [
      "117 R30_S00\n",
      "/home/y/youtsumi/notebooks/Run7/gaintemp/R30_S00.pickle\n",
      "['u/lsstccs/eo_flat_gain_stability_E1496_w_2024_35/20241025T082704Z', 'u/lsstccs/eo_flat_gain_stability_E1496_w_2024_35'] 117\n"
     ]
    },
    {
     "name": "stderr",
     "output_type": "stream",
     "text": [
      "100%|██████████| 555/555 [00:34<00:00, 16.04it/s]\n"
     ]
    },
    {
     "name": "stdout",
     "output_type": "stream",
     "text": [
      "118 R30_S01\n",
      "/home/y/youtsumi/notebooks/Run7/gaintemp/R30_S01.pickle\n",
      "['u/lsstccs/eo_flat_gain_stability_E1496_w_2024_35/20241025T082704Z', 'u/lsstccs/eo_flat_gain_stability_E1496_w_2024_35'] 118\n"
     ]
    },
    {
     "name": "stderr",
     "output_type": "stream",
     "text": [
      "100%|██████████| 555/555 [00:35<00:00, 15.64it/s]\n"
     ]
    },
    {
     "name": "stdout",
     "output_type": "stream",
     "text": [
      "119 R30_S02\n",
      "/home/y/youtsumi/notebooks/Run7/gaintemp/R30_S02.pickle\n",
      "['u/lsstccs/eo_flat_gain_stability_E1496_w_2024_35/20241025T082704Z', 'u/lsstccs/eo_flat_gain_stability_E1496_w_2024_35'] 119\n"
     ]
    },
    {
     "name": "stderr",
     "output_type": "stream",
     "text": [
      "100%|██████████| 555/555 [00:34<00:00, 16.02it/s]\n"
     ]
    },
    {
     "name": "stdout",
     "output_type": "stream",
     "text": [
      "120 R30_S10\n",
      "/home/y/youtsumi/notebooks/Run7/gaintemp/R30_S10.pickle\n",
      "['u/lsstccs/eo_flat_gain_stability_E1496_w_2024_35/20241025T082704Z', 'u/lsstccs/eo_flat_gain_stability_E1496_w_2024_35'] 120\n"
     ]
    },
    {
     "name": "stderr",
     "output_type": "stream",
     "text": [
      "100%|██████████| 555/555 [00:35<00:00, 15.60it/s]\n"
     ]
    },
    {
     "name": "stdout",
     "output_type": "stream",
     "text": [
      "121 R30_S11\n",
      "/home/y/youtsumi/notebooks/Run7/gaintemp/R30_S11.pickle\n",
      "['u/lsstccs/eo_flat_gain_stability_E1496_w_2024_35/20241025T082704Z', 'u/lsstccs/eo_flat_gain_stability_E1496_w_2024_35'] 121\n"
     ]
    },
    {
     "name": "stderr",
     "output_type": "stream",
     "text": [
      "100%|██████████| 555/555 [00:35<00:00, 15.68it/s]\n"
     ]
    },
    {
     "name": "stdout",
     "output_type": "stream",
     "text": [
      "122 R30_S12\n",
      "/home/y/youtsumi/notebooks/Run7/gaintemp/R30_S12.pickle\n",
      "['u/lsstccs/eo_flat_gain_stability_E1496_w_2024_35/20241025T082704Z', 'u/lsstccs/eo_flat_gain_stability_E1496_w_2024_35'] 122\n"
     ]
    },
    {
     "name": "stderr",
     "output_type": "stream",
     "text": [
      "100%|██████████| 555/555 [00:35<00:00, 15.53it/s]\n"
     ]
    },
    {
     "name": "stdout",
     "output_type": "stream",
     "text": [
      "123 R30_S20\n",
      "/home/y/youtsumi/notebooks/Run7/gaintemp/R30_S20.pickle\n",
      "['u/lsstccs/eo_flat_gain_stability_E1496_w_2024_35/20241025T082704Z', 'u/lsstccs/eo_flat_gain_stability_E1496_w_2024_35'] 123\n"
     ]
    },
    {
     "name": "stderr",
     "output_type": "stream",
     "text": [
      "100%|██████████| 555/555 [00:34<00:00, 16.32it/s]\n"
     ]
    },
    {
     "name": "stdout",
     "output_type": "stream",
     "text": [
      "124 R30_S21\n",
      "/home/y/youtsumi/notebooks/Run7/gaintemp/R30_S21.pickle\n",
      "['u/lsstccs/eo_flat_gain_stability_E1496_w_2024_35/20241025T082704Z', 'u/lsstccs/eo_flat_gain_stability_E1496_w_2024_35'] 124\n"
     ]
    },
    {
     "name": "stderr",
     "output_type": "stream",
     "text": [
      "100%|██████████| 555/555 [00:34<00:00, 15.96it/s]\n"
     ]
    },
    {
     "name": "stdout",
     "output_type": "stream",
     "text": [
      "125 R30_S22\n",
      "/home/y/youtsumi/notebooks/Run7/gaintemp/R30_S22.pickle\n",
      "['u/lsstccs/eo_flat_gain_stability_E1496_w_2024_35/20241025T082704Z', 'u/lsstccs/eo_flat_gain_stability_E1496_w_2024_35'] 125\n"
     ]
    },
    {
     "name": "stderr",
     "output_type": "stream",
     "text": [
      "100%|██████████| 555/555 [00:34<00:00, 16.09it/s]\n"
     ]
    },
    {
     "name": "stdout",
     "output_type": "stream",
     "text": [
      "126 R31_S00\n",
      "/home/y/youtsumi/notebooks/Run7/gaintemp/R31_S00.pickle\n",
      "['u/lsstccs/eo_flat_gain_stability_E1496_w_2024_35/20241025T082704Z', 'u/lsstccs/eo_flat_gain_stability_E1496_w_2024_35'] 126\n"
     ]
    },
    {
     "name": "stderr",
     "output_type": "stream",
     "text": [
      "100%|██████████| 555/555 [00:35<00:00, 15.71it/s]\n"
     ]
    },
    {
     "name": "stdout",
     "output_type": "stream",
     "text": [
      "127 R31_S01\n",
      "/home/y/youtsumi/notebooks/Run7/gaintemp/R31_S01.pickle\n",
      "['u/lsstccs/eo_flat_gain_stability_E1496_w_2024_35/20241025T082704Z', 'u/lsstccs/eo_flat_gain_stability_E1496_w_2024_35'] 127\n"
     ]
    },
    {
     "name": "stderr",
     "output_type": "stream",
     "text": [
      "100%|██████████| 555/555 [00:35<00:00, 15.44it/s]\n"
     ]
    },
    {
     "name": "stdout",
     "output_type": "stream",
     "text": [
      "128 R31_S02\n",
      "/home/y/youtsumi/notebooks/Run7/gaintemp/R31_S02.pickle\n",
      "['u/lsstccs/eo_flat_gain_stability_E1496_w_2024_35/20241025T082704Z', 'u/lsstccs/eo_flat_gain_stability_E1496_w_2024_35'] 128\n"
     ]
    },
    {
     "name": "stderr",
     "output_type": "stream",
     "text": [
      "100%|██████████| 555/555 [00:35<00:00, 15.75it/s]\n"
     ]
    },
    {
     "name": "stdout",
     "output_type": "stream",
     "text": [
      "129 R31_S10\n",
      "/home/y/youtsumi/notebooks/Run7/gaintemp/R31_S10.pickle\n",
      "['u/lsstccs/eo_flat_gain_stability_E1496_w_2024_35/20241025T082704Z', 'u/lsstccs/eo_flat_gain_stability_E1496_w_2024_35'] 129\n"
     ]
    },
    {
     "name": "stderr",
     "output_type": "stream",
     "text": [
      "100%|██████████| 555/555 [00:35<00:00, 15.77it/s]\n"
     ]
    },
    {
     "name": "stdout",
     "output_type": "stream",
     "text": [
      "130 R31_S11\n",
      "/home/y/youtsumi/notebooks/Run7/gaintemp/R31_S11.pickle\n",
      "['u/lsstccs/eo_flat_gain_stability_E1496_w_2024_35/20241025T082704Z', 'u/lsstccs/eo_flat_gain_stability_E1496_w_2024_35'] 130\n"
     ]
    },
    {
     "name": "stderr",
     "output_type": "stream",
     "text": [
      "100%|██████████| 555/555 [00:35<00:00, 15.74it/s]\n"
     ]
    },
    {
     "name": "stdout",
     "output_type": "stream",
     "text": [
      "131 R31_S12\n",
      "/home/y/youtsumi/notebooks/Run7/gaintemp/R31_S12.pickle\n",
      "['u/lsstccs/eo_flat_gain_stability_E1496_w_2024_35/20241025T082704Z', 'u/lsstccs/eo_flat_gain_stability_E1496_w_2024_35'] 131\n"
     ]
    },
    {
     "name": "stderr",
     "output_type": "stream",
     "text": [
      "100%|██████████| 555/555 [00:36<00:00, 15.11it/s]\n"
     ]
    },
    {
     "name": "stdout",
     "output_type": "stream",
     "text": [
      "132 R31_S20\n",
      "/home/y/youtsumi/notebooks/Run7/gaintemp/R31_S20.pickle\n",
      "['u/lsstccs/eo_flat_gain_stability_E1496_w_2024_35/20241025T082704Z', 'u/lsstccs/eo_flat_gain_stability_E1496_w_2024_35'] 132\n"
     ]
    },
    {
     "name": "stderr",
     "output_type": "stream",
     "text": [
      "100%|██████████| 555/555 [00:34<00:00, 16.02it/s]\n"
     ]
    },
    {
     "name": "stdout",
     "output_type": "stream",
     "text": [
      "133 R31_S21\n",
      "/home/y/youtsumi/notebooks/Run7/gaintemp/R31_S21.pickle\n",
      "['u/lsstccs/eo_flat_gain_stability_E1496_w_2024_35/20241025T082704Z', 'u/lsstccs/eo_flat_gain_stability_E1496_w_2024_35'] 133\n"
     ]
    },
    {
     "name": "stderr",
     "output_type": "stream",
     "text": [
      "100%|██████████| 555/555 [00:35<00:00, 15.69it/s]\n"
     ]
    },
    {
     "name": "stdout",
     "output_type": "stream",
     "text": [
      "134 R31_S22\n",
      "/home/y/youtsumi/notebooks/Run7/gaintemp/R31_S22.pickle\n",
      "['u/lsstccs/eo_flat_gain_stability_E1496_w_2024_35/20241025T082704Z', 'u/lsstccs/eo_flat_gain_stability_E1496_w_2024_35'] 134\n"
     ]
    },
    {
     "name": "stderr",
     "output_type": "stream",
     "text": [
      "100%|██████████| 555/555 [00:36<00:00, 15.20it/s]\n"
     ]
    },
    {
     "name": "stdout",
     "output_type": "stream",
     "text": [
      "135 R32_S00\n",
      "/home/y/youtsumi/notebooks/Run7/gaintemp/R32_S00.pickle\n",
      "['u/lsstccs/eo_flat_gain_stability_E1496_w_2024_35/20241025T082704Z', 'u/lsstccs/eo_flat_gain_stability_E1496_w_2024_35'] 135\n"
     ]
    },
    {
     "name": "stderr",
     "output_type": "stream",
     "text": [
      "100%|██████████| 555/555 [00:35<00:00, 15.57it/s]\n"
     ]
    },
    {
     "name": "stdout",
     "output_type": "stream",
     "text": [
      "136 R32_S01\n",
      "/home/y/youtsumi/notebooks/Run7/gaintemp/R32_S01.pickle\n",
      "['u/lsstccs/eo_flat_gain_stability_E1496_w_2024_35/20241025T082704Z', 'u/lsstccs/eo_flat_gain_stability_E1496_w_2024_35'] 136\n"
     ]
    },
    {
     "name": "stderr",
     "output_type": "stream",
     "text": [
      "100%|██████████| 555/555 [00:35<00:00, 15.52it/s]\n"
     ]
    },
    {
     "name": "stdout",
     "output_type": "stream",
     "text": [
      "137 R32_S02\n",
      "/home/y/youtsumi/notebooks/Run7/gaintemp/R32_S02.pickle\n",
      "['u/lsstccs/eo_flat_gain_stability_E1496_w_2024_35/20241025T082704Z', 'u/lsstccs/eo_flat_gain_stability_E1496_w_2024_35'] 137\n"
     ]
    },
    {
     "name": "stderr",
     "output_type": "stream",
     "text": [
      "100%|██████████| 555/555 [00:36<00:00, 15.25it/s]\n"
     ]
    },
    {
     "name": "stdout",
     "output_type": "stream",
     "text": [
      "138 R32_S10\n",
      "/home/y/youtsumi/notebooks/Run7/gaintemp/R32_S10.pickle\n",
      "['u/lsstccs/eo_flat_gain_stability_E1496_w_2024_35/20241025T082704Z', 'u/lsstccs/eo_flat_gain_stability_E1496_w_2024_35'] 138\n"
     ]
    },
    {
     "name": "stderr",
     "output_type": "stream",
     "text": [
      "100%|██████████| 555/555 [00:35<00:00, 15.72it/s]\n"
     ]
    },
    {
     "name": "stdout",
     "output_type": "stream",
     "text": [
      "139 R32_S11\n",
      "/home/y/youtsumi/notebooks/Run7/gaintemp/R32_S11.pickle\n",
      "['u/lsstccs/eo_flat_gain_stability_E1496_w_2024_35/20241025T082704Z', 'u/lsstccs/eo_flat_gain_stability_E1496_w_2024_35'] 139\n"
     ]
    },
    {
     "name": "stderr",
     "output_type": "stream",
     "text": [
      "100%|██████████| 555/555 [00:38<00:00, 14.41it/s]\n"
     ]
    },
    {
     "name": "stdout",
     "output_type": "stream",
     "text": [
      "140 R32_S12\n",
      "/home/y/youtsumi/notebooks/Run7/gaintemp/R32_S12.pickle\n",
      "['u/lsstccs/eo_flat_gain_stability_E1496_w_2024_35/20241025T082704Z', 'u/lsstccs/eo_flat_gain_stability_E1496_w_2024_35'] 140\n"
     ]
    },
    {
     "name": "stderr",
     "output_type": "stream",
     "text": [
      "100%|██████████| 555/555 [00:36<00:00, 15.21it/s]\n"
     ]
    },
    {
     "name": "stdout",
     "output_type": "stream",
     "text": [
      "141 R32_S20\n",
      "/home/y/youtsumi/notebooks/Run7/gaintemp/R32_S20.pickle\n",
      "['u/lsstccs/eo_flat_gain_stability_E1496_w_2024_35/20241025T082704Z', 'u/lsstccs/eo_flat_gain_stability_E1496_w_2024_35'] 141\n"
     ]
    },
    {
     "name": "stderr",
     "output_type": "stream",
     "text": [
      "100%|██████████| 555/555 [00:34<00:00, 15.89it/s]\n"
     ]
    },
    {
     "name": "stdout",
     "output_type": "stream",
     "text": [
      "142 R32_S21\n",
      "/home/y/youtsumi/notebooks/Run7/gaintemp/R32_S21.pickle\n",
      "['u/lsstccs/eo_flat_gain_stability_E1496_w_2024_35/20241025T082704Z', 'u/lsstccs/eo_flat_gain_stability_E1496_w_2024_35'] 142\n"
     ]
    },
    {
     "name": "stderr",
     "output_type": "stream",
     "text": [
      "100%|██████████| 555/555 [00:35<00:00, 15.47it/s]\n"
     ]
    },
    {
     "name": "stdout",
     "output_type": "stream",
     "text": [
      "143 R32_S22\n",
      "/home/y/youtsumi/notebooks/Run7/gaintemp/R32_S22.pickle\n",
      "['u/lsstccs/eo_flat_gain_stability_E1496_w_2024_35/20241025T082704Z', 'u/lsstccs/eo_flat_gain_stability_E1496_w_2024_35'] 143\n"
     ]
    },
    {
     "name": "stderr",
     "output_type": "stream",
     "text": [
      "100%|██████████| 555/555 [00:34<00:00, 16.13it/s]\n"
     ]
    },
    {
     "name": "stdout",
     "output_type": "stream",
     "text": [
      "144 R33_S00\n",
      "/home/y/youtsumi/notebooks/Run7/gaintemp/R33_S00.pickle\n",
      "['u/lsstccs/eo_flat_gain_stability_E1496_w_2024_35/20241025T082704Z', 'u/lsstccs/eo_flat_gain_stability_E1496_w_2024_35'] 144\n"
     ]
    },
    {
     "name": "stderr",
     "output_type": "stream",
     "text": [
      "100%|██████████| 555/555 [00:35<00:00, 15.52it/s]\n"
     ]
    },
    {
     "name": "stdout",
     "output_type": "stream",
     "text": [
      "145 R33_S01\n",
      "/home/y/youtsumi/notebooks/Run7/gaintemp/R33_S01.pickle\n",
      "['u/lsstccs/eo_flat_gain_stability_E1496_w_2024_35/20241025T082704Z', 'u/lsstccs/eo_flat_gain_stability_E1496_w_2024_35'] 145\n"
     ]
    },
    {
     "name": "stderr",
     "output_type": "stream",
     "text": [
      "100%|██████████| 555/555 [00:35<00:00, 15.50it/s]\n"
     ]
    },
    {
     "name": "stdout",
     "output_type": "stream",
     "text": [
      "146 R33_S02\n",
      "/home/y/youtsumi/notebooks/Run7/gaintemp/R33_S02.pickle\n",
      "['u/lsstccs/eo_flat_gain_stability_E1496_w_2024_35/20241025T082704Z', 'u/lsstccs/eo_flat_gain_stability_E1496_w_2024_35'] 146\n"
     ]
    },
    {
     "name": "stderr",
     "output_type": "stream",
     "text": [
      "100%|██████████| 555/555 [00:35<00:00, 15.52it/s]\n"
     ]
    },
    {
     "name": "stdout",
     "output_type": "stream",
     "text": [
      "147 R33_S10\n",
      "/home/y/youtsumi/notebooks/Run7/gaintemp/R33_S10.pickle\n",
      "['u/lsstccs/eo_flat_gain_stability_E1496_w_2024_35/20241025T082704Z', 'u/lsstccs/eo_flat_gain_stability_E1496_w_2024_35'] 147\n"
     ]
    },
    {
     "name": "stderr",
     "output_type": "stream",
     "text": [
      "100%|██████████| 555/555 [00:35<00:00, 15.84it/s]\n"
     ]
    },
    {
     "name": "stdout",
     "output_type": "stream",
     "text": [
      "148 R33_S11\n",
      "/home/y/youtsumi/notebooks/Run7/gaintemp/R33_S11.pickle\n",
      "['u/lsstccs/eo_flat_gain_stability_E1496_w_2024_35/20241025T082704Z', 'u/lsstccs/eo_flat_gain_stability_E1496_w_2024_35'] 148\n"
     ]
    },
    {
     "name": "stderr",
     "output_type": "stream",
     "text": [
      "100%|██████████| 555/555 [00:34<00:00, 15.97it/s]\n"
     ]
    },
    {
     "name": "stdout",
     "output_type": "stream",
     "text": [
      "149 R33_S12\n",
      "/home/y/youtsumi/notebooks/Run7/gaintemp/R33_S12.pickle\n",
      "['u/lsstccs/eo_flat_gain_stability_E1496_w_2024_35/20241025T082704Z', 'u/lsstccs/eo_flat_gain_stability_E1496_w_2024_35'] 149\n"
     ]
    },
    {
     "name": "stderr",
     "output_type": "stream",
     "text": [
      "100%|██████████| 555/555 [00:34<00:00, 16.29it/s]\n"
     ]
    },
    {
     "name": "stdout",
     "output_type": "stream",
     "text": [
      "150 R33_S20\n",
      "/home/y/youtsumi/notebooks/Run7/gaintemp/R33_S20.pickle\n",
      "['u/lsstccs/eo_flat_gain_stability_E1496_w_2024_35/20241025T082704Z', 'u/lsstccs/eo_flat_gain_stability_E1496_w_2024_35'] 150\n"
     ]
    },
    {
     "name": "stderr",
     "output_type": "stream",
     "text": [
      "100%|██████████| 555/555 [00:35<00:00, 15.63it/s]\n"
     ]
    },
    {
     "name": "stdout",
     "output_type": "stream",
     "text": [
      "151 R33_S21\n",
      "/home/y/youtsumi/notebooks/Run7/gaintemp/R33_S21.pickle\n",
      "['u/lsstccs/eo_flat_gain_stability_E1496_w_2024_35/20241025T082704Z', 'u/lsstccs/eo_flat_gain_stability_E1496_w_2024_35'] 151\n"
     ]
    },
    {
     "name": "stderr",
     "output_type": "stream",
     "text": [
      "100%|██████████| 555/555 [00:33<00:00, 16.33it/s]\n"
     ]
    },
    {
     "name": "stdout",
     "output_type": "stream",
     "text": [
      "152 R33_S22\n",
      "/home/y/youtsumi/notebooks/Run7/gaintemp/R33_S22.pickle\n",
      "['u/lsstccs/eo_flat_gain_stability_E1496_w_2024_35/20241025T082704Z', 'u/lsstccs/eo_flat_gain_stability_E1496_w_2024_35'] 152\n"
     ]
    },
    {
     "name": "stderr",
     "output_type": "stream",
     "text": [
      "100%|██████████| 555/555 [00:35<00:00, 15.79it/s]\n"
     ]
    },
    {
     "name": "stdout",
     "output_type": "stream",
     "text": [
      "153 R34_S00\n",
      "/home/y/youtsumi/notebooks/Run7/gaintemp/R34_S00.pickle\n",
      "['u/lsstccs/eo_flat_gain_stability_E1496_w_2024_35/20241025T082704Z', 'u/lsstccs/eo_flat_gain_stability_E1496_w_2024_35'] 153\n"
     ]
    },
    {
     "name": "stderr",
     "output_type": "stream",
     "text": [
      "100%|██████████| 555/555 [00:34<00:00, 16.03it/s]\n"
     ]
    },
    {
     "name": "stdout",
     "output_type": "stream",
     "text": [
      "154 R34_S01\n",
      "/home/y/youtsumi/notebooks/Run7/gaintemp/R34_S01.pickle\n",
      "['u/lsstccs/eo_flat_gain_stability_E1496_w_2024_35/20241025T082704Z', 'u/lsstccs/eo_flat_gain_stability_E1496_w_2024_35'] 154\n"
     ]
    },
    {
     "name": "stderr",
     "output_type": "stream",
     "text": [
      "100%|██████████| 555/555 [00:35<00:00, 15.84it/s]\n"
     ]
    },
    {
     "name": "stdout",
     "output_type": "stream",
     "text": [
      "155 R34_S02\n",
      "/home/y/youtsumi/notebooks/Run7/gaintemp/R34_S02.pickle\n",
      "['u/lsstccs/eo_flat_gain_stability_E1496_w_2024_35/20241025T082704Z', 'u/lsstccs/eo_flat_gain_stability_E1496_w_2024_35'] 155\n"
     ]
    },
    {
     "name": "stderr",
     "output_type": "stream",
     "text": [
      "100%|██████████| 555/555 [00:34<00:00, 16.21it/s]\n"
     ]
    },
    {
     "name": "stdout",
     "output_type": "stream",
     "text": [
      "156 R34_S10\n",
      "/home/y/youtsumi/notebooks/Run7/gaintemp/R34_S10.pickle\n",
      "['u/lsstccs/eo_flat_gain_stability_E1496_w_2024_35/20241025T082704Z', 'u/lsstccs/eo_flat_gain_stability_E1496_w_2024_35'] 156\n"
     ]
    },
    {
     "name": "stderr",
     "output_type": "stream",
     "text": [
      "100%|██████████| 555/555 [00:34<00:00, 16.28it/s]\n"
     ]
    },
    {
     "name": "stdout",
     "output_type": "stream",
     "text": [
      "157 R34_S11\n",
      "/home/y/youtsumi/notebooks/Run7/gaintemp/R34_S11.pickle\n",
      "['u/lsstccs/eo_flat_gain_stability_E1496_w_2024_35/20241025T082704Z', 'u/lsstccs/eo_flat_gain_stability_E1496_w_2024_35'] 157\n"
     ]
    },
    {
     "name": "stderr",
     "output_type": "stream",
     "text": [
      "100%|██████████| 555/555 [00:34<00:00, 16.21it/s]\n"
     ]
    },
    {
     "name": "stdout",
     "output_type": "stream",
     "text": [
      "158 R34_S12\n",
      "/home/y/youtsumi/notebooks/Run7/gaintemp/R34_S12.pickle\n",
      "['u/lsstccs/eo_flat_gain_stability_E1496_w_2024_35/20241025T082704Z', 'u/lsstccs/eo_flat_gain_stability_E1496_w_2024_35'] 158\n"
     ]
    },
    {
     "name": "stderr",
     "output_type": "stream",
     "text": [
      "100%|██████████| 555/555 [00:34<00:00, 15.99it/s]\n"
     ]
    },
    {
     "name": "stdout",
     "output_type": "stream",
     "text": [
      "159 R34_S20\n",
      "/home/y/youtsumi/notebooks/Run7/gaintemp/R34_S20.pickle\n",
      "['u/lsstccs/eo_flat_gain_stability_E1496_w_2024_35/20241025T082704Z', 'u/lsstccs/eo_flat_gain_stability_E1496_w_2024_35'] 159\n"
     ]
    },
    {
     "name": "stderr",
     "output_type": "stream",
     "text": [
      "100%|██████████| 555/555 [00:34<00:00, 16.07it/s]\n"
     ]
    },
    {
     "name": "stdout",
     "output_type": "stream",
     "text": [
      "160 R34_S21\n",
      "/home/y/youtsumi/notebooks/Run7/gaintemp/R34_S21.pickle\n",
      "['u/lsstccs/eo_flat_gain_stability_E1496_w_2024_35/20241025T082704Z', 'u/lsstccs/eo_flat_gain_stability_E1496_w_2024_35'] 160\n"
     ]
    },
    {
     "name": "stderr",
     "output_type": "stream",
     "text": [
      "100%|██████████| 555/555 [00:34<00:00, 16.00it/s]\n"
     ]
    },
    {
     "name": "stdout",
     "output_type": "stream",
     "text": [
      "161 R34_S22\n",
      "/home/y/youtsumi/notebooks/Run7/gaintemp/R34_S22.pickle\n",
      "['u/lsstccs/eo_flat_gain_stability_E1496_w_2024_35/20241025T082704Z', 'u/lsstccs/eo_flat_gain_stability_E1496_w_2024_35'] 161\n"
     ]
    },
    {
     "name": "stderr",
     "output_type": "stream",
     "text": [
      "100%|██████████| 555/555 [00:34<00:00, 15.94it/s]\n"
     ]
    },
    {
     "name": "stdout",
     "output_type": "stream",
     "text": [
      "162 R41_S00\n",
      "/home/y/youtsumi/notebooks/Run7/gaintemp/R41_S00.pickle\n",
      "['u/lsstccs/eo_flat_gain_stability_E1496_w_2024_35/20241025T082704Z', 'u/lsstccs/eo_flat_gain_stability_E1496_w_2024_35'] 162\n"
     ]
    },
    {
     "name": "stderr",
     "output_type": "stream",
     "text": [
      "100%|██████████| 555/555 [00:34<00:00, 15.95it/s]\n"
     ]
    },
    {
     "name": "stdout",
     "output_type": "stream",
     "text": [
      "163 R41_S01\n",
      "/home/y/youtsumi/notebooks/Run7/gaintemp/R41_S01.pickle\n",
      "['u/lsstccs/eo_flat_gain_stability_E1496_w_2024_35/20241025T082704Z', 'u/lsstccs/eo_flat_gain_stability_E1496_w_2024_35'] 163\n"
     ]
    },
    {
     "name": "stderr",
     "output_type": "stream",
     "text": [
      "100%|██████████| 555/555 [00:33<00:00, 16.49it/s]\n"
     ]
    },
    {
     "name": "stdout",
     "output_type": "stream",
     "text": [
      "164 R41_S02\n",
      "/home/y/youtsumi/notebooks/Run7/gaintemp/R41_S02.pickle\n",
      "['u/lsstccs/eo_flat_gain_stability_E1496_w_2024_35/20241025T082704Z', 'u/lsstccs/eo_flat_gain_stability_E1496_w_2024_35'] 164\n"
     ]
    },
    {
     "name": "stderr",
     "output_type": "stream",
     "text": [
      "100%|██████████| 555/555 [00:34<00:00, 16.04it/s]\n"
     ]
    },
    {
     "name": "stdout",
     "output_type": "stream",
     "text": [
      "165 R41_S10\n",
      "/home/y/youtsumi/notebooks/Run7/gaintemp/R41_S10.pickle\n",
      "['u/lsstccs/eo_flat_gain_stability_E1496_w_2024_35/20241025T082704Z', 'u/lsstccs/eo_flat_gain_stability_E1496_w_2024_35'] 165\n"
     ]
    },
    {
     "name": "stderr",
     "output_type": "stream",
     "text": [
      "100%|██████████| 555/555 [00:33<00:00, 16.79it/s]\n"
     ]
    },
    {
     "name": "stdout",
     "output_type": "stream",
     "text": [
      "166 R41_S11\n",
      "/home/y/youtsumi/notebooks/Run7/gaintemp/R41_S11.pickle\n",
      "['u/lsstccs/eo_flat_gain_stability_E1496_w_2024_35/20241025T082704Z', 'u/lsstccs/eo_flat_gain_stability_E1496_w_2024_35'] 166\n"
     ]
    },
    {
     "name": "stderr",
     "output_type": "stream",
     "text": [
      "100%|██████████| 555/555 [00:34<00:00, 16.13it/s]\n"
     ]
    },
    {
     "name": "stdout",
     "output_type": "stream",
     "text": [
      "167 R41_S12\n",
      "/home/y/youtsumi/notebooks/Run7/gaintemp/R41_S12.pickle\n",
      "['u/lsstccs/eo_flat_gain_stability_E1496_w_2024_35/20241025T082704Z', 'u/lsstccs/eo_flat_gain_stability_E1496_w_2024_35'] 167\n"
     ]
    },
    {
     "name": "stderr",
     "output_type": "stream",
     "text": [
      "100%|██████████| 555/555 [00:34<00:00, 16.27it/s]\n"
     ]
    },
    {
     "name": "stdout",
     "output_type": "stream",
     "text": [
      "168 R41_S20\n",
      "/home/y/youtsumi/notebooks/Run7/gaintemp/R41_S20.pickle\n",
      "['u/lsstccs/eo_flat_gain_stability_E1496_w_2024_35/20241025T082704Z', 'u/lsstccs/eo_flat_gain_stability_E1496_w_2024_35'] 168\n"
     ]
    },
    {
     "name": "stderr",
     "output_type": "stream",
     "text": [
      "100%|██████████| 555/555 [00:34<00:00, 16.22it/s]\n"
     ]
    },
    {
     "name": "stdout",
     "output_type": "stream",
     "text": [
      "169 R41_S21\n",
      "/home/y/youtsumi/notebooks/Run7/gaintemp/R41_S21.pickle\n",
      "['u/lsstccs/eo_flat_gain_stability_E1496_w_2024_35/20241025T082704Z', 'u/lsstccs/eo_flat_gain_stability_E1496_w_2024_35'] 169\n"
     ]
    },
    {
     "name": "stderr",
     "output_type": "stream",
     "text": [
      "100%|██████████| 555/555 [00:34<00:00, 16.12it/s]\n"
     ]
    },
    {
     "name": "stdout",
     "output_type": "stream",
     "text": [
      "170 R41_S22\n",
      "/home/y/youtsumi/notebooks/Run7/gaintemp/R41_S22.pickle\n",
      "['u/lsstccs/eo_flat_gain_stability_E1496_w_2024_35/20241025T082704Z', 'u/lsstccs/eo_flat_gain_stability_E1496_w_2024_35'] 170\n"
     ]
    },
    {
     "name": "stderr",
     "output_type": "stream",
     "text": [
      "100%|██████████| 555/555 [00:32<00:00, 16.83it/s]\n"
     ]
    },
    {
     "name": "stdout",
     "output_type": "stream",
     "text": [
      "171 R42_S00\n",
      "/home/y/youtsumi/notebooks/Run7/gaintemp/R42_S00.pickle\n",
      "['u/lsstccs/eo_flat_gain_stability_E1496_w_2024_35/20241025T082704Z', 'u/lsstccs/eo_flat_gain_stability_E1496_w_2024_35'] 171\n"
     ]
    },
    {
     "name": "stderr",
     "output_type": "stream",
     "text": [
      "100%|██████████| 555/555 [00:33<00:00, 16.34it/s]\n"
     ]
    },
    {
     "name": "stdout",
     "output_type": "stream",
     "text": [
      "172 R42_S01\n",
      "/home/y/youtsumi/notebooks/Run7/gaintemp/R42_S01.pickle\n",
      "['u/lsstccs/eo_flat_gain_stability_E1496_w_2024_35/20241025T082704Z', 'u/lsstccs/eo_flat_gain_stability_E1496_w_2024_35'] 172\n"
     ]
    },
    {
     "name": "stderr",
     "output_type": "stream",
     "text": [
      "100%|██████████| 555/555 [00:34<00:00, 16.32it/s]\n"
     ]
    },
    {
     "name": "stdout",
     "output_type": "stream",
     "text": [
      "173 R42_S02\n",
      "/home/y/youtsumi/notebooks/Run7/gaintemp/R42_S02.pickle\n",
      "['u/lsstccs/eo_flat_gain_stability_E1496_w_2024_35/20241025T082704Z', 'u/lsstccs/eo_flat_gain_stability_E1496_w_2024_35'] 173\n"
     ]
    },
    {
     "name": "stderr",
     "output_type": "stream",
     "text": [
      "100%|██████████| 555/555 [00:34<00:00, 16.29it/s]\n"
     ]
    },
    {
     "name": "stdout",
     "output_type": "stream",
     "text": [
      "174 R42_S10\n",
      "/home/y/youtsumi/notebooks/Run7/gaintemp/R42_S10.pickle\n",
      "['u/lsstccs/eo_flat_gain_stability_E1496_w_2024_35/20241025T082704Z', 'u/lsstccs/eo_flat_gain_stability_E1496_w_2024_35'] 174\n"
     ]
    },
    {
     "name": "stderr",
     "output_type": "stream",
     "text": [
      "100%|██████████| 555/555 [00:33<00:00, 16.40it/s]\n"
     ]
    },
    {
     "name": "stdout",
     "output_type": "stream",
     "text": [
      "175 R42_S11\n",
      "/home/y/youtsumi/notebooks/Run7/gaintemp/R42_S11.pickle\n",
      "['u/lsstccs/eo_flat_gain_stability_E1496_w_2024_35/20241025T082704Z', 'u/lsstccs/eo_flat_gain_stability_E1496_w_2024_35'] 175\n"
     ]
    },
    {
     "name": "stderr",
     "output_type": "stream",
     "text": [
      "100%|██████████| 555/555 [00:34<00:00, 16.32it/s]\n"
     ]
    },
    {
     "name": "stdout",
     "output_type": "stream",
     "text": [
      "176 R42_S12\n",
      "/home/y/youtsumi/notebooks/Run7/gaintemp/R42_S12.pickle\n",
      "['u/lsstccs/eo_flat_gain_stability_E1496_w_2024_35/20241025T082704Z', 'u/lsstccs/eo_flat_gain_stability_E1496_w_2024_35'] 176\n"
     ]
    },
    {
     "name": "stderr",
     "output_type": "stream",
     "text": [
      "100%|██████████| 555/555 [00:33<00:00, 16.35it/s]\n"
     ]
    },
    {
     "name": "stdout",
     "output_type": "stream",
     "text": [
      "177 R42_S20\n",
      "/home/y/youtsumi/notebooks/Run7/gaintemp/R42_S20.pickle\n",
      "['u/lsstccs/eo_flat_gain_stability_E1496_w_2024_35/20241025T082704Z', 'u/lsstccs/eo_flat_gain_stability_E1496_w_2024_35'] 177\n"
     ]
    },
    {
     "name": "stderr",
     "output_type": "stream",
     "text": [
      "100%|██████████| 555/555 [00:34<00:00, 16.03it/s]\n"
     ]
    },
    {
     "name": "stdout",
     "output_type": "stream",
     "text": [
      "178 R42_S21\n",
      "/home/y/youtsumi/notebooks/Run7/gaintemp/R42_S21.pickle\n",
      "['u/lsstccs/eo_flat_gain_stability_E1496_w_2024_35/20241025T082704Z', 'u/lsstccs/eo_flat_gain_stability_E1496_w_2024_35'] 178\n"
     ]
    },
    {
     "name": "stderr",
     "output_type": "stream",
     "text": [
      "100%|██████████| 555/555 [00:33<00:00, 16.46it/s]\n"
     ]
    },
    {
     "name": "stdout",
     "output_type": "stream",
     "text": [
      "179 R42_S22\n",
      "/home/y/youtsumi/notebooks/Run7/gaintemp/R42_S22.pickle\n",
      "['u/lsstccs/eo_flat_gain_stability_E1496_w_2024_35/20241025T082704Z', 'u/lsstccs/eo_flat_gain_stability_E1496_w_2024_35'] 179\n"
     ]
    },
    {
     "name": "stderr",
     "output_type": "stream",
     "text": [
      "100%|██████████| 555/555 [00:34<00:00, 16.13it/s]\n"
     ]
    },
    {
     "name": "stdout",
     "output_type": "stream",
     "text": [
      "180 R43_S00\n",
      "/home/y/youtsumi/notebooks/Run7/gaintemp/R43_S00.pickle\n",
      "['u/lsstccs/eo_flat_gain_stability_E1496_w_2024_35/20241025T082704Z', 'u/lsstccs/eo_flat_gain_stability_E1496_w_2024_35'] 180\n"
     ]
    },
    {
     "name": "stderr",
     "output_type": "stream",
     "text": [
      "100%|██████████| 555/555 [00:35<00:00, 15.50it/s]\n"
     ]
    },
    {
     "name": "stdout",
     "output_type": "stream",
     "text": [
      "181 R43_S01\n",
      "/home/y/youtsumi/notebooks/Run7/gaintemp/R43_S01.pickle\n",
      "['u/lsstccs/eo_flat_gain_stability_E1496_w_2024_35/20241025T082704Z', 'u/lsstccs/eo_flat_gain_stability_E1496_w_2024_35'] 181\n"
     ]
    },
    {
     "name": "stderr",
     "output_type": "stream",
     "text": [
      "100%|██████████| 555/555 [00:34<00:00, 16.08it/s]\n"
     ]
    },
    {
     "name": "stdout",
     "output_type": "stream",
     "text": [
      "182 R43_S02\n",
      "/home/y/youtsumi/notebooks/Run7/gaintemp/R43_S02.pickle\n",
      "['u/lsstccs/eo_flat_gain_stability_E1496_w_2024_35/20241025T082704Z', 'u/lsstccs/eo_flat_gain_stability_E1496_w_2024_35'] 182\n"
     ]
    },
    {
     "name": "stderr",
     "output_type": "stream",
     "text": [
      "100%|██████████| 555/555 [00:34<00:00, 15.98it/s]\n"
     ]
    },
    {
     "name": "stdout",
     "output_type": "stream",
     "text": [
      "183 R43_S10\n",
      "/home/y/youtsumi/notebooks/Run7/gaintemp/R43_S10.pickle\n",
      "['u/lsstccs/eo_flat_gain_stability_E1496_w_2024_35/20241025T082704Z', 'u/lsstccs/eo_flat_gain_stability_E1496_w_2024_35'] 183\n"
     ]
    },
    {
     "name": "stderr",
     "output_type": "stream",
     "text": [
      "100%|██████████| 555/555 [00:34<00:00, 16.17it/s]\n"
     ]
    },
    {
     "name": "stdout",
     "output_type": "stream",
     "text": [
      "184 R43_S11\n",
      "/home/y/youtsumi/notebooks/Run7/gaintemp/R43_S11.pickle\n",
      "['u/lsstccs/eo_flat_gain_stability_E1496_w_2024_35/20241025T082704Z', 'u/lsstccs/eo_flat_gain_stability_E1496_w_2024_35'] 184\n"
     ]
    },
    {
     "name": "stderr",
     "output_type": "stream",
     "text": [
      "100%|██████████| 555/555 [00:33<00:00, 16.37it/s]\n"
     ]
    },
    {
     "name": "stdout",
     "output_type": "stream",
     "text": [
      "185 R43_S12\n",
      "/home/y/youtsumi/notebooks/Run7/gaintemp/R43_S12.pickle\n",
      "['u/lsstccs/eo_flat_gain_stability_E1496_w_2024_35/20241025T082704Z', 'u/lsstccs/eo_flat_gain_stability_E1496_w_2024_35'] 185\n"
     ]
    },
    {
     "name": "stderr",
     "output_type": "stream",
     "text": [
      "100%|██████████| 555/555 [00:34<00:00, 16.30it/s]\n"
     ]
    },
    {
     "name": "stdout",
     "output_type": "stream",
     "text": [
      "186 R43_S20\n",
      "/home/y/youtsumi/notebooks/Run7/gaintemp/R43_S20.pickle\n",
      "['u/lsstccs/eo_flat_gain_stability_E1496_w_2024_35/20241025T082704Z', 'u/lsstccs/eo_flat_gain_stability_E1496_w_2024_35'] 186\n"
     ]
    },
    {
     "name": "stderr",
     "output_type": "stream",
     "text": [
      "100%|██████████| 555/555 [00:34<00:00, 16.00it/s]\n"
     ]
    },
    {
     "name": "stdout",
     "output_type": "stream",
     "text": [
      "187 R43_S21\n",
      "/home/y/youtsumi/notebooks/Run7/gaintemp/R43_S21.pickle\n",
      "['u/lsstccs/eo_flat_gain_stability_E1496_w_2024_35/20241025T082704Z', 'u/lsstccs/eo_flat_gain_stability_E1496_w_2024_35'] 187\n"
     ]
    },
    {
     "name": "stderr",
     "output_type": "stream",
     "text": [
      "100%|██████████| 555/555 [00:34<00:00, 16.21it/s]\n"
     ]
    },
    {
     "name": "stdout",
     "output_type": "stream",
     "text": [
      "188 R43_S22\n",
      "/home/y/youtsumi/notebooks/Run7/gaintemp/R43_S22.pickle\n",
      "['u/lsstccs/eo_flat_gain_stability_E1496_w_2024_35/20241025T082704Z', 'u/lsstccs/eo_flat_gain_stability_E1496_w_2024_35'] 188\n"
     ]
    },
    {
     "name": "stderr",
     "output_type": "stream",
     "text": [
      "100%|██████████| 555/555 [00:34<00:00, 16.22it/s]\n"
     ]
    }
   ],
   "source": [
    "for did in list(registry.queryDimensionRecords(\"detector\",instrument='LSSTCam'))[:189]:\n",
    "    print(did.id, did.full_name)\n",
    "    path = f'/home/y/youtsumi/notebooks/Run7/gaintemp/{did.full_name}.pickle'\n",
    "    print(path)\n",
    "    if os.path.exists(path):\n",
    "        continue\n",
    "\n",
    "    ret={ did.full_name: getcoef(did.id) }\n",
    "    with open(path,'wb') as f:\n",
    "        pickle.dump(ret,f)\n",
    "    \n",
    "#getcoef('')"
   ]
  },
  {
   "cell_type": "code",
   "execution_count": 18,
   "id": "63ed76ac-384f-4bcd-827a-3f62f2f538b2",
   "metadata": {
    "execution": {
     "iopub.execute_input": "2024-10-30T14:39:35.340806Z",
     "iopub.status.busy": "2024-10-30T14:39:35.340252Z",
     "iopub.status.idle": "2024-10-30T14:39:35.356632Z",
     "shell.execute_reply": "2024-10-30T14:39:35.356105Z",
     "shell.execute_reply.started": "2024-10-30T14:39:35.340790Z"
    }
   },
   "outputs": [
    {
     "ename": "KeyError",
     "evalue": "'R01_S01'",
     "output_type": "error",
     "traceback": [
      "\u001b[0;31m---------------------------------------------------------------------------\u001b[0m",
      "\u001b[0;31mKeyError\u001b[0m                                  Traceback (most recent call last)",
      "Cell \u001b[0;32mIn[18], line 1\u001b[0m\n\u001b[0;32m----> 1\u001b[0m pylab\u001b[38;5;241m.\u001b[39mhist([ ret[\u001b[38;5;124m'\u001b[39m\u001b[38;5;124mR01_S01\u001b[39m\u001b[38;5;124m'\u001b[39m][x][\u001b[38;5;124m'\u001b[39m\u001b[38;5;124my0\u001b[39m\u001b[38;5;124m'\u001b[39m] \u001b[38;5;28;01mfor\u001b[39;00m x \u001b[38;5;129;01min\u001b[39;00m \u001b[43mret\u001b[49m\u001b[43m[\u001b[49m\u001b[38;5;124;43m'\u001b[39;49m\u001b[38;5;124;43mR01_S01\u001b[39;49m\u001b[38;5;124;43m'\u001b[39;49m\u001b[43m]\u001b[49m ])\n",
      "\u001b[0;31mKeyError\u001b[0m: 'R01_S01'"
     ]
    }
   ],
   "source": [
    "pylab.hist([ ret['R01_S01'][x]['y0'] for x in ret['R01_S01'] ])"
   ]
  },
  {
   "cell_type": "code",
   "execution_count": 8,
   "id": "e76793c5-9130-4f8b-8ae8-a1e822d325d2",
   "metadata": {
    "execution": {
     "iopub.execute_input": "2024-10-30T14:18:15.688433Z",
     "iopub.status.busy": "2024-10-30T14:18:15.688173Z",
     "iopub.status.idle": "2024-10-30T14:18:15.702602Z",
     "shell.execute_reply": "2024-10-30T14:18:15.702037Z",
     "shell.execute_reply.started": "2024-10-30T14:18:15.688420Z"
    }
   },
   "outputs": [
    {
     "ename": "KeyError",
     "evalue": "'R01_S01'",
     "output_type": "error",
     "traceback": [
      "\u001b[0;31m---------------------------------------------------------------------------\u001b[0m",
      "\u001b[0;31mKeyError\u001b[0m                                  Traceback (most recent call last)",
      "Cell \u001b[0;32mIn[8], line 1\u001b[0m\n\u001b[0;32m----> 1\u001b[0m pylab\u001b[38;5;241m.\u001b[39mhist([ ret[\u001b[38;5;124m'\u001b[39m\u001b[38;5;124mR01_S01\u001b[39m\u001b[38;5;124m'\u001b[39m][x][\u001b[38;5;124m'\u001b[39m\u001b[38;5;124mslope\u001b[39m\u001b[38;5;124m'\u001b[39m] \u001b[38;5;28;01mfor\u001b[39;00m x \u001b[38;5;129;01min\u001b[39;00m \u001b[43mret\u001b[49m\u001b[43m[\u001b[49m\u001b[38;5;124;43m'\u001b[39;49m\u001b[38;5;124;43mR01_S01\u001b[39;49m\u001b[38;5;124;43m'\u001b[39;49m\u001b[43m]\u001b[49m ])\n",
      "\u001b[0;31mKeyError\u001b[0m: 'R01_S01'"
     ]
    }
   ],
   "source": [
    "pylab.hist([ ret['R01_S01'][x]['slope'] for x in ret['R01_S01'] ])"
   ]
  },
  {
   "cell_type": "code",
   "execution_count": 9,
   "id": "4044f7e5-e271-4300-8b6e-b6f0c824ac04",
   "metadata": {
    "execution": {
     "iopub.execute_input": "2024-10-30T14:18:16.345091Z",
     "iopub.status.busy": "2024-10-30T14:18:16.344591Z",
     "iopub.status.idle": "2024-10-30T14:18:16.351612Z",
     "shell.execute_reply": "2024-10-30T14:18:16.351212Z",
     "shell.execute_reply.started": "2024-10-30T14:18:16.345071Z"
    }
   },
   "outputs": [],
   "source": [
    "import pickle\n",
    "with open('gaintemp.pickle','wb') as f:\n",
    "    pickle.dump(ret,f)"
   ]
  },
  {
   "cell_type": "code",
   "execution_count": null,
   "id": "6b1cb63d-cb69-40ce-adb5-82390741e23f",
   "metadata": {},
   "outputs": [],
   "source": []
  }
 ],
 "metadata": {
  "kernelspec": {
   "display_name": "LSST",
   "language": "python",
   "name": "lsst"
  },
  "language_info": {
   "codemirror_mode": {
    "name": "ipython",
    "version": 3
   },
   "file_extension": ".py",
   "mimetype": "text/x-python",
   "name": "python",
   "nbconvert_exporter": "python",
   "pygments_lexer": "ipython3",
   "version": "3.11.9"
  }
 },
 "nbformat": 4,
 "nbformat_minor": 5
}
