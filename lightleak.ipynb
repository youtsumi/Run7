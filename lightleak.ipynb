{
 "cells": [
  {
   "cell_type": "code",
   "execution_count": 1,
   "id": "fd2c7269-2ac6-45f5-b852-1494067c616d",
   "metadata": {
    "execution": {
     "iopub.execute_input": "2024-09-09T19:55:55.357550Z",
     "iopub.status.busy": "2024-09-09T19:55:55.356983Z",
     "iopub.status.idle": "2024-09-09T19:55:57.701586Z",
     "shell.execute_reply": "2024-09-09T19:55:57.701214Z",
     "shell.execute_reply.started": "2024-09-09T19:55:55.357532Z"
    }
   },
   "outputs": [],
   "source": [
    "from lsst.ip.isr.isrTask import IsrTask, IsrTaskConfig\n",
    "\n",
    "from lsst.daf.butler import Butler\n",
    "import lsst.afw.display as afwDisplay\n",
    "import lsst.afw.image as afwImage\n",
    "import matplotlib.pyplot as plt\n",
    "import numpy\n",
    "from astropy.table import Table,join"
   ]
  },
  {
   "cell_type": "code",
   "execution_count": 2,
   "id": "4dab25d9-7250-4a22-9a48-2c3239035c82",
   "metadata": {
    "execution": {
     "iopub.execute_input": "2024-09-09T19:55:57.709147Z",
     "iopub.status.busy": "2024-09-09T19:55:57.709016Z",
     "iopub.status.idle": "2024-09-09T19:55:57.712228Z",
     "shell.execute_reply": "2024-09-09T19:55:57.711878Z",
     "shell.execute_reply.started": "2024-09-09T19:55:57.709135Z"
    }
   },
   "outputs": [],
   "source": [
    "def display(exposure,title=None,frame=0):\n",
    "    afw_display = afwDisplay.Display(frame=frame, backend='matplotlib')\n",
    "    afw_display.scale('asinh', 'zscale')\n",
    "    afw_display.setMaskTransparency(90)\n",
    "    afw_display.mtv(exposure.getMaskedImage())\n",
    "    \n",
    "    maskPlaneDict = exposure.getMask().getMaskPlaneDict()\n",
    "    maskKeyColorList = []\n",
    "    for k in maskPlaneDict.keys():\n",
    "        if afw_display.getMaskPlaneColor(k) is not None:\n",
    "            maskKeyColorList.append(k + \":\" + afw_display.getMaskPlaneColor(k))\n",
    "    print(maskKeyColorList)\n",
    "    plt.title(title)"
   ]
  },
  {
   "cell_type": "code",
   "execution_count": 3,
   "id": "b85fb5b6-6567-4cb5-b860-2b7ac47c5273",
   "metadata": {
    "execution": {
     "iopub.execute_input": "2024-09-09T19:55:57.713068Z",
     "iopub.status.busy": "2024-09-09T19:55:57.712850Z",
     "iopub.status.idle": "2024-09-09T19:55:58.325421Z",
     "shell.execute_reply": "2024-09-09T19:55:58.324992Z",
     "shell.execute_reply.started": "2024-09-09T19:55:57.713056Z"
    }
   },
   "outputs": [
    {
     "data": {
      "text/html": [
       "<pre style=\"margin: 0.1em;\n",
       "padding-left: 0.25em;\n",
       "border-left-style: solid;\n",
       "font-family: var(--jp-code-font-family);\n",
       "font-size: var(--jp-code-font-size);\n",
       "line-height: var(--jp-code-line-height);\n",
       "\"><span style=\"color: var(--jp-warn-color2)\">botocore.credentials</span> <span style=\"color: var(--jp-info-color0)\">INFO</span>: Found credentials in shared credentials file: /home/y/youtsumi/.lsst/aws-credentials.ini</pre>"
      ],
      "text/plain": [
       "<IPython.core.display.HTML object>"
      ]
     },
     "metadata": {},
     "output_type": "display_data"
    }
   ],
   "source": [
    "repo_path = \"embargo_new\"\n",
    "butler = Butler(repo_path,collections=['LSSTCam/photodiode','LSSTCam/raw/all'],instrument='LSSTCam')\n",
    "registry = butler.registry"
   ]
  },
  {
   "cell_type": "code",
   "execution_count": 4,
   "id": "37390fc5-3c5d-4772-bcb8-4a8ef6331ea4",
   "metadata": {
    "execution": {
     "iopub.execute_input": "2024-09-09T19:55:58.326357Z",
     "iopub.status.busy": "2024-09-09T19:55:58.326209Z",
     "iopub.status.idle": "2024-09-09T19:55:58.345462Z",
     "shell.execute_reply": "2024-09-09T19:55:58.345108Z",
     "shell.execute_reply.started": "2024-09-09T19:55:58.326344Z"
    }
   },
   "outputs": [
    {
     "data": {
      "text/plain": [
       "1"
      ]
     },
     "execution_count": 4,
     "metadata": {},
     "output_type": "execute_result"
    }
   ],
   "source": [
    "sensor=\"R01_S01\"\n",
    "detector=list(registry.queryDimensionRecords(\"detector\",instrument='LSSTCam',where=f\"detector.full_name='{sensor}'\"))[0].id\n",
    "detector"
   ]
  },
  {
   "cell_type": "code",
   "execution_count": 5,
   "id": "e23f9fa7-d0f2-4050-aa95-56033dc42f2b",
   "metadata": {
    "execution": {
     "iopub.execute_input": "2024-09-09T19:55:58.544371Z",
     "iopub.status.busy": "2024-09-09T19:55:58.544042Z",
     "iopub.status.idle": "2024-09-09T19:55:58.581750Z",
     "shell.execute_reply": "2024-09-09T19:55:58.581420Z",
     "shell.execute_reply.started": "2024-09-09T19:55:58.544357Z"
    }
   },
   "outputs": [
    {
     "data": {
      "text/plain": [
       "[exposure.RecordClass(instrument='LSSTCam', id=2024090900012, day_obs=20240909, group='2024090900012', physical_filter='unknown', obs_id='MC_C_20240909_000012', exposure_time=15.0, dark_time=15.0898, observation_type='dark', observation_reason='dark', seq_num=12, seq_start=12, seq_end=12, target_name='UNKNOWN', science_program='unknown', tracking_ra=None, tracking_dec=None, sky_angle=None, azimuth=None, zenith_angle=None, has_simulated=False, can_see_sky=False, timespan=Timespan(begin=astropy.time.Time('2024-09-09 18:03:14.441995', scale='tai', format='iso'), end=astropy.time.Time('2024-09-09 18:03:29.532000', scale='tai', format='iso')))]"
      ]
     },
     "execution_count": 5,
     "metadata": {},
     "output_type": "execute_result"
    }
   ],
   "source": [
    "dataid=list(registry.queryDimensionRecords('exposure',where=\"day_obs = 20240909\"))[:10]\n",
    "\n",
    "dataid=list(registry.queryDimensionRecords('exposure',where=\"exposure.obs_id = 'MC_C_20240909_000012'\"))[:10]\n",
    "dataid"
   ]
  },
  {
   "cell_type": "code",
   "execution_count": 6,
   "id": "626d83d4-d5f4-47dc-93df-5839bc8e38bb",
   "metadata": {
    "execution": {
     "iopub.execute_input": "2024-09-09T19:56:09.903277Z",
     "iopub.status.busy": "2024-09-09T19:56:09.903019Z",
     "iopub.status.idle": "2024-09-09T19:56:19.962966Z",
     "shell.execute_reply": "2024-09-09T19:56:19.962475Z",
     "shell.execute_reply.started": "2024-09-09T19:56:09.903263Z"
    }
   },
   "outputs": [
    {
     "name": "stdout",
     "output_type": "stream",
     "text": [
      "{instrument: 'LSSTCam', exposure: 2024090900012}\n"
     ]
    },
    {
     "name": "stderr",
     "output_type": "stream",
     "text": [
      "<frozen _collections_abc>:860: FutureWarning: Call to deprecated method __iter__. (Using DataCoordinate as a Mapping is deprecated in favor of the .mapping and .required attributes, and will be dropped after v27.) -- Deprecated since version v27.\n",
      "/opt/lsst/software/stack/stack/miniconda3-py38_4.9.2-8.0.0/Linux64/daf_butler/gb745877958+0176e2a6b4/python/lsst/daf/butler/dimensions/_coordinate.py:548: FutureWarning: Call to deprecated method keys. (Using DataCoordinate as a Mapping is deprecated in favor of the .mapping and .required attributes, and will be dropped after v27.) -- Deprecated since version v27.\n",
      "  return iter(self.keys())\n",
      "/opt/lsst/software/stack/stack/miniconda3-py38_4.9.2-8.0.0/Linux64/daf_butler/gb745877958+0176e2a6b4/python/lsst/daf/butler/dimensions/_coordinate.py:568: FutureWarning: Call to deprecated function (or staticmethod) graph. (DataCoordinate.graph is deprecated in favor of .dimensions, and will be dropped after v27.) -- Deprecated since version v27.\n",
      "  return self.graph.required\n",
      "/opt/lsst/software/stack/conda/miniconda3-py38_4.9.2/envs/lsst-scipipe-8.0.0/lib/python3.11/site-packages/deprecated/classic.py:285: FutureWarning: DimensionGraph is deprecated in favor of\n",
      "DimensionGroup, which uses sets of str names instead of NamedValueAbstractSets\n",
      "of Dimension or DimensionElement instances.  Support for the\n",
      "NamedValueAbstractSet interfaces on this object will be dropped after v27.\n",
      "In the future, iteration will yield str names; for now, use .names to do the same without triggering this warning.\n",
      "  return wrapped_(*args_, **kwargs_)\n",
      "/opt/lsst/software/stack/conda/miniconda3-py38_4.9.2/envs/lsst-scipipe-8.0.0/lib/python3.11/site-packages/IPython/core/interactiveshell.py:3577: FutureWarning: Using Dimension keys in DataCoordinate is deprecated and will not be supported after v27.\n",
      "  exec(code_obj, self.user_global_ns, self.user_ns)\n"
     ]
    },
    {
     "data": {
      "text/html": [
       "<pre style=\"margin: 0.1em;\n",
       "padding-left: 0.25em;\n",
       "border-left-style: solid;\n",
       "font-family: var(--jp-code-font-family);\n",
       "font-size: var(--jp-code-font-size);\n",
       "line-height: var(--jp-code-line-height);\n",
       "\"><span style=\"color: var(--jp-warn-color2)\">lsst.isr</span> <span style=\"color: var(--jp-info-color0)\">INFO</span>: Converting exposure to floating point values.</pre>"
      ],
      "text/plain": [
       "<IPython.core.display.HTML object>"
      ]
     },
     "metadata": {},
     "output_type": "display_data"
    },
    {
     "data": {
      "text/html": [
       "<pre style=\"margin: 0.1em;\n",
       "padding-left: 0.25em;\n",
       "border-left-style: solid;\n",
       "font-family: var(--jp-code-font-family);\n",
       "font-size: var(--jp-code-font-size);\n",
       "line-height: var(--jp-code-line-height);\n",
       "\"><span style=\"color: var(--jp-warn-color2)\">lsst.isr</span> <span style=\"color: var(--jp-info-color0)\">INFO</span>: Det: R01_S01 - Noise provenance: amp, Gain provenance: amp</pre>"
      ],
      "text/plain": [
       "<IPython.core.display.HTML object>"
      ]
     },
     "metadata": {},
     "output_type": "display_data"
    },
    {
     "data": {
      "text/html": [
       "<pre style=\"margin: 0.1em;\n",
       "padding-left: 0.25em;\n",
       "border-left-style: solid;\n",
       "font-family: var(--jp-code-font-family);\n",
       "font-size: var(--jp-code-font-size);\n",
       "line-height: var(--jp-code-line-height);\n",
       "\"><span style=\"color: var(--jp-warn-color2)\">lsst.isr</span> <span style=\"color: var(--jp-info-color0)\">INFO</span>: Assembling CCD from amplifiers.</pre>"
      ],
      "text/plain": [
       "<IPython.core.display.HTML object>"
      ]
     },
     "metadata": {},
     "output_type": "display_data"
    },
    {
     "data": {
      "text/html": [
       "<pre style=\"margin: 0.1em;\n",
       "padding-left: 0.25em;\n",
       "border-left-style: solid;\n",
       "font-family: var(--jp-code-font-family);\n",
       "font-size: var(--jp-code-font-size);\n",
       "line-height: var(--jp-code-line-height);\n",
       "\"><span style=\"color: var(--jp-warn-color2)\">lsst.isr</span> <span style=\"color: var(--jp-warn-color0)\">WARNING</span>: No WCS found in input exposure.</pre>"
      ],
      "text/plain": [
       "<IPython.core.display.HTML object>"
      ]
     },
     "metadata": {},
     "output_type": "display_data"
    },
    {
     "data": {
      "text/html": [
       "<pre style=\"margin: 0.1em;\n",
       "padding-left: 0.25em;\n",
       "border-left-style: solid;\n",
       "font-family: var(--jp-code-font-family);\n",
       "font-size: var(--jp-code-font-size);\n",
       "line-height: var(--jp-code-line-height);\n",
       "\"><span style=\"color: var(--jp-warn-color2)\">lsst.isr</span> <span style=\"color: var(--jp-info-color0)\">INFO</span>: Masking non-finite (NAN, inf) value pixels.</pre>"
      ],
      "text/plain": [
       "<IPython.core.display.HTML object>"
      ]
     },
     "metadata": {},
     "output_type": "display_data"
    },
    {
     "data": {
      "text/html": [
       "<pre style=\"margin: 0.1em;\n",
       "padding-left: 0.25em;\n",
       "border-left-style: solid;\n",
       "font-family: var(--jp-code-font-family);\n",
       "font-size: var(--jp-code-font-size);\n",
       "line-height: var(--jp-code-line-height);\n",
       "\"><span style=\"color: var(--jp-warn-color2)\">lsst.isr</span> <span style=\"color: var(--jp-info-color0)\">INFO</span>: Widening saturation trails.</pre>"
      ],
      "text/plain": [
       "<IPython.core.display.HTML object>"
      ]
     },
     "metadata": {},
     "output_type": "display_data"
    },
    {
     "data": {
      "text/html": [
       "<pre style=\"margin: 0.1em;\n",
       "padding-left: 0.25em;\n",
       "border-left-style: solid;\n",
       "font-family: var(--jp-code-font-family);\n",
       "font-size: var(--jp-code-font-size);\n",
       "line-height: var(--jp-code-line-height);\n",
       "\"><span style=\"color: var(--jp-warn-color2)\">lsst.isr</span> <span style=\"color: var(--jp-info-color0)\">INFO</span>: Applying fringe correction after flat.</pre>"
      ],
      "text/plain": [
       "<IPython.core.display.HTML object>"
      ]
     },
     "metadata": {},
     "output_type": "display_data"
    },
    {
     "data": {
      "text/html": [
       "<pre style=\"margin: 0.1em;\n",
       "padding-left: 0.25em;\n",
       "border-left-style: solid;\n",
       "font-family: var(--jp-code-font-family);\n",
       "font-size: var(--jp-code-font-size);\n",
       "line-height: var(--jp-code-line-height);\n",
       "\"><span style=\"color: var(--jp-warn-color2)\">lsst.isr.fringe</span> <span style=\"color: var(--jp-info-color0)\">INFO</span>: Filter not found in FringeTaskConfig.filters. Skipping fringe correction.</pre>"
      ],
      "text/plain": [
       "<IPython.core.display.HTML object>"
      ]
     },
     "metadata": {},
     "output_type": "display_data"
    },
    {
     "data": {
      "text/html": [
       "<pre style=\"margin: 0.1em;\n",
       "padding-left: 0.25em;\n",
       "border-left-style: solid;\n",
       "font-family: var(--jp-code-font-family);\n",
       "font-size: var(--jp-code-font-size);\n",
       "line-height: var(--jp-code-line-height);\n",
       "\"><span style=\"color: var(--jp-warn-color2)\">lsst.isr</span> <span style=\"color: var(--jp-info-color0)\">INFO</span>: Interpolating masked pixels.</pre>"
      ],
      "text/plain": [
       "<IPython.core.display.HTML object>"
      ]
     },
     "metadata": {},
     "output_type": "display_data"
    },
    {
     "data": {
      "text/html": [
       "<pre style=\"margin: 0.1em;\n",
       "padding-left: 0.25em;\n",
       "border-left-style: solid;\n",
       "font-family: var(--jp-code-font-family);\n",
       "font-size: var(--jp-code-font-size);\n",
       "line-height: var(--jp-code-line-height);\n",
       "\"><span style=\"color: var(--jp-warn-color2)\">lsst.isr</span> <span style=\"color: var(--jp-warn-color0)\">WARNING</span>: No rough magnitude zero point defined for filter unknown.</pre>"
      ],
      "text/plain": [
       "<IPython.core.display.HTML object>"
      ]
     },
     "metadata": {},
     "output_type": "display_data"
    },
    {
     "data": {
      "text/html": [
       "<pre style=\"margin: 0.1em;\n",
       "padding-left: 0.25em;\n",
       "border-left-style: solid;\n",
       "font-family: var(--jp-code-font-family);\n",
       "font-size: var(--jp-code-font-size);\n",
       "line-height: var(--jp-code-line-height);\n",
       "\"><span style=\"color: var(--jp-warn-color2)\">lsst.isr</span> <span style=\"color: var(--jp-info-color0)\">INFO</span>: Setting rough magnitude zero point for filter unknown: 30.940228</pre>"
      ],
      "text/plain": [
       "<IPython.core.display.HTML object>"
      ]
     },
     "metadata": {},
     "output_type": "display_data"
    },
    {
     "name": "stdout",
     "output_type": "stream",
     "text": [
      "{instrument: 'LSSTCam', exposure: 2024090900018}\n"
     ]
    },
    {
     "name": "stderr",
     "output_type": "stream",
     "text": [
      "<frozen _collections_abc>:860: FutureWarning: Call to deprecated method __iter__. (Using DataCoordinate as a Mapping is deprecated in favor of the .mapping and .required attributes, and will be dropped after v27.) -- Deprecated since version v27.\n",
      "/opt/lsst/software/stack/stack/miniconda3-py38_4.9.2-8.0.0/Linux64/daf_butler/gb745877958+0176e2a6b4/python/lsst/daf/butler/dimensions/_coordinate.py:548: FutureWarning: Call to deprecated method keys. (Using DataCoordinate as a Mapping is deprecated in favor of the .mapping and .required attributes, and will be dropped after v27.) -- Deprecated since version v27.\n",
      "  return iter(self.keys())\n",
      "/opt/lsst/software/stack/stack/miniconda3-py38_4.9.2-8.0.0/Linux64/daf_butler/gb745877958+0176e2a6b4/python/lsst/daf/butler/dimensions/_coordinate.py:568: FutureWarning: Call to deprecated function (or staticmethod) graph. (DataCoordinate.graph is deprecated in favor of .dimensions, and will be dropped after v27.) -- Deprecated since version v27.\n",
      "  return self.graph.required\n",
      "/opt/lsst/software/stack/conda/miniconda3-py38_4.9.2/envs/lsst-scipipe-8.0.0/lib/python3.11/site-packages/deprecated/classic.py:285: FutureWarning: DimensionGraph is deprecated in favor of\n",
      "DimensionGroup, which uses sets of str names instead of NamedValueAbstractSets\n",
      "of Dimension or DimensionElement instances.  Support for the\n",
      "NamedValueAbstractSet interfaces on this object will be dropped after v27.\n",
      "In the future, iteration will yield str names; for now, use .names to do the same without triggering this warning.\n",
      "  return wrapped_(*args_, **kwargs_)\n",
      "/opt/lsst/software/stack/conda/miniconda3-py38_4.9.2/envs/lsst-scipipe-8.0.0/lib/python3.11/site-packages/IPython/core/interactiveshell.py:3577: FutureWarning: Using Dimension keys in DataCoordinate is deprecated and will not be supported after v27.\n",
      "  exec(code_obj, self.user_global_ns, self.user_ns)\n"
     ]
    },
    {
     "data": {
      "text/html": [
       "<pre style=\"margin: 0.1em;\n",
       "padding-left: 0.25em;\n",
       "border-left-style: solid;\n",
       "font-family: var(--jp-code-font-family);\n",
       "font-size: var(--jp-code-font-size);\n",
       "line-height: var(--jp-code-line-height);\n",
       "\"><span style=\"color: var(--jp-warn-color2)\">lsst.isr</span> <span style=\"color: var(--jp-info-color0)\">INFO</span>: Converting exposure to floating point values.</pre>"
      ],
      "text/plain": [
       "<IPython.core.display.HTML object>"
      ]
     },
     "metadata": {},
     "output_type": "display_data"
    },
    {
     "data": {
      "text/html": [
       "<pre style=\"margin: 0.1em;\n",
       "padding-left: 0.25em;\n",
       "border-left-style: solid;\n",
       "font-family: var(--jp-code-font-family);\n",
       "font-size: var(--jp-code-font-size);\n",
       "line-height: var(--jp-code-line-height);\n",
       "\"><span style=\"color: var(--jp-warn-color2)\">lsst.isr</span> <span style=\"color: var(--jp-info-color0)\">INFO</span>: Det: R01_S01 - Noise provenance: amp, Gain provenance: amp</pre>"
      ],
      "text/plain": [
       "<IPython.core.display.HTML object>"
      ]
     },
     "metadata": {},
     "output_type": "display_data"
    },
    {
     "data": {
      "text/html": [
       "<pre style=\"margin: 0.1em;\n",
       "padding-left: 0.25em;\n",
       "border-left-style: solid;\n",
       "font-family: var(--jp-code-font-family);\n",
       "font-size: var(--jp-code-font-size);\n",
       "line-height: var(--jp-code-line-height);\n",
       "\"><span style=\"color: var(--jp-warn-color2)\">lsst.isr</span> <span style=\"color: var(--jp-info-color0)\">INFO</span>: Assembling CCD from amplifiers.</pre>"
      ],
      "text/plain": [
       "<IPython.core.display.HTML object>"
      ]
     },
     "metadata": {},
     "output_type": "display_data"
    },
    {
     "data": {
      "text/html": [
       "<pre style=\"margin: 0.1em;\n",
       "padding-left: 0.25em;\n",
       "border-left-style: solid;\n",
       "font-family: var(--jp-code-font-family);\n",
       "font-size: var(--jp-code-font-size);\n",
       "line-height: var(--jp-code-line-height);\n",
       "\"><span style=\"color: var(--jp-warn-color2)\">lsst.isr</span> <span style=\"color: var(--jp-warn-color0)\">WARNING</span>: No WCS found in input exposure.</pre>"
      ],
      "text/plain": [
       "<IPython.core.display.HTML object>"
      ]
     },
     "metadata": {},
     "output_type": "display_data"
    },
    {
     "data": {
      "text/html": [
       "<pre style=\"margin: 0.1em;\n",
       "padding-left: 0.25em;\n",
       "border-left-style: solid;\n",
       "font-family: var(--jp-code-font-family);\n",
       "font-size: var(--jp-code-font-size);\n",
       "line-height: var(--jp-code-line-height);\n",
       "\"><span style=\"color: var(--jp-warn-color2)\">lsst.isr</span> <span style=\"color: var(--jp-info-color0)\">INFO</span>: Masking non-finite (NAN, inf) value pixels.</pre>"
      ],
      "text/plain": [
       "<IPython.core.display.HTML object>"
      ]
     },
     "metadata": {},
     "output_type": "display_data"
    },
    {
     "data": {
      "text/html": [
       "<pre style=\"margin: 0.1em;\n",
       "padding-left: 0.25em;\n",
       "border-left-style: solid;\n",
       "font-family: var(--jp-code-font-family);\n",
       "font-size: var(--jp-code-font-size);\n",
       "line-height: var(--jp-code-line-height);\n",
       "\"><span style=\"color: var(--jp-warn-color2)\">lsst.isr</span> <span style=\"color: var(--jp-info-color0)\">INFO</span>: Widening saturation trails.</pre>"
      ],
      "text/plain": [
       "<IPython.core.display.HTML object>"
      ]
     },
     "metadata": {},
     "output_type": "display_data"
    },
    {
     "data": {
      "text/html": [
       "<pre style=\"margin: 0.1em;\n",
       "padding-left: 0.25em;\n",
       "border-left-style: solid;\n",
       "font-family: var(--jp-code-font-family);\n",
       "font-size: var(--jp-code-font-size);\n",
       "line-height: var(--jp-code-line-height);\n",
       "\"><span style=\"color: var(--jp-warn-color2)\">lsst.isr</span> <span style=\"color: var(--jp-info-color0)\">INFO</span>: Applying fringe correction after flat.</pre>"
      ],
      "text/plain": [
       "<IPython.core.display.HTML object>"
      ]
     },
     "metadata": {},
     "output_type": "display_data"
    },
    {
     "data": {
      "text/html": [
       "<pre style=\"margin: 0.1em;\n",
       "padding-left: 0.25em;\n",
       "border-left-style: solid;\n",
       "font-family: var(--jp-code-font-family);\n",
       "font-size: var(--jp-code-font-size);\n",
       "line-height: var(--jp-code-line-height);\n",
       "\"><span style=\"color: var(--jp-warn-color2)\">lsst.isr.fringe</span> <span style=\"color: var(--jp-info-color0)\">INFO</span>: Filter not found in FringeTaskConfig.filters. Skipping fringe correction.</pre>"
      ],
      "text/plain": [
       "<IPython.core.display.HTML object>"
      ]
     },
     "metadata": {},
     "output_type": "display_data"
    },
    {
     "data": {
      "text/html": [
       "<pre style=\"margin: 0.1em;\n",
       "padding-left: 0.25em;\n",
       "border-left-style: solid;\n",
       "font-family: var(--jp-code-font-family);\n",
       "font-size: var(--jp-code-font-size);\n",
       "line-height: var(--jp-code-line-height);\n",
       "\"><span style=\"color: var(--jp-warn-color2)\">lsst.isr</span> <span style=\"color: var(--jp-info-color0)\">INFO</span>: Interpolating masked pixels.</pre>"
      ],
      "text/plain": [
       "<IPython.core.display.HTML object>"
      ]
     },
     "metadata": {},
     "output_type": "display_data"
    },
    {
     "data": {
      "text/html": [
       "<pre style=\"margin: 0.1em;\n",
       "padding-left: 0.25em;\n",
       "border-left-style: solid;\n",
       "font-family: var(--jp-code-font-family);\n",
       "font-size: var(--jp-code-font-size);\n",
       "line-height: var(--jp-code-line-height);\n",
       "\"><span style=\"color: var(--jp-warn-color2)\">lsst.isr</span> <span style=\"color: var(--jp-warn-color0)\">WARNING</span>: No rough magnitude zero point defined for filter unknown.</pre>"
      ],
      "text/plain": [
       "<IPython.core.display.HTML object>"
      ]
     },
     "metadata": {},
     "output_type": "display_data"
    },
    {
     "data": {
      "text/html": [
       "<pre style=\"margin: 0.1em;\n",
       "padding-left: 0.25em;\n",
       "border-left-style: solid;\n",
       "font-family: var(--jp-code-font-family);\n",
       "font-size: var(--jp-code-font-size);\n",
       "line-height: var(--jp-code-line-height);\n",
       "\"><span style=\"color: var(--jp-warn-color2)\">lsst.isr</span> <span style=\"color: var(--jp-info-color0)\">INFO</span>: Setting rough magnitude zero point for filter unknown: 30.940228</pre>"
      ],
      "text/plain": [
       "<IPython.core.display.HTML object>"
      ]
     },
     "metadata": {},
     "output_type": "display_data"
    },
    {
     "name": "stdout",
     "output_type": "stream",
     "text": [
      "{instrument: 'LSSTCam', exposure: 2024090900031}\n"
     ]
    },
    {
     "name": "stderr",
     "output_type": "stream",
     "text": [
      "<frozen _collections_abc>:860: FutureWarning: Call to deprecated method __iter__. (Using DataCoordinate as a Mapping is deprecated in favor of the .mapping and .required attributes, and will be dropped after v27.) -- Deprecated since version v27.\n",
      "/opt/lsst/software/stack/stack/miniconda3-py38_4.9.2-8.0.0/Linux64/daf_butler/gb745877958+0176e2a6b4/python/lsst/daf/butler/dimensions/_coordinate.py:548: FutureWarning: Call to deprecated method keys. (Using DataCoordinate as a Mapping is deprecated in favor of the .mapping and .required attributes, and will be dropped after v27.) -- Deprecated since version v27.\n",
      "  return iter(self.keys())\n",
      "/opt/lsst/software/stack/stack/miniconda3-py38_4.9.2-8.0.0/Linux64/daf_butler/gb745877958+0176e2a6b4/python/lsst/daf/butler/dimensions/_coordinate.py:568: FutureWarning: Call to deprecated function (or staticmethod) graph. (DataCoordinate.graph is deprecated in favor of .dimensions, and will be dropped after v27.) -- Deprecated since version v27.\n",
      "  return self.graph.required\n",
      "/opt/lsst/software/stack/conda/miniconda3-py38_4.9.2/envs/lsst-scipipe-8.0.0/lib/python3.11/site-packages/deprecated/classic.py:285: FutureWarning: DimensionGraph is deprecated in favor of\n",
      "DimensionGroup, which uses sets of str names instead of NamedValueAbstractSets\n",
      "of Dimension or DimensionElement instances.  Support for the\n",
      "NamedValueAbstractSet interfaces on this object will be dropped after v27.\n",
      "In the future, iteration will yield str names; for now, use .names to do the same without triggering this warning.\n",
      "  return wrapped_(*args_, **kwargs_)\n",
      "/opt/lsst/software/stack/conda/miniconda3-py38_4.9.2/envs/lsst-scipipe-8.0.0/lib/python3.11/site-packages/IPython/core/interactiveshell.py:3577: FutureWarning: Using Dimension keys in DataCoordinate is deprecated and will not be supported after v27.\n",
      "  exec(code_obj, self.user_global_ns, self.user_ns)\n"
     ]
    },
    {
     "data": {
      "text/html": [
       "<pre style=\"margin: 0.1em;\n",
       "padding-left: 0.25em;\n",
       "border-left-style: solid;\n",
       "font-family: var(--jp-code-font-family);\n",
       "font-size: var(--jp-code-font-size);\n",
       "line-height: var(--jp-code-line-height);\n",
       "\"><span style=\"color: var(--jp-warn-color2)\">lsst.isr</span> <span style=\"color: var(--jp-info-color0)\">INFO</span>: Converting exposure to floating point values.</pre>"
      ],
      "text/plain": [
       "<IPython.core.display.HTML object>"
      ]
     },
     "metadata": {},
     "output_type": "display_data"
    },
    {
     "data": {
      "text/html": [
       "<pre style=\"margin: 0.1em;\n",
       "padding-left: 0.25em;\n",
       "border-left-style: solid;\n",
       "font-family: var(--jp-code-font-family);\n",
       "font-size: var(--jp-code-font-size);\n",
       "line-height: var(--jp-code-line-height);\n",
       "\"><span style=\"color: var(--jp-warn-color2)\">lsst.isr</span> <span style=\"color: var(--jp-info-color0)\">INFO</span>: Det: R01_S01 - Noise provenance: amp, Gain provenance: amp</pre>"
      ],
      "text/plain": [
       "<IPython.core.display.HTML object>"
      ]
     },
     "metadata": {},
     "output_type": "display_data"
    },
    {
     "data": {
      "text/html": [
       "<pre style=\"margin: 0.1em;\n",
       "padding-left: 0.25em;\n",
       "border-left-style: solid;\n",
       "font-family: var(--jp-code-font-family);\n",
       "font-size: var(--jp-code-font-size);\n",
       "line-height: var(--jp-code-line-height);\n",
       "\"><span style=\"color: var(--jp-warn-color2)\">lsst.isr</span> <span style=\"color: var(--jp-info-color0)\">INFO</span>: Assembling CCD from amplifiers.</pre>"
      ],
      "text/plain": [
       "<IPython.core.display.HTML object>"
      ]
     },
     "metadata": {},
     "output_type": "display_data"
    },
    {
     "data": {
      "text/html": [
       "<pre style=\"margin: 0.1em;\n",
       "padding-left: 0.25em;\n",
       "border-left-style: solid;\n",
       "font-family: var(--jp-code-font-family);\n",
       "font-size: var(--jp-code-font-size);\n",
       "line-height: var(--jp-code-line-height);\n",
       "\"><span style=\"color: var(--jp-warn-color2)\">lsst.isr</span> <span style=\"color: var(--jp-warn-color0)\">WARNING</span>: No WCS found in input exposure.</pre>"
      ],
      "text/plain": [
       "<IPython.core.display.HTML object>"
      ]
     },
     "metadata": {},
     "output_type": "display_data"
    },
    {
     "data": {
      "text/html": [
       "<pre style=\"margin: 0.1em;\n",
       "padding-left: 0.25em;\n",
       "border-left-style: solid;\n",
       "font-family: var(--jp-code-font-family);\n",
       "font-size: var(--jp-code-font-size);\n",
       "line-height: var(--jp-code-line-height);\n",
       "\"><span style=\"color: var(--jp-warn-color2)\">lsst.isr</span> <span style=\"color: var(--jp-info-color0)\">INFO</span>: Masking non-finite (NAN, inf) value pixels.</pre>"
      ],
      "text/plain": [
       "<IPython.core.display.HTML object>"
      ]
     },
     "metadata": {},
     "output_type": "display_data"
    },
    {
     "data": {
      "text/html": [
       "<pre style=\"margin: 0.1em;\n",
       "padding-left: 0.25em;\n",
       "border-left-style: solid;\n",
       "font-family: var(--jp-code-font-family);\n",
       "font-size: var(--jp-code-font-size);\n",
       "line-height: var(--jp-code-line-height);\n",
       "\"><span style=\"color: var(--jp-warn-color2)\">lsst.isr</span> <span style=\"color: var(--jp-info-color0)\">INFO</span>: Widening saturation trails.</pre>"
      ],
      "text/plain": [
       "<IPython.core.display.HTML object>"
      ]
     },
     "metadata": {},
     "output_type": "display_data"
    },
    {
     "data": {
      "text/html": [
       "<pre style=\"margin: 0.1em;\n",
       "padding-left: 0.25em;\n",
       "border-left-style: solid;\n",
       "font-family: var(--jp-code-font-family);\n",
       "font-size: var(--jp-code-font-size);\n",
       "line-height: var(--jp-code-line-height);\n",
       "\"><span style=\"color: var(--jp-warn-color2)\">lsst.isr</span> <span style=\"color: var(--jp-info-color0)\">INFO</span>: Applying fringe correction after flat.</pre>"
      ],
      "text/plain": [
       "<IPython.core.display.HTML object>"
      ]
     },
     "metadata": {},
     "output_type": "display_data"
    },
    {
     "data": {
      "text/html": [
       "<pre style=\"margin: 0.1em;\n",
       "padding-left: 0.25em;\n",
       "border-left-style: solid;\n",
       "font-family: var(--jp-code-font-family);\n",
       "font-size: var(--jp-code-font-size);\n",
       "line-height: var(--jp-code-line-height);\n",
       "\"><span style=\"color: var(--jp-warn-color2)\">lsst.isr.fringe</span> <span style=\"color: var(--jp-info-color0)\">INFO</span>: Filter not found in FringeTaskConfig.filters. Skipping fringe correction.</pre>"
      ],
      "text/plain": [
       "<IPython.core.display.HTML object>"
      ]
     },
     "metadata": {},
     "output_type": "display_data"
    },
    {
     "data": {
      "text/html": [
       "<pre style=\"margin: 0.1em;\n",
       "padding-left: 0.25em;\n",
       "border-left-style: solid;\n",
       "font-family: var(--jp-code-font-family);\n",
       "font-size: var(--jp-code-font-size);\n",
       "line-height: var(--jp-code-line-height);\n",
       "\"><span style=\"color: var(--jp-warn-color2)\">lsst.isr</span> <span style=\"color: var(--jp-info-color0)\">INFO</span>: Interpolating masked pixels.</pre>"
      ],
      "text/plain": [
       "<IPython.core.display.HTML object>"
      ]
     },
     "metadata": {},
     "output_type": "display_data"
    },
    {
     "data": {
      "text/html": [
       "<pre style=\"margin: 0.1em;\n",
       "padding-left: 0.25em;\n",
       "border-left-style: solid;\n",
       "font-family: var(--jp-code-font-family);\n",
       "font-size: var(--jp-code-font-size);\n",
       "line-height: var(--jp-code-line-height);\n",
       "\"><span style=\"color: var(--jp-warn-color2)\">lsst.isr</span> <span style=\"color: var(--jp-warn-color0)\">WARNING</span>: No rough magnitude zero point defined for filter unknown.</pre>"
      ],
      "text/plain": [
       "<IPython.core.display.HTML object>"
      ]
     },
     "metadata": {},
     "output_type": "display_data"
    },
    {
     "data": {
      "text/html": [
       "<pre style=\"margin: 0.1em;\n",
       "padding-left: 0.25em;\n",
       "border-left-style: solid;\n",
       "font-family: var(--jp-code-font-family);\n",
       "font-size: var(--jp-code-font-size);\n",
       "line-height: var(--jp-code-line-height);\n",
       "\"><span style=\"color: var(--jp-warn-color2)\">lsst.isr</span> <span style=\"color: var(--jp-info-color0)\">INFO</span>: Setting rough magnitude zero point for filter unknown: 30.940228</pre>"
      ],
      "text/plain": [
       "<IPython.core.display.HTML object>"
      ]
     },
     "metadata": {},
     "output_type": "display_data"
    }
   ],
   "source": [
    "table = []\n",
    "for dataid in list(registry.queryDimensionRecords('exposure',where=\"day_obs = 20240909 and exposure.observation_type != 'bias' and exposure.exposure_time = 15.\" )):\n",
    "    print(dataid.dataId)\n",
    "    try:\n",
    "        img = butler.get('raw',dataId=dataid.dataId,detector=detector)\n",
    "    \n",
    "        isr=IsrTask()\n",
    "        isr.config.doBias=False\n",
    "        isr.config.doLinearize=False\n",
    "        isr.config.doDark=False\n",
    "        isr.config.doFlat=False\n",
    "        isr.config.doDefect=False\n",
    "    \n",
    "        isred = isr.run(img)\n",
    "    \n",
    "        table.append({ 'obs_id': dataid.obs_id, \n",
    "                    'observation_type': dataid.observation_type,\n",
    "                    'exptime': dataid.exposure_time,                      \n",
    "                 'meancount/sec': numpy.mean(isred.exposure.getImage().array/img.metadata['EXPTIME'])\n",
    "                })\n",
    "    except:\n",
    "        pass\n",
    "\n"
   ]
  },
  {
   "cell_type": "code",
   "execution_count": 9,
   "id": "3be85f2f-c624-440e-a3c7-2540370a7254",
   "metadata": {
    "execution": {
     "iopub.execute_input": "2024-09-09T19:56:37.917997Z",
     "iopub.status.busy": "2024-09-09T19:56:37.917674Z",
     "iopub.status.idle": "2024-09-09T19:56:37.921318Z",
     "shell.execute_reply": "2024-09-09T19:56:37.920925Z",
     "shell.execute_reply.started": "2024-09-09T19:56:37.917982Z"
    }
   },
   "outputs": [],
   "source": [
    "comment=Table(\n",
    "    [\n",
    "    { \"obs_id\": 'MC_C_20240909_000012', \"comment\": \"room light off & shutter closed\" },\n",
    "    { \"obs_id\": 'MC_C_20240909_000018', \"comment\": \"room light on & shutter closed\" },\n",
    "    { \"obs_id\": 'MC_C_20240909_000031', \"comment\": \"room light on & shutter opened\" }\n",
    "    ]\n",
    ")\n"
   ]
  },
  {
   "cell_type": "code",
   "execution_count": 11,
   "id": "a5673d49-1891-4ea2-bf14-019b56c5a9ae",
   "metadata": {
    "execution": {
     "iopub.execute_input": "2024-09-09T19:56:47.087562Z",
     "iopub.status.busy": "2024-09-09T19:56:47.087250Z",
     "iopub.status.idle": "2024-09-09T19:56:47.092917Z",
     "shell.execute_reply": "2024-09-09T19:56:47.092473Z",
     "shell.execute_reply.started": "2024-09-09T19:56:47.087548Z"
    }
   },
   "outputs": [
    {
     "data": {
      "text/html": [
       "<div><i>Table length=3</i>\n",
       "<table id=\"table140505625275088\" class=\"table-striped table-bordered table-condensed\">\n",
       "<thead><tr><th>obs_id</th><th>observation_type</th><th>exptime</th><th>meancount/sec</th><th>comment</th></tr></thead>\n",
       "<thead><tr><th>str20</th><th>str4</th><th>float64</th><th>float32</th><th>str31</th></tr></thead>\n",
       "<tr><td>MC_C_20240909_000012</td><td>dark</td><td>15.0</td><td>0.15762188</td><td>room light off &amp; shutter closed</td></tr>\n",
       "<tr><td>MC_C_20240909_000018</td><td>dark</td><td>15.0</td><td>0.1580315</td><td>room light on &amp; shutter closed</td></tr>\n",
       "<tr><td>MC_C_20240909_000031</td><td>dark</td><td>15.0</td><td>0.26848328</td><td>room light on &amp; shutter opened</td></tr>\n",
       "</table></div>"
      ],
      "text/plain": [
       "<Table length=3>\n",
       "       obs_id        observation_type ...             comment            \n",
       "       str20               str4       ...              str31             \n",
       "-------------------- ---------------- ... -------------------------------\n",
       "MC_C_20240909_000012             dark ... room light off & shutter closed\n",
       "MC_C_20240909_000018             dark ...  room light on & shutter closed\n",
       "MC_C_20240909_000031             dark ...  room light on & shutter opened"
      ]
     },
     "execution_count": 11,
     "metadata": {},
     "output_type": "execute_result"
    }
   ],
   "source": [
    "join(Table(sorted(table,key=lambda x: x[\"obs_id\"])),comment)"
   ]
  },
  {
   "cell_type": "code",
   "execution_count": null,
   "id": "c2b1c890-c160-4eb5-8587-ef0f112ad31f",
   "metadata": {},
   "outputs": [],
   "source": []
  }
 ],
 "metadata": {
  "kernelspec": {
   "display_name": "LSST",
   "language": "python",
   "name": "lsst"
  },
  "language_info": {
   "codemirror_mode": {
    "name": "ipython",
    "version": 3
   },
   "file_extension": ".py",
   "mimetype": "text/x-python",
   "name": "python",
   "nbconvert_exporter": "python",
   "pygments_lexer": "ipython3",
   "version": "3.11.7"
  }
 },
 "nbformat": 4,
 "nbformat_minor": 5
}
