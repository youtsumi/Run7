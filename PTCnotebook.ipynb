{
 "cells": [
  {
   "cell_type": "code",
   "execution_count": 1,
   "id": "e8f36756-e75d-431b-8fc6-94dc9930ac3d",
   "metadata": {
    "execution": {
     "iopub.execute_input": "2024-10-07T19:25:25.838888Z",
     "iopub.status.busy": "2024-10-07T19:25:25.838484Z",
     "iopub.status.idle": "2024-10-07T19:25:31.773701Z",
     "shell.execute_reply": "2024-10-07T19:25:31.773263Z",
     "shell.execute_reply.started": "2024-10-07T19:25:25.838872Z"
    }
   },
   "outputs": [],
   "source": [
    "import numpy as np\n",
    "import matplotlib.pyplot as plt\n",
    "import astropy.io.fits as pf\n",
    "from lsst.daf.butler import Butler\n",
    "from lsst.ip.isr import IsrTask, IsrTaskConfig\n",
    "from lsst.summit.utils.plotting import plot\n",
    "import lsst.afw.cameraGeom.utils as camGeomUtils\n",
    "import lsst.afw.math as afwMath\n",
    "import lsst.afw.display as afwDisplay"
   ]
  },
  {
   "cell_type": "code",
   "execution_count": 2,
   "id": "c0229f73-6693-4283-a65e-349b25c9e20d",
   "metadata": {
    "execution": {
     "iopub.execute_input": "2024-10-07T19:25:31.774920Z",
     "iopub.status.busy": "2024-10-07T19:25:31.774368Z",
     "iopub.status.idle": "2024-10-07T19:25:32.148258Z",
     "shell.execute_reply": "2024-10-07T19:25:32.147804Z",
     "shell.execute_reply.started": "2024-10-07T19:25:31.774905Z"
    }
   },
   "outputs": [
    {
     "data": {
      "text/html": [
       "<pre style=\"margin: 0.1em;\n",
       "padding-left: 0.25em;\n",
       "border-left-style: solid;\n",
       "font-family: var(--jp-code-font-family);\n",
       "font-size: var(--jp-code-font-size);\n",
       "line-height: var(--jp-code-line-height);\n",
       "\"><span style=\"color: var(--jp-warn-color2)\">botocore.credentials</span> <span style=\"color: var(--jp-info-color0)\">INFO</span>: Found credentials in shared credentials file: /home/y/youtsumi/.lsst/aws-credentials.ini</pre>"
      ],
      "text/plain": [
       "<IPython.core.display.HTML object>"
      ]
     },
     "metadata": {},
     "output_type": "display_data"
    }
   ],
   "source": [
    "butler = Butler('embargo_new', collections=['LSSTCam/raw/all', 'LSSTCam/calib/unbounded'])"
   ]
  },
  {
   "cell_type": "code",
   "execution_count": 3,
   "id": "d65b7a8c-56c0-49b2-9cf9-fc653d3562cc",
   "metadata": {
    "execution": {
     "iopub.execute_input": "2024-10-07T19:26:28.883781Z",
     "iopub.status.busy": "2024-10-07T19:26:28.883506Z",
     "iopub.status.idle": "2024-10-07T19:26:28.996579Z",
     "shell.execute_reply": "2024-10-07T19:26:28.996178Z",
     "shell.execute_reply.started": "2024-10-07T19:26:28.883761Z"
    }
   },
   "outputs": [
    {
     "data": {
      "text/plain": [
       "['u/lsstccs/bias_E1146_w_2024_35/20240930T125026Z',\n",
       " 'u/lsstccs/dark_E1146_w_2024_35/20240930T131900Z',\n",
       " 'u/lsstccs/flat_E1146_w_2024_35/20240930T134029Z',\n",
       " 'u/lsstccs/defects_E1146_w_2024_35/20240930T135015Z',\n",
       " 'u/lsstccs/ptc_E1146_w_2024_35/20240930T140049Z',\n",
       " 'u/lsstccs/eo_read_noise_E1146_w_2024_35/20240930T144850Z',\n",
       " 'u/lsstccs/eo_dark_current_E1146_w_2024_35/20240930T145047Z',\n",
       " 'u/lsstccs/eo_eper_E1146_w_2024_35/20240930T145104Z',\n",
       " 'u/lsstccs/eo_ptc_plots_E1146_w_2024_35/20240930T145123Z',\n",
       " 'u/lsstccs/eo_linearity_plots_E1146_w_2024_35/20240930T145222Z',\n",
       " 'u/lsstccs/eo_bf_analysis_E1146_w_2024_35/20240930T145259Z',\n",
       " 'u/lsstccs/eo_raft_lambda_mosaics_E1146_w_2024_35/20240930T145202Z',\n",
       " 'u/lsstccs/eo_divisadero_tearing_E1146_w_2024_35/20240930T145243Z',\n",
       " 'u/lsstccs/eo_cti_vs_flux_E1146_w_2024_35/20240930T145316Z',\n",
       " 'u/lsstccs/eo_bright_defects_E1146_w_2024_35/20240930T144954Z',\n",
       " 'u/lsstccs/eo_persistence_E1146_w_2024_35/20240930T145339Z',\n",
       " 'u/lsstccs/eo_bias_shifts_E1146_w_2024_35/20240930T145406Z',\n",
       " 'u/lsstccs/eo_raft_amp_correlations_E1146_w_2024_35/20240930T144907Z',\n",
       " 'u/lsstccs/eo_bias_stability_E1146_w_2024_35/20240930T144928Z',\n",
       " 'u/lsstccs/eo_dark_defects_E1146_w_2024_35/20240930T145018Z',\n",
       " 'u/lsstccs/eo_raft_calib_mosaics_E1146_w_2024_35/20240930T145147Z',\n",
       " 'u/tguillem/run_6_validation/run_E1146_bias_cpBias_1D_20241004b/20241004T144935Z',\n",
       " 'u/tguillem/run_6_validation/run_E1146_dark15_cpBias_1D_20241004b/20241004T144402Z',\n",
       " 'u/tguillem/run_6_validation/run_E1146_bias_cpBias_1D_20241004b/20241004T144904Z',\n",
       " 'u/tguillem/run_6_validation/run_E1146_dark15_cpBias_1D_20241007b/20241007T131815Z',\n",
       " 'u/lsstccs/bias_E1146_w_2024_35',\n",
       " 'u/lsstccs/dark_E1146_w_2024_35',\n",
       " 'u/lsstccs/flat_E1146_w_2024_35',\n",
       " 'u/lsstccs/defects_E1146_w_2024_35',\n",
       " 'u/lsstccs/ptc_E1146_w_2024_35',\n",
       " 'u/lsstccs/eo_read_noise_E1146_w_2024_35',\n",
       " 'u/lsstccs/eo_dark_current_E1146_w_2024_35',\n",
       " 'u/lsstccs/eo_eper_E1146_w_2024_35',\n",
       " 'u/lsstccs/eo_ptc_plots_E1146_w_2024_35',\n",
       " 'u/lsstccs/eo_linearity_plots_E1146_w_2024_35',\n",
       " 'u/lsstccs/eo_bf_analysis_E1146_w_2024_35',\n",
       " 'u/lsstccs/eo_raft_lambda_mosaics_E1146_w_2024_35',\n",
       " 'u/lsstccs/eo_divisadero_tearing_E1146_w_2024_35',\n",
       " 'u/lsstccs/eo_cti_vs_flux_E1146_w_2024_35',\n",
       " 'u/lsstccs/eo_bright_defects_E1146_w_2024_35',\n",
       " 'u/lsstccs/eo_persistence_E1146_w_2024_35',\n",
       " 'u/lsstccs/eo_bias_shifts_E1146_w_2024_35',\n",
       " 'u/lsstccs/eo_raft_amp_correlations_E1146_w_2024_35',\n",
       " 'u/lsstccs/eo_bias_stability_E1146_w_2024_35',\n",
       " 'u/lsstccs/eo_dark_defects_E1146_w_2024_35',\n",
       " 'u/lsstccs/eo_raft_calib_mosaics_E1146_w_2024_35',\n",
       " 'u/tguillem/run_6_validation/run_E1146_bias_cpBias_1D_20241004b',\n",
       " 'u/tguillem/run_6_validation/run_E1146_dark15_cpBias_1D_20241004b',\n",
       " 'u/tguillem/run_6_validation/run_E1146_dark15_cpBias_1D_20241007b']"
      ]
     },
     "execution_count": 3,
     "metadata": {},
     "output_type": "execute_result"
    }
   ],
   "source": [
    "butler.registry.queryCollections('*E1146*')"
   ]
  },
  {
   "cell_type": "code",
   "execution_count": 8,
   "id": "31b0f294-c656-417e-9ce8-23fa09b14f25",
   "metadata": {
    "execution": {
     "iopub.execute_input": "2024-10-07T19:27:58.686576Z",
     "iopub.status.busy": "2024-10-07T19:27:58.686246Z",
     "iopub.status.idle": "2024-10-07T19:27:58.722296Z",
     "shell.execute_reply": "2024-10-07T19:27:58.721885Z",
     "shell.execute_reply.started": "2024-10-07T19:27:58.686561Z"
    }
   },
   "outputs": [],
   "source": [
    "E1113, # regular\n",
    "E1212, # 5%\n",
    "E1154, # non\n",
    "E1247 # half"
   ]
  },
  {
   "cell_type": "code",
   "execution_count": 19,
   "id": "427b7a87-f1a8-4e08-b3b4-44bc3d651d56",
   "metadata": {
    "execution": {
     "iopub.execute_input": "2024-10-07T19:33:08.296208Z",
     "iopub.status.busy": "2024-10-07T19:33:08.295877Z",
     "iopub.status.idle": "2024-10-07T19:33:08.663438Z",
     "shell.execute_reply": "2024-10-07T19:33:08.663075Z",
     "shell.execute_reply.started": "2024-10-07T19:33:08.296193Z"
    }
   },
   "outputs": [
    {
     "data": {
      "text/plain": [
       "<matplotlib.legend.Legend at 0x7ff5cab41fd0>"
      ]
     },
     "execution_count": 19,
     "metadata": {},
     "output_type": "execute_result"
    },
    {
     "data": {
      "image/png": "[encoded data removed]",
      "text/plain": [
       "<Figure size 640x480 with 1 Axes>"
      ]
     },
     "metadata": {},
     "output_type": "display_data"
    }
   ],
   "source": [
    "amp='C00'\n",
    "for run, name in [\n",
    "    ( 'E1113', 'regular'),\n",
    "    ( 'E1212', '5%'),\n",
    "    ( 'E1154', 'non'),        \n",
    "    ( 'E1247', 'half'),       \n",
    "    ]:\n",
    "    try:\n",
    "        ptc = butler.get('ptc',instrument='LSSTCam',detector=94,collections=f'u/lsstccs/ptc_{run}_w_2024_35')\n",
    "        plt.plot(ptc.rawMeans[amp], ptc.rawVars[amp],'-o',label=name)\n",
    "    except:\n",
    "        pass\n",
    "\n",
    "plt.loglog()\n",
    "plt.legend()"
   ]
  },
  {
   "cell_type": "code",
   "execution_count": null,
   "id": "3413ebbf-2955-4e6f-9d80-680b3905775f",
   "metadata": {},
   "outputs": [],
   "source": []
  }
 ],
 "metadata": {
  "kernelspec": {
   "display_name": "LSST",
   "language": "python",
   "name": "lsst"
  },
  "language_info": {
   "codemirror_mode": {
    "name": "ipython",
    "version": 3
   },
   "file_extension": ".py",
   "mimetype": "text/x-python",
   "name": "python",
   "nbconvert_exporter": "python",
   "pygments_lexer": "ipython3",
   "version": "3.11.9"
  }
 },
 "nbformat": 4,
 "nbformat_minor": 5
}
