{
 "cells": [
  {
   "cell_type": "code",
   "execution_count": 1,
   "id": "88de1fae-fcae-4d69-9610-fbd014775b71",
   "metadata": {
    "execution": {
     "iopub.execute_input": "2024-09-18T19:50:22.620320Z",
     "iopub.status.busy": "2024-09-18T19:50:22.620180Z",
     "iopub.status.idle": "2024-09-18T19:50:22.659646Z",
     "shell.execute_reply": "2024-09-18T19:50:22.659312Z",
     "shell.execute_reply.started": "2024-09-18T19:50:22.620306Z"
    }
   },
   "outputs": [],
   "source": [
    "from lsst.resources import ResourcePath\n",
    "from astropy.io import fits\n",
    "import os\n",
    "import numpy\n",
    "from astropy.table import Table\n",
    "from dateutil.parser import parse\n",
    "import re\n",
    "\n",
    "#MC_C_20240918_000019_R40_SG1_guider.fits\n",
    "prefix = 'MC_C_'\n",
    "p = re.compile( rf'{prefix}(\\d*)_(\\d*)_(R.._S..)_guider.fits' )\n"
   ]
  },
  {
   "cell_type": "code",
   "execution_count": 2,
   "id": "056a51ff-7270-4dad-b3a1-a9950024a546",
   "metadata": {
    "execution": {
     "iopub.execute_input": "2024-09-18T19:50:22.660387Z",
     "iopub.status.busy": "2024-09-18T19:50:22.660232Z",
     "iopub.status.idle": "2024-09-18T19:50:22.664006Z",
     "shell.execute_reply": "2024-09-18T19:50:22.663706Z",
     "shell.execute_reply.started": "2024-09-18T19:50:22.660373Z"
    }
   },
   "outputs": [],
   "source": [
    "def examineone(fname):\n",
    "    date, seqnum, sensor = p.match(fname).groups()\n",
    "    path = f's3://embargo@rubin-summit/LSSTCam/{date}/{prefix}{date}_{seqnum}/{fname}'\n",
    "    rp=ResourcePath(path)\n",
    "    with rp.open(mode=\"rb\") as f:\n",
    "        hdu_list = fits.open(f)\n",
    "    stdnoise = numpy.mean(list(map( lambda x: numpy.std(x.data), hdu_list[1:]))[1:]) \n",
    "    stdstdnoise = numpy.std(list(map( lambda x: numpy.std(x.data), hdu_list[1:]))[1:]) \n",
    "    hz = 1/numpy.mean(numpy.diff(list(map( lambda x: parse(x.header['STMPTIME']), hdu_list[1:]) )[1:])).total_seconds()\n",
    "    \n",
    "    return {\n",
    "        's3path': rp,\n",
    "        'basename': rp.abspath().basename(),\n",
    "        'noise': stdnoise,\n",
    "        'std(noise)': stdstdnoise,        \n",
    "        'Hz': hz\n",
    "    }\n",
    "    "
   ]
  },
  {
   "cell_type": "code",
   "execution_count": 3,
   "id": "64984fa9-e28b-4977-860a-a8dcb7cbb479",
   "metadata": {
    "execution": {
     "iopub.execute_input": "2024-09-18T19:50:22.664531Z",
     "iopub.status.busy": "2024-09-18T19:50:22.664412Z",
     "iopub.status.idle": "2024-09-18T19:50:25.467536Z",
     "shell.execute_reply": "2024-09-18T19:50:25.467138Z",
     "shell.execute_reply.started": "2024-09-18T19:50:22.664519Z"
    }
   },
   "outputs": [
    {
     "data": {
      "text/html": [
       "<pre style=\"margin: 0.1em;\n",
       "padding-left: 0.25em;\n",
       "border-left-style: solid;\n",
       "font-family: var(--jp-code-font-family);\n",
       "font-size: var(--jp-code-font-size);\n",
       "line-height: var(--jp-code-line-height);\n",
       "\"><span style=\"color: var(--jp-warn-color2)\">botocore.credentials</span> <span style=\"color: var(--jp-info-color0)\">INFO</span>: Found credentials in shared credentials file: /home/y/youtsumi/.lsst/aws-credentials.ini</pre>"
      ],
      "text/plain": [
       "<IPython.core.display.HTML object>"
      ]
     },
     "metadata": {},
     "output_type": "display_data"
    },
    {
     "data": {
      "text/html": [
       "<div><i>Table length=2</i>\n",
       "<table id=\"table140552850427856\" class=\"table-striped table-bordered table-condensed\">\n",
       "<thead><tr><th>basename</th><th>noise</th><th>std(noise)</th><th>Hz</th></tr></thead>\n",
       "<thead><tr><th>str40</th><th>float64</th><th>float64</th><th>float64</th></tr></thead>\n",
       "<tr><td>MC_C_20240918_000019_R40_SG1_guider.fits</td><td>9.212806203560172</td><td>0.12484796887863193</td><td>9.163131225202276</td></tr>\n",
       "<tr><td>MC_C_20240916_000327_R00_SG0_guider.fits</td><td>4.6481357175004225</td><td>0.01161241270003768</td><td>2.2182490916269972</td></tr>\n",
       "</table></div>"
      ],
      "text/plain": [
       "<Table length=2>\n",
       "                basename                 ...         Hz        \n",
       "                 str40                   ...      float64      \n",
       "---------------------------------------- ... ------------------\n",
       "MC_C_20240918_000019_R40_SG1_guider.fits ...  9.163131225202276\n",
       "MC_C_20240916_000327_R00_SG0_guider.fits ... 2.2182490916269972"
      ]
     },
     "execution_count": 3,
     "metadata": {},
     "output_type": "execute_result"
    }
   ],
   "source": [
    "Table(\n",
    "    list(map( lambda x: examineone(x), [\n",
    "        'MC_C_20240918_000019_R40_SG1_guider.fits',\n",
    "        'MC_C_20240916_000327_R00_SG0_guider.fits'\n",
    "    ])\n",
    "       )\n",
    ")['basename','noise','std(noise)','Hz']"
   ]
  },
  {
   "cell_type": "code",
   "execution_count": null,
   "id": "0180904b-f998-435b-b210-a826cc740a54",
   "metadata": {},
   "outputs": [],
   "source": []
  },
  {
   "cell_type": "code",
   "execution_count": null,
   "id": "1926409e-e614-4ef0-bca2-8991fcf7560d",
   "metadata": {},
   "outputs": [],
   "source": []
  }
 ],
 "metadata": {
  "kernelspec": {
   "display_name": "LSST",
   "language": "python",
   "name": "lsst"
  },
  "language_info": {
   "codemirror_mode": {
    "name": "ipython",
    "version": 3
   },
   "file_extension": ".py",
   "mimetype": "text/x-python",
   "name": "python",
   "nbconvert_exporter": "python",
   "pygments_lexer": "ipython3",
   "version": "3.11.9"
  }
 },
 "nbformat": 4,
 "nbformat_minor": 5
}
