{
 "cells": [
  {
   "cell_type": "code",
   "execution_count": 77,
   "id": "88de1fae-fcae-4d69-9610-fbd014775b71",
   "metadata": {
    "execution": {
     "iopub.execute_input": "2024-09-18T19:47:28.592875Z",
     "iopub.status.busy": "2024-09-18T19:47:28.592311Z",
     "iopub.status.idle": "2024-09-18T19:47:28.595670Z",
     "shell.execute_reply": "2024-09-18T19:47:28.595281Z",
     "shell.execute_reply.started": "2024-09-18T19:47:28.592857Z"
    }
   },
   "outputs": [],
   "source": [
    "from lsst.resources import ResourcePath\n",
    "from astropy.io import fits\n",
    "import os\n",
    "import numpy\n",
    "from astropy.table import Table\n",
    "from dateutil.parser import parse\n",
    "import re\n",
    "\n",
    "#MC_C_20240918_000019_R40_SG1_guider.fits\n",
    "prefix = 'MC_C_'\n",
    "p = re.compile( rf'{prefix}(\\d*)_(\\d*)_(R.._S..)_guider.fits' )\n"
   ]
  },
  {
   "cell_type": "code",
   "execution_count": 83,
   "id": "056a51ff-7270-4dad-b3a1-a9950024a546",
   "metadata": {
    "execution": {
     "iopub.execute_input": "2024-09-18T19:47:58.097115Z",
     "iopub.status.busy": "2024-09-18T19:47:58.096788Z",
     "iopub.status.idle": "2024-09-18T19:47:58.101054Z",
     "shell.execute_reply": "2024-09-18T19:47:58.100701Z",
     "shell.execute_reply.started": "2024-09-18T19:47:58.097101Z"
    }
   },
   "outputs": [],
   "source": [
    "def examineone(fname):\n",
    "    print(p.match(fname).groups())\n",
    "    date, seqnum, sensor = p.match(fname).groups()\n",
    "    path = f's3://embargo@rubin-summit/LSSTCam/{date}/{prefix}{date}_{seqnum}/{fname}'\n",
    "    print(path)\n",
    "    rp=ResourcePath(path)\n",
    "    with rp.open(mode=\"rb\") as f:\n",
    "        hdu_list = fits.open(f)\n",
    "    stdnoise = numpy.mean(list(map( lambda x: numpy.std(x.data), hdu_list[1:]))[1:]) \n",
    "    stdstdnoise = numpy.std(list(map( lambda x: numpy.std(x.data), hdu_list[1:]))[1:]) \n",
    "    hz = 1/numpy.mean(numpy.diff(list(map( lambda x: parse(x.header['STMPTIME']), hdu_list[1:]) )[1:])).total_seconds()\n",
    "    \n",
    "    return {\n",
    "        's3path': rp,\n",
    "        'basename': rp.abspath().basename(),\n",
    "        'noise': stdnoise,\n",
    "        'std(noise)': stdstdnoise,        \n",
    "        'Hz': hz\n",
    "    }\n",
    "    "
   ]
  },
  {
   "cell_type": "code",
   "execution_count": null,
   "id": "64984fa9-e28b-4977-860a-a8dcb7cbb479",
   "metadata": {
    "execution": {
     "iopub.execute_input": "2024-09-18T19:47:58.408291Z",
     "iopub.status.busy": "2024-09-18T19:47:58.407754Z"
    }
   },
   "outputs": [
    {
     "name": "stdout",
     "output_type": "stream",
     "text": [
      "('20240918', '000019', 'R40_SG1')\n",
      "s3://embargo@rubin-summit/LSSTCam/20240918/MC_C_20240918_000019/MC_C_20240918_000019_R40_SG1_guider.fits\n"
     ]
    }
   ],
   "source": [
    "Table(\n",
    "    list(map( lambda x: examineone(x), [\n",
    "        'MC_C_20240918_000019_R40_SG1_guider.fits',\n",
    "        'MC_C_20240916_000327_R00_SG0_guider.fits'\n",
    "    ])\n",
    "       )\n",
    ")['basename','noise','std(noise)','hz']"
   ]
  },
  {
   "cell_type": "code",
   "execution_count": null,
   "id": "0180904b-f998-435b-b210-a826cc740a54",
   "metadata": {},
   "outputs": [],
   "source": []
  }
 ],
 "metadata": {
  "kernelspec": {
   "display_name": "LSST",
   "language": "python",
   "name": "lsst"
  },
  "language_info": {
   "codemirror_mode": {
    "name": "ipython",
    "version": 3
   },
   "file_extension": ".py",
   "mimetype": "text/x-python",
   "name": "python",
   "nbconvert_exporter": "python",
   "pygments_lexer": "ipython3",
   "version": "3.11.9"
  }
 },
 "nbformat": 4,
 "nbformat_minor": 5
}
